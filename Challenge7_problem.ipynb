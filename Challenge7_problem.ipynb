{
 "cells": [
  {
   "cell_type": "markdown",
   "id": "65dc314f",
   "metadata": {},
   "source": [
    "# Qiskit Fall Fest 2023\n",
    "\n",
    "![QFF Logo](images/QFF-logo.png)\n",
    "\n",
    "## Challenge 7: Grover's algorithm"
   ]
  },
  {
   "cell_type": "markdown",
   "id": "be34ae32",
   "metadata": {},
   "source": [
    "양자 컴퓨터가 고전 컴퓨터에 비해 가진 많은 장점 중 하나는 데이터베이스 검색 속도가 빠르다는 것입니다. 이와 관련된 것이 **Grover's algorithm**입니다. 이 알고리즘은 unstructured search problem을 고전적인 컴퓨터보다 시간 복잡도(시간 복잡도가 무엇인지 아래에서 설명드리겠습니다) 관점에서 quadratially 빠르게 풀 수 있습니다. unstructured search problem이란 특정한 자료 구조가 없는 날 것의 데이터에서 찾고자 하는 데이터를 찾아내는 것입니다. quadratically 빠르게 풀 수 있다는 Grover's algorithm의 시간 복잡도가 고전적인 알고리즘의 시간 복잡도의 제곱근이 된다는 것입니다.\n",
    "\n",
    "### 시간 복잡도(Time complexity)\n",
    "\n",
    "알고리즘을 실행 소요시간 측면에서 분석할 때 **시간 복잡도** 라는 개념을 사용합니다. 즉, 시간 복잡도로 알고리즘의 성능을 나타낼 수 있습니다. 알고리즘에서의 명령의 실행 빈도수를 계산하여 시간 복잡도를 구하게 됩니다.\n",
    "\n",
    "이러한 시간 복잡도 표기 중 최악의 경우를 다루는 Big-O 표기법이 있습니다. Big-O 표기법은 해당 알고리즘의 수행 시간이 가장 오래 걸릴 때 얼마나 걸릴지 표기하는 방법입니다.\n",
    "\n",
    "Big-O notation의 예시를 살펴보겠습니다."
   ]
  },
  {
   "cell_type": "markdown",
   "id": "aed42703",
   "metadata": {},
   "source": [
    "1. $O(1)$\n",
    "\n",
    "입력 데이터 크기에 상관없이 언제나 일정한 시간이 걸리는 알고리즘입니다."
   ]
  },
  {
   "cell_type": "code",
   "execution_count": 1,
   "id": "eff852f8",
   "metadata": {},
   "outputs": [
    {
     "name": "stdout",
     "output_type": "stream",
     "text": [
      "5\n",
      "1\n"
     ]
    }
   ],
   "source": [
    "def constant_time(n: list):\n",
    "    return n[0]\n",
    "\n",
    "# case 1\n",
    "n1=[5,2,3,7,11,23,7,8,9]\n",
    "print(constant_time(n1))\n",
    "\n",
    "# case 2\n",
    "n2=[1,2,3,4,5,6,7,8,9,10,11,12,13,14,15,16,17,18,19,20]\n",
    "print(constant_time(n2))"
   ]
  },
  {
   "cell_type": "markdown",
   "id": "2829ab68",
   "metadata": {},
   "source": [
    "위의 함수 `constant_time`은 리스트를 입력으로 받아서 해당 리스트의 가장 첫번째 원소를 출력하는 함수입니다. 이 함수의 입력으로 100개의 원소가 있는 리스트가 입력되든, 1억개의 원소가 있는 리스트가 입력되든 결과를 출력하는데 같은 시간이 걸립니다. 그 리스트의 첫번째 원소만 읽어서 출력하면 되는 것이므로 리스트의 크기에 영향을 받지 않기 때문입니다. 이렇게 입력 데이터의 크기에 영향을 받지 않는 알고리즘은 시간 복잡도가 **O(1)** 이라고 말합니다."
   ]
  },
  {
   "cell_type": "markdown",
   "id": "63e6b2b6",
   "metadata": {},
   "source": [
    "2. $O(n)$\n",
    "\n",
    "입력 데이터의 크기에 비례해서 처리 시간이 걸리는 알고리즘입니다."
   ]
  },
  {
   "cell_type": "code",
   "execution_count": 2,
   "id": "e7c847be",
   "metadata": {},
   "outputs": [
    {
     "name": "stdout",
     "output_type": "stream",
     "text": [
      "75\n",
      "820\n"
     ]
    }
   ],
   "source": [
    "def linear_time(n):\n",
    "    sum = 0\n",
    "    for i in range(len(n)):\n",
    "        sum = sum + n[i]\n",
    "    print(sum)\n",
    "\n",
    "# case 1\n",
    "n1=[5,2,3,7,11,23,7,8,9]\n",
    "linear_time(n1)\n",
    "\n",
    "# case 2\n",
    "n2=[1,2,3,4,5,6,7,8,9,10,11,12,13,14,15,16,17,18,19,20,21,22,23,24,25,26,27,28,29,30,31,32,33,34,35,36,37,38,39,40]\n",
    "linear_time(n2)"
   ]
  },
  {
   "cell_type": "markdown",
   "id": "de16dadd",
   "metadata": {},
   "source": [
    "위의 함수 `linear_time`은 리스트의 모든 원소의 합을 출력합니다. 이 경우, 리스트의 앞에서부터 원소들을 하나씩 꺼내면서 덧셈을 진행하기 때문에 이 함수를 수행하는데 걸리는 시간은 입력 리스트 길이에 비례합니다. 이렇게 입력 데이터 크기와 알고리즘 수행 시간이 비례하는 경우 시간 복잡도가 **$O(n)$** 이라고 합니다."
   ]
  },
  {
   "cell_type": "markdown",
   "id": "a8111463",
   "metadata": {},
   "source": [
    "3. $O(2^{n})$\n",
    "\n",
    "입력 데이터의 크기가 커질수록 처리 시간이 지수적으로 늘어나는 알고리즘입니다. 입력 데이터가 조금만 커져도 알고리즘을 수행하는데 매우 오랜 시간 걸립니다. 대표적인 예시로 재귀함수를 이용하여 피보나치 수열을 구하는 알고리즘이 있습니다."
   ]
  },
  {
   "cell_type": "code",
   "execution_count": 3,
   "id": "60bc2c86",
   "metadata": {},
   "outputs": [
    {
     "name": "stdout",
     "output_type": "stream",
     "text": [
      "1\n"
     ]
    }
   ],
   "source": [
    "def fib(n):\n",
    "    if n <= 1:\n",
    "        return n\n",
    "    return fib(n-1) + fib(n-2)\n",
    "\n",
    "print(fib(1)) # 결과가 금방 나옵니다."
   ]
  },
  {
   "cell_type": "code",
   "execution_count": 4,
   "id": "d2f56cd8",
   "metadata": {},
   "outputs": [
    {
     "name": "stdout",
     "output_type": "stream",
     "text": [
      "5\n"
     ]
    }
   ],
   "source": [
    "print(fib(5)) # 마찬가지로 결과가 금방 나옵니다."
   ]
  },
  {
   "cell_type": "code",
   "execution_count": 5,
   "id": "4c18adf4",
   "metadata": {},
   "outputs": [
    {
     "name": "stdout",
     "output_type": "stream",
     "text": [
      "832040\n"
     ]
    }
   ],
   "source": [
    "print(fib(30)) # 시간이 약간 걸릴 수 있습니다"
   ]
  },
  {
   "cell_type": "code",
   "execution_count": 6,
   "id": "dbf86010",
   "metadata": {},
   "outputs": [
    {
     "name": "stdout",
     "output_type": "stream",
     "text": [
      "9227465\n"
     ]
    }
   ],
   "source": [
    "print(fib(35)) # 시간이 약간 걸립니다."
   ]
  },
  {
   "cell_type": "markdown",
   "id": "41aa4dab",
   "metadata": {},
   "source": [
    "`fib(100)` 과 같은 것은 시도하지 않는 것이 좋습니다. 계산하는데 시간이 엄청 오래 걸릴 것이기 때문입니다!"
   ]
  },
  {
   "cell_type": "markdown",
   "id": "55103ca0",
   "metadata": {},
   "source": [
    "## Part 1: Overview of Grover's algorithm"
   ]
  },
  {
   "cell_type": "markdown",
   "id": "cc18980b",
   "metadata": {},
   "source": [
    "![picture1](images/challenge7_circuit1.png)\n",
    "\n",
    "그림 출처: [Qiskit textbook](https://learn.qiskit.org/course/ch-algorithms/grovers-algorithm)"
   ]
  },
  {
   "cell_type": "markdown",
   "id": "73c68581",
   "metadata": {},
   "source": [
    "구조가 없는(= 정돈되지 않은 = unstructured) $N$개의 데이터가 있는 리스트에서 보라색으로 마킹 되어 있는 것을 찾고 싶습니다. 고전적인 컴퓨터로는 리스트 원소를 하나씩 다 살펴보면서 우리가 찾고자 하는 데이터(마킹 되어 있는 데이터)와 같은지 비교하면서 찾아야 합니다. 평균적으로는 $N/2$번 정도 리스트 원소가 우리가 찾고자 하는 데이터와 같은지 확인하면 될 것입니다. 최악의 경우 $N$ 번 시도를 해야합니다. 즉, 고전적인 컴퓨터로 unstructured 데이터들에서 원하는 데이터를 찾는 알고리즘의 시간 복잡도가 $O(N)$ 이라는 것입니다.\n",
    "\n",
    "하지만 양자 컴퓨터를 이용하여 Grover's algorithm을 수행하면 $\\sqrt{N}$에 비례하는 횟수만큼 연산을 수행하면 됩니다. 따라서 unstructured search problem에 대해 양자 컴퓨터를 사용하면 고전 컴퓨터를 사용할 때보다 quadratically speed up 이 된다고 말하는 것입니다."
   ]
  },
  {
   "cell_type": "markdown",
   "id": "6a8e9a78",
   "metadata": {},
   "source": [
    "Grover's algorithm은 다음 3가지 과정으로 구성됩니다.\n",
    "\n",
    "1. state preparation\n",
    "2. Grover's oracle\n",
    "3. diffusion operator\n",
    "\n",
    "찾고자 하는 데이터가 있는 공간들을 양자 상태로 표현할 수 있습니다. 예를 들어 리스트의 첫번째를 $|00000\\rangle$, 두번째를 $|00001\\rangle$으로 표현할 수 있습니다. **State preparation** 단계에서는 이러한 모든 양자 상태를 중첩시키는 것입니다. 찾아야 하는 데이터 공간 전체를 중첩시키는 상태로 양자 상태를 준비하는 것입니다. **Oracle**은 찾고자 하는 데이터에 마킹을 하는 연산을 의미하고, **diffusion operator**는 마킹된 정답들이 관측될 확률을 높여주는 연산을 의미합니다.\n",
    "\n",
    "![grover step](./images/grover_steps.png)"
   ]
  },
  {
   "cell_type": "markdown",
   "id": "0b3f3f0a",
   "metadata": {},
   "source": [
    "## Part 2: State preparation - Grover's algorithm\n",
    "\n",
    "n개의 qubits가 있다면 총 $2^{n}$개의 데이터를 표현할 수 있습니다. 예를 들어 3개의 qubits가 있는 경우 $|000\\rangle,\\,|001\\rangle,\\,|010\\rangle,\\,|011\\rangle,\\,|100\\rangle,\\,|101\\rangle,\\,|110\\rangle,\\,|111\\rangle$ 총 $2^{3} = 8$가지 경우의 수가 있습니다. 3 qubits의 경우 다음과 같은 상태가 모든 양자 상태를 중첩 시킨 상태입니다.\n",
    "\n",
    "$$\\frac{1}{2\\sqrt{2}}[|000\\rangle + |001\\rangle + |010\\rangle + |011\\rangle + |100\\rangle + |101\\rangle + |110\\rangle + |111\\rangle]$$\n",
    "\n",
    "이렇게 모든 양자 상태를 중첩시키려면 어떻게 해야할까요? 아시다시피 Qiskit에서 양자 회로는 모든 qubit들이 $|0\\rangle$ 상태입니다. 이러한 모든 qubit에 hadamard gate를 가하면 어떻게 될까요? 아래의 식은 다들 아실 것입니다.\n",
    "\n",
    "$$H|0\\rangle = \\frac{1}{\\sqrt{2}}\\begin{bmatrix}1&1\\\\1&-1\\\\ \\end{bmatrix}\\begin{bmatrix}1\\\\0\\\\ \\end{bmatrix} = \\frac{1}{\\sqrt{2}}\\begin{bmatrix}1\\\\1\\\\ \\end{bmatrix} = \\frac{1}{\\sqrt{2}}[|0\\rangle + |1\\rangle]$$\n",
    "\n",
    "3qubits에 각각 hadmard gate를 가하면 어떻게 되는지 아래의 수식을 보시길 바랍니다.\n",
    "\n",
    "$$\n",
    "\\begin{aligned}\n",
    "H^{\\otimes3}|0\\rangle^{\\otimes3}\n",
    "&= H|0\\rangle H|0\\rangle H|0\\rangle\\\\\n",
    "&= \\frac{1}{2\\sqrt{2}}(|0\\rangle + |1\\rangle)(|0\\rangle + |1\\rangle)(|0\\rangle + |1\\rangle)\\\\\n",
    "&= \\frac{1}{2\\sqrt{2}}[|000\\rangle + |001\\rangle + |010\\rangle + |011\\rangle + |100\\rangle + |101\\rangle + |110\\rangle + |111\\rangle]\n",
    "\\end{aligned}\n",
    "$$\n",
    "\n",
    "3 qubits 예시를 보면 모든 qubit에 hadamard gate를 가하면 3 qubits가 가질 수 있는 모든 양자상태를 중첩시킨 상태가 나온다는 것을 알 수 있습니다. 이는 3 qubits일 때에만 해당하는 것이 아니라 일반적인 n qubits 일 때에도 성립합니다.\n",
    "\n",
    "이렇게 가능한 n qubits의 computational basis 기반으로 모든 양자 상태를 모두 중첩시킨 양자 상태를 이번 챌린지에서는 $|s\\rangle$ 이라고 정의합시다. 뒤에서 이 $|s\\rangle$ 에 대한 언급이 계속해서 나올 것입니다!!\n",
    "\n",
    "$$|s\\rangle = H^{\\otimes n}|0\\rangle^{\\otimes n}$$"
   ]
  },
  {
   "cell_type": "markdown",
   "id": "75ec0f75",
   "metadata": {},
   "source": [
    "이제 코딩을 하기 위해 필요한 패키지들을 import 하겠습니다."
   ]
  },
  {
   "cell_type": "code",
   "execution_count": 7,
   "id": "54ef30d6",
   "metadata": {},
   "outputs": [],
   "source": [
    "import matplotlib.pyplot as plt\n",
    "import numpy as np\n",
    "import math\n",
    "\n",
    "from qiskit import IBMQ, Aer, transpile, qasm3\n",
    "from qiskit import QuantumCircuit, ClassicalRegister, QuantumRegister\n",
    "from qiskit_ibm_provider import least_busy, IBMProvider\n",
    "from qiskit.quantum_info import Statevector\n",
    "from qiskit.circuit.library import MCMT\n",
    "\n",
    "from qiskit.visualization import plot_histogram, array_to_latex\n",
    "\n",
    "from qiskit_aer import AerSimulator, QasmSimulator"
   ]
  },
  {
   "cell_type": "markdown",
   "id": "7a1b41ae",
   "metadata": {},
   "source": [
    "여러분은 이번 challenge에서 5 qubits에서의 Grover's algorithm을 구현하시게 될 것입니다. 5개의 qubits를 가진 빈 회로인 base 회로를 아래의 코드 셀에서 제공해드리겠습니다."
   ]
  },
  {
   "cell_type": "code",
   "execution_count": 8,
   "id": "d3936d54",
   "metadata": {},
   "outputs": [
    {
     "data": {
      "image/png": "[encoded data removed]",
      "text/plain": [
       "<Figure size 162.08x451.5 with 1 Axes>"
      ]
     },
     "execution_count": 8,
     "metadata": {},
     "output_type": "execute_result"
    }
   ],
   "source": [
    "q = QuantumRegister(5, name = \"q\")\n",
    "base = QuantumCircuit(q)\n",
    "base.draw(\"mpl\")"
   ]
  },
  {
   "cell_type": "markdown",
   "id": "18d87dd5",
   "metadata": {},
   "source": [
    "### 문제 1\n",
    "\n",
    "아래의 코드 셀에서 `state_preparation` 함수를 작성하시길 바랍니다. 함수의 입력으로 들어온 QuantumCircuit의 5개의 qubit에 전부 hadamard gate를 가하는 함수를 만드시면 됩니다."
   ]
  },
  {
   "cell_type": "code",
   "execution_count": 10,
   "id": "1bf5f3d2",
   "metadata": {},
   "outputs": [
    {
     "ename": "IndentationError",
     "evalue": "expected an indented block after function definition on line 1 (3262624798.py, line 9)",
     "output_type": "error",
     "traceback": [
      "\u001b[1;36m  Cell \u001b[1;32mIn[10], line 9\u001b[1;36m\u001b[0m\n\u001b[1;33m    qc = base.copy_empty_like()\u001b[0m\n\u001b[1;37m    ^\u001b[0m\n\u001b[1;31mIndentationError\u001b[0m\u001b[1;31m:\u001b[0m expected an indented block after function definition on line 1\n"
     ]
    }
   ],
   "source": [
    "def state_preparation(circuit: QuantumCircuit) -> None:\n",
    "    \n",
    "    ## Write your code below this line, making sure it's indented to where this comment begins from ## \n",
    "    \n",
    "    \n",
    "\n",
    "    ## Do not change the code below this line ##\n",
    "    \n",
    "qc = base.copy_empty_like()\n",
    "state_preparation(qc)\n",
    "answer1 = qc\n",
    "qc.draw('mpl', cregbundle=False)"
   ]
  },
  {
   "cell_type": "code",
   "execution_count": 11,
   "id": "b474ef12",
   "metadata": {},
   "outputs": [
    {
     "ename": "ImportError",
     "evalue": "cannot import name 'grade' from 'qff_ku_grader' (C:\\ProgramData\\Anaconda3\\envs\\qff_ku2023\\lib\\site-packages\\qff_ku_grader\\__init__.py)",
     "output_type": "error",
     "traceback": [
      "\u001b[1;31m---------------------------------------------------------------------------\u001b[0m",
      "\u001b[1;31mImportError\u001b[0m                               Traceback (most recent call last)",
      "Cell \u001b[1;32mIn[11], line 4\u001b[0m\n\u001b[0;32m      1\u001b[0m \u001b[38;5;66;03m# Grader Cell: Run this to submit your answer\u001b[39;00m\n\u001b[0;32m      2\u001b[0m \u001b[38;5;66;03m# 개발노트) Statevector로 굳이 비교할 필요 없을 듯? 다들 똑같이 hadamard gate가할테니..\u001b[39;00m\n\u001b[0;32m      3\u001b[0m \u001b[38;5;66;03m# 개발노트) Ry(pi/2) 이런거 가하는 사람은 틀린 건 아니지만.. 문제에서 의도한 바는 아니니 자르기\u001b[39;00m\n\u001b[1;32m----> 4\u001b[0m \u001b[38;5;28;01mfrom\u001b[39;00m \u001b[38;5;21;01mqff_ku_grader\u001b[39;00m \u001b[38;5;28;01mimport\u001b[39;00m grade\n\u001b[0;32m      6\u001b[0m grade(answer1\u001b[38;5;241m.\u001b[39mqasm(), \u001b[38;5;124m\"\u001b[39m\u001b[38;5;124mChallenge7a\u001b[39m\u001b[38;5;124m\"\u001b[39m)\n",
      "\u001b[1;31mImportError\u001b[0m: cannot import name 'grade' from 'qff_ku_grader' (C:\\ProgramData\\Anaconda3\\envs\\qff_ku2023\\lib\\site-packages\\qff_ku_grader\\__init__.py)"
     ]
    }
   ],
   "source": [
    "# Grader Cell: Run this to submit your answer\n",
    "# 개발노트) Statevector로 굳이 비교할 필요 없을 듯? 다들 똑같이 hadamard gate가할테니..\n",
    "# 개발노트) Ry(pi/2) 이런거 가하는 사람은 틀린 건 아니지만.. 문제에서 의도한 바는 아니니 자르기\n",
    "from qff_ku_grader import grade\n",
    "\n",
    "grade(answer1.qasm(), \"Challenge7a\")"
   ]
  },
  {
   "cell_type": "code",
   "execution_count": 12,
   "id": "3b197149",
   "metadata": {},
   "outputs": [
    {
     "data": {
      "text/latex": [
       "$$0.1767766953 |00000\\rangle+0.1767766953 |00001\\rangle+0.1767766953 |00010\\rangle+0.1767766953 |00011\\rangle+0.1767766953 |00100\\rangle+0.1767766953 |00101\\rangle + \\ldots +0.1767766953 |11011\\rangle+0.1767766953 |11100\\rangle+0.1767766953 |11101\\rangle+0.1767766953 |11110\\rangle+0.1767766953 |11111\\rangle$$"
      ],
      "text/plain": [
       "<IPython.core.display.Latex object>"
      ]
     },
     "execution_count": 12,
     "metadata": {},
     "output_type": "execute_result"
    }
   ],
   "source": [
    "Statevector(qc).draw('latex')"
   ]
  },
  {
   "cell_type": "markdown",
   "id": "cf6a5799",
   "metadata": {},
   "source": [
    "## Part 2: Creating the Oracle\n",
    "\n",
    "Grover's algorithm의 두번째이자 가장 중요한 것은 oracle을 만드는 과정입니다. Oracle은 우리가 찾고자 하는 양자 상태의 위상만 음수로 바꾸어 주고 나머지 양자 상태는 그대로 두는 것입니다.\n",
    "\n",
    "$$\n",
    "U_{\\omega} = \\bigg\\{\\begin{matrix}\n",
    "\\;\\;\\,|x\\rangle \\quad if \\quad x \\neq \\omega \\\\\n",
    "-|x\\rangle \\quad if \\quad x = \\omega\n",
    "\\end{matrix}\n",
    "$$\n",
    "\n",
    "$|\\omega\\rangle = |11111\\rangle$에 대해 oracle을 작성해보면 다음과 같습니다."
   ]
  },
  {
   "cell_type": "code",
   "execution_count": 13,
   "id": "aa919c55",
   "metadata": {},
   "outputs": [
    {
     "data": {
      "image/png": "[encoded data removed]",
      "text/plain": [
       "<Figure size 371.107x451.5 with 1 Axes>"
      ]
     },
     "execution_count": 13,
     "metadata": {},
     "output_type": "execute_result"
    }
   ],
   "source": [
    "def cnz(n: int) -> QuantumCircuit:\n",
    "    circuit = QuantumCircuit(n)\n",
    "    circuit.h(n-1)\n",
    "    circuit.mcx([i for i in range(n-1)], n-1)\n",
    "    circuit.h(n-1)\n",
    "    return circuit\n",
    "\n",
    "cnz(5).draw(\"mpl\")"
   ]
  },
  {
   "cell_type": "markdown",
   "id": "7b463046",
   "metadata": {},
   "source": [
    "위의 회로는 5개의 qubit 모두 $|1\\rangle$ 일 때, 위상을 뒤집어주는 기능을 합니다. 이를 `c5z` gate라고 부르겠습니다.\n",
    "\n",
    "다음은 두 개의 양자 회로를 합치는 방법을 가르쳐드리겠습니다. QuantumCircuit의 `compose()`메서드를 사용하시면 됩니다. 아래의 두 코드 셀은 그 예시입니다."
   ]
  },
  {
   "cell_type": "code",
   "execution_count": 14,
   "id": "81be3f11",
   "metadata": {},
   "outputs": [
    {
     "name": "stdout",
     "output_type": "stream",
     "text": [
      "example 1\n"
     ]
    },
    {
     "data": {
      "image/png": "[encoded data removed]",
      "text/plain": [
       "<Figure size 203.683x200.667 with 1 Axes>"
      ]
     },
     "metadata": {},
     "output_type": "display_data"
    },
    {
     "name": "stdout",
     "output_type": "stream",
     "text": [
      "example 2\n"
     ]
    },
    {
     "data": {
      "image/png": "[encoded data removed]",
      "text/plain": [
       "<Figure size 370.906x200.667 with 1 Axes>"
      ]
     },
     "metadata": {},
     "output_type": "display_data"
    },
    {
     "name": "stdout",
     "output_type": "stream",
     "text": [
      "example1 = example1 + example2\n"
     ]
    },
    {
     "data": {
      "image/png": "[encoded data removed]",
      "text/plain": [
       "<Figure size 454.517x200.667 with 1 Axes>"
      ]
     },
     "execution_count": 14,
     "metadata": {},
     "output_type": "execute_result"
    }
   ],
   "source": [
    "example1 = QuantumCircuit(2)\n",
    "example1.x(0)\n",
    "example1.h(1)\n",
    "print(\"example 1\")\n",
    "display(example1.draw(\"mpl\"))\n",
    "\n",
    "example2 = QuantumCircuit(2)\n",
    "example2.y(0)\n",
    "example2.z(0)\n",
    "example2.cx(1,0)\n",
    "print(\"example 2\")\n",
    "display(example2.draw(\"mpl\"))\n",
    "\n",
    "# Add example2 circuit to example1 circuit\n",
    "example1.compose(example2, inplace=True)\n",
    "print(\"example1 = example1 + example2\")\n",
    "example1.draw('mpl')"
   ]
  },
  {
   "cell_type": "markdown",
   "id": "6aa52655",
   "metadata": {},
   "source": [
    "### 문제 2\n",
    "\n",
    "`oracle` 함수 내부에 $|\\omega\\rangle = |11010\\rangle$에 대한 oracle 가능을 할 수 있는 양자 회로를 반환해주는 코드를 작성해주시길 바랍니다. $|\\omega\\rangle = |11010\\rangle$에 대한 oracle은 다음과 같은 과정을 통해 작성하시면 됩니다.\n",
    "\n",
    "1. `q2`와 `q0`에 X gate를 가합니다.\n",
    "2. 5 qubits에 `c5z` gate를 가합니다. `cnz`함수와 `compose` 매서드를 사용하면 될 것입니다.\n",
    "3. `q2`와 `q0`에 X gate를 가합니다."
   ]
  },
  {
   "cell_type": "code",
   "execution_count": 16,
   "id": "4418d224",
   "metadata": {},
   "outputs": [
    {
     "data": {
      "image/png": "[encoded data removed]",
      "text/plain": [
       "<Figure size 287.496x451.5 with 1 Axes>"
      ]
     },
     "execution_count": 16,
     "metadata": {},
     "output_type": "execute_result"
    }
   ],
   "source": [
    "def oracle(circuit: QuantumCircuit) -> None:\n",
    "    \"\"\"Grover's oracle for |11010>\"\"\"\n",
    "    \n",
    "    ## Write your code below this line, making sure it's indented to where this comment begins from ## \n",
    "    \n",
    "    \n",
    "\n",
    "    ## Do not change the code below this line ##\n",
    "    \n",
    "qc = base.copy_empty_like()\n",
    "state_preparation(qc)\n",
    "qc.barrier()\n",
    "oracle(qc)\n",
    "qc.draw('mpl', cregbundle=False)"
   ]
  },
  {
   "cell_type": "code",
   "execution_count": 17,
   "id": "eeaa1486",
   "metadata": {},
   "outputs": [
    {
     "ename": "ImportError",
     "evalue": "cannot import name 'grade' from 'qff_ku_grader' (C:\\ProgramData\\Anaconda3\\envs\\qff_ku2023\\lib\\site-packages\\qff_ku_grader\\__init__.py)",
     "output_type": "error",
     "traceback": [
      "\u001b[1;31m---------------------------------------------------------------------------\u001b[0m",
      "\u001b[1;31mImportError\u001b[0m                               Traceback (most recent call last)",
      "Cell \u001b[1;32mIn[17], line 3\u001b[0m\n\u001b[0;32m      1\u001b[0m \u001b[38;5;66;03m# Grader Cell: Run this to submit your answer\u001b[39;00m\n\u001b[1;32m----> 3\u001b[0m \u001b[38;5;28;01mfrom\u001b[39;00m \u001b[38;5;21;01mqff_ku_grader\u001b[39;00m \u001b[38;5;28;01mimport\u001b[39;00m grade\n\u001b[0;32m      5\u001b[0m answer2 \u001b[38;5;241m=\u001b[39m qc\n\u001b[0;32m      6\u001b[0m grade(answer2\u001b[38;5;241m.\u001b[39mqasm(), \u001b[38;5;124m\"\u001b[39m\u001b[38;5;124mChallenge7b\u001b[39m\u001b[38;5;124m\"\u001b[39m)\n",
      "\u001b[1;31mImportError\u001b[0m: cannot import name 'grade' from 'qff_ku_grader' (C:\\ProgramData\\Anaconda3\\envs\\qff_ku2023\\lib\\site-packages\\qff_ku_grader\\__init__.py)"
     ]
    }
   ],
   "source": [
    "# Grader Cell: Run this to submit your answer\n",
    "\n",
    "from qff_ku_grader import grade\n",
    "\n",
    "answer2 = qc\n",
    "grade(answer2.qasm(), \"Challenge7b\")"
   ]
  },
  {
   "cell_type": "markdown",
   "id": "10f86cdc",
   "metadata": {},
   "source": [
    "## Part 3: Creating the Diffuser operator"
   ]
  },
  {
   "cell_type": "markdown",
   "id": "70a09da1",
   "metadata": {},
   "source": [
    "Diffusion operator는 현재 양자 상태를 $|s\\rangle$에 대해 대칭 이동 시켜주는 연산을 의미합니다. 방금 말씀드린 문장이 잘 이해가 안 되실 수 있습니다. 일단은 이해가 안 되더라도 넘어가 주시길 바랍니다. Part 4에서 $|s\\rangle$에 대한 대칭 이라는 것이 무슨 의미였는지 그림을 통해 설명드리겠습니다.\n",
    "\n",
    "$|s\\rangle$에 대한 대칭이동을 시켜주는 operator $U_{s}$는 다음과 같이 쓸 수 있습니다.\n",
    "\n",
    "$$\n",
    "\\begin{aligned}\n",
    "U_{s} &= 2|s\\rangle\\langle s| - I\\\\\n",
    "&= H^{\\otimes n}(2|0\\rangle^{\\otimes n}\\langle0|^{\\otimes n} - I)H^{\\otimes n}\\\\\n",
    "&= H^{\\otimes n}X^{\\otimes n}(2|1\\rangle^{\\otimes n}\\langle1|^{\\otimes n} - I)X^{\\otimes n}H^{\\otimes n}\n",
    "\\end{aligned}\n",
    "$$"
   ]
  },
  {
   "cell_type": "markdown",
   "id": "119db8b7",
   "metadata": {},
   "source": [
    "### 문제 3\n",
    "\n",
    "함수 `diffusion_op`는 위의 $U_{s}$ 연산을 양자 회로에 가하는 것입니다. 위 공식의 마지막 줄에 집중해주세요. 가장 오른쪽에 있는 $H^{\\otimes n}$가 양자 회로에 가장 먼저 나타나야 합니다. 두번째로는 $X^{\\otimes n}$를 가해야 하며, 그 다음에는 $2|1\\rangle^{\\otimes n}\\langle1|^{\\otimes n} - I$를 가해야 하고, 그 다음에는 $X^{\\otimes n}$와 $H^{\\otimes n}$ 순서로 가해야 합니다.\n",
    "\n",
    "참고로 $2|1\\rangle^{\\otimes n}\\langle1|^{\\otimes n} - I$는 qubits 모두 $|1\\rangle$인 경우 위상을 뒤집어주는 `c5z`와 같은 의미입니다.\n",
    "\n",
    "다음 셀에서 `diffusion_op` 함수 내부를 채워주시길 바랍니다. `diffusion_op`에서는 다음 과정들을 수행하도록 코딩하시면 됩니다.\n",
    "\n",
    "1. 5개의 qubits에 전부 hadamard gate를 가합니다.\n",
    "2. 5개의 qubits에 전부 $X$ gate를 가합니다.\n",
    "3. 5개의 qubits에 `c5z`를 가합니다.\n",
    "4. 5개의 qubits에 전부 $X$ gate를 가합니다.\n",
    "5. 5개의 qubits에 전부 hadamard gate를 가합니다."
   ]
  },
  {
   "cell_type": "code",
   "execution_count": 19,
   "id": "8e855c1c",
   "metadata": {},
   "outputs": [
    {
     "data": {
      "image/png": "[encoded data removed]",
      "text/plain": [
       "<Figure size 371.107x451.5 with 1 Axes>"
      ]
     },
     "execution_count": 19,
     "metadata": {},
     "output_type": "execute_result"
    }
   ],
   "source": [
    "def diffusion_op(circuit: QuantumCircuit) -> None:\n",
    "    \"\"\"diffusion operator for 5qubits\"\"\"\n",
    "    \n",
    "    # Write your code below this line, making sure it's indented to where this comment begins from ## \n",
    "\n",
    "    \n",
    "\n",
    "    ## Do not change the code below this line ##\n",
    "    \n",
    "qc = base.copy_empty_like()\n",
    "state_preparation(qc)\n",
    "qc.barrier()\n",
    "oracle(qc)\n",
    "qc.barrier()\n",
    "diffusion_op(qc)\n",
    "qc.draw('mpl', cregbundle=False)"
   ]
  },
  {
   "cell_type": "code",
   "execution_count": 20,
   "id": "0a39a705",
   "metadata": {},
   "outputs": [
    {
     "ename": "ImportError",
     "evalue": "cannot import name 'grade' from 'qff_ku_grader' (C:\\ProgramData\\Anaconda3\\envs\\qff_ku2023\\lib\\site-packages\\qff_ku_grader\\__init__.py)",
     "output_type": "error",
     "traceback": [
      "\u001b[1;31m---------------------------------------------------------------------------\u001b[0m",
      "\u001b[1;31mImportError\u001b[0m                               Traceback (most recent call last)",
      "Cell \u001b[1;32mIn[20], line 3\u001b[0m\n\u001b[0;32m      1\u001b[0m \u001b[38;5;66;03m# Grader Cell: Run this to submit your answer\u001b[39;00m\n\u001b[1;32m----> 3\u001b[0m \u001b[38;5;28;01mfrom\u001b[39;00m \u001b[38;5;21;01mqff_ku_grader\u001b[39;00m \u001b[38;5;28;01mimport\u001b[39;00m grade\n\u001b[0;32m      5\u001b[0m answer3 \u001b[38;5;241m=\u001b[39m qc\n\u001b[0;32m      6\u001b[0m grade(answer3\u001b[38;5;241m.\u001b[39mqasm(), \u001b[38;5;124m\"\u001b[39m\u001b[38;5;124mChallenge7c\u001b[39m\u001b[38;5;124m\"\u001b[39m)\n",
      "\u001b[1;31mImportError\u001b[0m: cannot import name 'grade' from 'qff_ku_grader' (C:\\ProgramData\\Anaconda3\\envs\\qff_ku2023\\lib\\site-packages\\qff_ku_grader\\__init__.py)"
     ]
    }
   ],
   "source": [
    "# Grader Cell: Run this to submit your answer\n",
    "\n",
    "from qff_ku_grader import grade\n",
    "\n",
    "answer3 = qc\n",
    "grade(answer3.qasm(), \"Challenge7c\")"
   ]
  },
  {
   "cell_type": "markdown",
   "id": "97f8df11",
   "metadata": {},
   "source": [
    "## Part 4: Repeat oracle and diffusion operator"
   ]
  },
  {
   "cell_type": "markdown",
   "id": "5e1522c4",
   "metadata": {},
   "source": [
    "이제 데이터 셋의 크기가 $N=2^{5}=32$인 Grover's algorithm의 모든 구성요소들을 잘 구성하셨습니다. 아직 Grover's algorithm을 완성한 것은 아닙니다. Grover's algorithm은 state preparation을 한 뒤에 oracle과 diffusion operator 2개를 적절한 횟수로 반복해서 가해야 합니다. 그 2개를 왜 반복해서 가해야하는지, 그리고 얼마나 반복해서 가해야 하는지 지금부터 살펴보겠습니다.\n",
    "\n",
    "### Step 1: State preparation\n",
    "앞에서 모든 데이터들의 중첩 상태(computational basis 기반으로 가능한 모든 양자 상태들의 중첩 상태)를 $|s\\rangle$이라 하기로 하였습니다. 그 중에는 우리가 찾고자 하는 데이터에 해당하는 양자상태인 $|\\omega\\rangle$도 포함되어 있을 것입니다. $|s\\rangle$에 중첩되어 있는 상태들 중 $|\\omega\\rangle$를 제외한 나머지 상태들(답이 아닌 상태들)의 중첩 상태를 $|s^{'}\\rangle$이라고 합시다. 이 때, state preparation 과정을 거치면 현재 상태는 $|s\\rangle$이 됩니다.\n",
    "\n",
    "![grover_step1](images/grover_step1.jpg)\n",
    "\n",
    "위의 그림을 보십시오. **왼쪽 그림**은 현재 state preparation까지 했을 때의 양자 상태를 보라색으로 칠하였습니다. **오른쪽 그림**은 이 챌린지의 Part 1의 첫번째 그림과 같이 우리가 찾고자 하는 상태를 보라색으로 표현한 것입니다.\n",
    "\n",
    "위의 그림에서 왜 $|s\\rangle$가 $|\\omega\\rangle$보다 $|s^{'}\\rangle$쪽으로 치우쳐저 있을까요? 그 이유는 $|s\\rangle$를 computational basis로 측정하였을 때, 하나의 정답인 상태인 $|\\omega\\rangle$보다 N-1개의 정답이 아닌 상태인 $|s^{'}\\rangle$ 중에 하나로 측정될 확률이 더 크기 때문입니다. 이를 정량적으로 보기 위해서 수식을 조금 보겠습니다.\n",
    "\n",
    "$$\n",
    "\\begin{aligned}\n",
    "&|s\\rangle = \\frac{1}{\\sqrt{N}}\\sum_{x=0}^{N-1}|x\\rangle\\\\\\\\\n",
    "&|\\omega\\rangle\\\\\\\\\n",
    "&|s^{'}\\rangle = \\frac{1}{\\sqrt{N-1}}\\sum_{x=0,\\; x \\neq \\omega}^{N-1}|x\\rangle\\\\\\\\\n",
    "\\end{aligned}\n",
    "$$\n",
    "\n",
    "따라서 다음과 같은 관계가 성립합니다.\n",
    "\n",
    "$$ |s\\rangle = \\frac{1}{\\sqrt{N}}|\\omega\\rangle + \\frac{\\sqrt{N-1}}{\\sqrt{N}}|s^{'}\\rangle $$\n",
    "\n",
    "즉 $|s\\rangle$에는 $|\\omega\\rangle$이 $1/\\sqrt{N}$만큼 있다는 것입니다.\n",
    "따라서 위 그림 왼쪽 그림에 있는 $\\theta$는 다음의 수식을 만족합니다. \n",
    "$$\\sin(\\theta) = \\frac{1}{\\sqrt{N}}$$\n",
    "\n"
   ]
  },
  {
   "cell_type": "markdown",
   "id": "36490b27",
   "metadata": {},
   "source": [
    "### Step 2: Apply oracle\n",
    "\n",
    "이제 Oracle $U_{\\omega}$를 가하면 우리가 마킹한 $|\\omega\\rangle$만 위상이 뒤집히므로 다음 그림과 같이 됩니다.\n",
    "\n",
    "![grover_step2](images/grover_step2.jpg)"
   ]
  },
  {
   "cell_type": "markdown",
   "id": "bd3aef43",
   "metadata": {},
   "source": [
    "### Step 3: Apply diffusion operator\n",
    "\n",
    "Part 3에서 말하길, $U_{s}$는 현재 양자 상태를 $|s\\rangle$에 대해 대칭 이동 시키는 것이라고 하였습니다. $U_{s}$를 가하면 어떻게 되는지 아래의 그림을 보시면 이해가 될 것입니다.\n",
    "\n",
    "![grover_step3](images/grover_step3.jpg)"
   ]
  },
  {
   "cell_type": "markdown",
   "id": "3c2ab769",
   "metadata": {},
   "source": [
    "위 그림의 왼쪽 파트의 보라색으로 표현된 diffusion operator를 거친 양자 상태는 초기 양자 상태에 비해 $|\\omega\\rangle$과 가까워졌습니다. oracle과 diffusion operator를 번갈아 가면서 가할 때마다 $|\\omega\\rangle$와 이루는 각도가 $2\\theta$만큼 작아집니다.\n",
    "\n",
    "State preparation 이후 oracle과 diffusion operator를 $n$번 가한다고 합시다. 그럼 최종적인 양자 상태가 $|s^{'}\\rangle$과 이루는 각도는 다음과 같이 됩니다.\n",
    "\n",
    "$$(2n+1)\\theta$$\n",
    "\n",
    "이 각도가 90도(라디안으로 표현 하면 $\\pi/2$)와 가장 가까울 때(최종적인 양자상태가 $|\\omega\\rangle$와 가장 가까울 때) oracle과 diffusion operator 반복하여 가하는 것을 멈추면 됩니다.\n",
    "위의 **Step 1**에서 $\\theta$가 $\\sin(\\theta) = \\frac{1}{\\sqrt{N}}$을 만족함을 보였습니다. 좀 더 간단하게 하기 위해서 우리가 가진 unstructured 데이터 셋의 크기인 $N$이 엄청나게 크다고 가정합시다(이런 경우에 사람이 하나 하나 확인하며 search를 하는 것보단 컴퓨터를 사용하여 search를 하는 것이 적절할 것입니다).\n",
    "\n",
    "$N$이 큰 숫자라면 $\\sin(\\theta) = \\frac{1}{\\sqrt{N}}$이므로 $\\sin(\\theta)$는 0에 가까워질 것입니다. 이 경우에, 여러분이 고등학교 때 배운 $\\sin(\\theta) \\simeq \\theta$ 성질을 사용할 수 있습니다.\n",
    "\n",
    "따라서, $N$이 클 경우 다음과 같이 표현할 수 있습니다.\n",
    "$$\\theta \\simeq \\frac{1}{\\sqrt{N}}$$\n",
    "\n",
    "따라서, State preparation 이후 oracle과 diffusion operator를 $n$번 가했을 때 최종적인 양자 상태가 $|s^{'}\\rangle$과 이루는 각도를 다음과 같이 쓸 수 있습니다.\n",
    "\n",
    "$$(2n+1)\\theta \\simeq \\frac{2n+1}{\\sqrt{N}}$$\n",
    "\n",
    "그리고 이 값이 90도와 가장 가까워질때까지 oracle과 diffusion operator를 반복해야 하므로 $N$이 큰 수인 경우, 우리가 oracle과 diffusion operator를 반복해야하는 n의 횟수는 다음과 같이 쓸 수 있습니다.\n",
    "\n",
    "$$\\DeclareMathOperator*{\\argmin}{arg\\,min}\\\\\n",
    "\\argmin_{n}\\Bigg|\\frac{2n+1}{\\sqrt{N}} - \\frac{\\pi}{2}\\Bigg|$$"
   ]
  },
  {
   "cell_type": "markdown",
   "id": "e9e04973",
   "metadata": {},
   "source": [
    "그러면 연산의 반복 횟수 $n$이 $\\sqrt{N}$에 비례한다는 것을 알 수 있습니다.\n",
    "\n",
    "**즉, Grover's algorithm의 시간 복잡도는 $O(\\sqrt{N})$입니다.**"
   ]
  },
  {
   "cell_type": "markdown",
   "id": "a7a094b3",
   "metadata": {},
   "source": [
    "### 문제 4\n",
    "\n",
    "다음 코드 셀에 있는 함수 `grover(n)`은 oracle과 diffusion을 n번 반복하는 Grover's algorithm 양자 회로를 반환하는 함수입니다.\n",
    "\n",
    "다다음 코드 셀에서는 이 `grover(n)`에서 반환한 회로를 측정한 결과를 `plot_histogram()`함수를 통해 히스토그램으로 보여주는 것입니다. 다다음 코드 셀에서 `n`의 값을 바꿔보며 가장 $|11010\\rangle$이 나올 확률이 높은 반복 횟수를 찾으시길 바랍니다. 그 횟수를 다다다음 코드 셀의 `answer4`에 대입해주세요!"
   ]
  },
  {
   "cell_type": "code",
   "execution_count": 21,
   "id": "4e0f6f11",
   "metadata": {},
   "outputs": [
    {
     "data": {
      "image/png": "[encoded data removed]",
      "text/plain": [
       "<Figure size 1165.66x535.111 with 1 Axes>"
      ]
     },
     "execution_count": 21,
     "metadata": {},
     "output_type": "execute_result"
    }
   ],
   "source": [
    "def grover(n: int) -> QuantumCircuit:\n",
    "    \"\"\"Grover's algorithm that repeat oracle and diffusion operator n times\"\"\"\n",
    "    \n",
    "    qc = base.copy_empty_like()\n",
    "    state_preparation(qc)\n",
    "    qc.barrier()\n",
    "    \n",
    "    for i in range(n):\n",
    "        oracle(qc)\n",
    "        qc.barrier()\n",
    "        diffusion_op(qc)\n",
    "        qc.barrier()\n",
    "    \n",
    "    qc.measure_all()\n",
    "    return qc\n",
    "\n",
    "# example picture: repeat 2 times\n",
    "circuit = grover(2)\n",
    "circuit.draw(\"mpl\")"
   ]
  },
  {
   "cell_type": "code",
   "execution_count": 22,
   "id": "483e5dab",
   "metadata": {},
   "outputs": [
    {
     "data": {
      "image/png": "[encoded data removed]",
      "text/plain": [
       "<Figure size 700x500 with 1 Axes>"
      ]
     },
     "execution_count": 22,
     "metadata": {},
     "output_type": "execute_result"
    }
   ],
   "source": [
    "n = 0 # Change this number\n",
    "\n",
    "sim = AerSimulator()\n",
    "job = sim.run(grover(n), shots=1024)\n",
    "result = job.result()\n",
    "counts = result.get_counts()\n",
    "\n",
    "plot_histogram(counts)"
   ]
  },
  {
   "cell_type": "code",
   "execution_count": 23,
   "id": "b4d93f6d",
   "metadata": {},
   "outputs": [
    {
     "ename": "SyntaxError",
     "evalue": "invalid syntax (454709460.py, line 1)",
     "output_type": "error",
     "traceback": [
      "\u001b[1;36m  Cell \u001b[1;32mIn[23], line 1\u001b[1;36m\u001b[0m\n\u001b[1;33m    answer4 = # Write the appropriate number of iterations\u001b[0m\n\u001b[1;37m              ^\u001b[0m\n\u001b[1;31mSyntaxError\u001b[0m\u001b[1;31m:\u001b[0m invalid syntax\n"
     ]
    }
   ],
   "source": [
    "answer4 = # Write the appropriate number of iterations"
   ]
  },
  {
   "cell_type": "code",
   "execution_count": null,
   "id": "6126fd6c",
   "metadata": {},
   "outputs": [],
   "source": [
    "# Grader Cell: Run this to submit your answer\n",
    "\n",
    "from qff_ku_grader import grade\n",
    "grade(answer4, \"Challenge7d\")"
   ]
  },
  {
   "cell_type": "markdown",
   "id": "cd3d007d",
   "metadata": {},
   "source": [
    "## 축하합니다!\n",
    "\n",
    "여러분은 드디어 Quantum Algorithm이라는 영역에 발을 내딛으셨습니다! 양자 컴퓨터는 unstructured search problem 말고도 빠르게 풀어낼 수 있는 다른 문제들이 더 있습니다!\n",
    "\n",
    "더 많은 것을 알고 싶으신 분들은 Qiskit Textbook의 [Quantum Protocols and quantum algorithms](https://learn.qiskit.org/course/ch-algorithms/quantum-circuits) 링크를 보시기 바랍니다!!\n",
    "\n",
    "이 챌린지 문제까지 완주하셨다니 정말 기쁩니다. 아직 챌린지 시간이 남았다면 뒤에 챌린지도 재밌게 즐겨주시길 바랍니다!! 감사합니다:)"
   ]
  }
 ],
 "metadata": {
  "kernelspec": {
   "display_name": "Python 3 (ipykernel)",
   "language": "python",
   "name": "python3"
  },
  "language_info": {
   "codemirror_mode": {
    "name": "ipython",
    "version": 3
   },
   "file_extension": ".py",
   "mimetype": "text/x-python",
   "name": "python",
   "nbconvert_exporter": "python",
   "pygments_lexer": "ipython3",
   "version": "3.10.13"
  }
 },
 "nbformat": 4,
 "nbformat_minor": 5
}
