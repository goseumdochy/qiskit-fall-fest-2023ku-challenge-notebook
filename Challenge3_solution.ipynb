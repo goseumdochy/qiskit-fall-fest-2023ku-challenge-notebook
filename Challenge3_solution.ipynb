{
 "cells": [
  {
   "cell_type": "markdown",
   "id": "786a9114",
   "metadata": {},
   "source": [
    "# Qiskit Fall Fest at Korea University 2023\n",
    "\n",
    "![QFF Logo](images/QFF-logo.png)\n",
    "\n",
    "## Challenge 3: First Steps into Quantum Circuit"
   ]
  },
  {
   "cell_type": "markdown",
   "id": "ef4ab1e1",
   "metadata": {},
   "source": [
    "Challenge 3은 기초 quantum circuit 구성에 관련된 문제들로 준비되어 있습니다! 시작해봅시다!"
   ]
  },
  {
   "cell_type": "markdown",
   "id": "349d0ece",
   "metadata": {},
   "source": [
    "## Part 1: Qiskit 이란 무엇인가?"
   ]
  },
  {
   "cell_type": "markdown",
   "id": "00faa895",
   "metadata": {},
   "source": [
    "**Qiskit**은 클라우드 시스템을 통해 양자 컴퓨터에 접근하고 양자 회로를 설계할 수 있도록 설계된 IBM이 개발한 오픈 소스 양자 컴퓨팅 프레임워크입니다.\n",
    "\n",
    "Qiskit의 가장 기본적인 구성요소는 바로 **양자 회로**입니다. 양자회로는 **qubits**를 기반으로 작동하는 양자컴퓨터에 가하는 명령의 나열을 나타낸 것입니다. 이 qubits는 여러분이 지금 사용하고 계시는 노트북, 핸드폰에 있는 bits와는 다른 특별한 특징들을 가지고 있습니다. 이 특징들에 대해서는 이전에 진행했던 workshop에서 말씀드렸습니다.\n",
    "\n",
    "Qiskit을 통해 양자컴퓨터를 다루는 것은 두 가지 단계로 이루어집니다. 바로 **Bulid**와 **Execute**입니다. Build는 여러분이 구성하고자 하는 양자회로를 만드는 단계이고, Execute는 그 양자회로를 백엔드에서 실행시켜 그 결과를 얻는 것입니다. 백엔드는 시뮬레이터 혹은 실제 양자컴퓨터를 의미합니다.\n",
    "\n",
    "이제 여러분은 간단한 양자회로를 구성해볼 것입니다.그리고 실제 양자컴퓨터가 아닌 시뮬레이터에서 실행을 시켜보겠습니다. 클라우드 서비스를 통해 IBM의 진짜 양자컴퓨터를 사용할 수 있으나, 전세계 사람들이 그 양자컴퓨터를 사용하려고 하기 때문에 여러분이 실제 양자컴퓨터에 작업을 지시하고 나면 꽤 오랜 시간을 기다려야 결과를 얻을 수 있습니다."
   ]
  },
  {
   "cell_type": "markdown",
   "id": "6b602b5a",
   "metadata": {},
   "source": [
    "### 여러분의 첫번째 양자회로"
   ]
  },
  {
   "cell_type": "markdown",
   "id": "07a84927",
   "metadata": {},
   "source": [
    "양자회로를 만들기 위해서는 먼저 build 과정이 필요합니다. 이 과정이 중요하고 어려운 부분입니다. Execute 과정은 단순히 build 과정 거친 양자회로를 백엔드에 넣어주는 것 뿐이기에 코드 형식이 거의 정해져 있습니다.\n",
    "\n",
    "양자회로를 구성하는 과정에 대해서 설명드리겠습니다. 아래는 3개의 qubit와 3개의 classical bit로 이루어진 양자회로를 `QuantumCircuit()`함수를 통해 생성하는 코드입니다. 구성한 양자회로를 `qc.draw()` 매서드를 이용하여 시각적으로 볼 수 있습니다."
   ]
  },
  {
   "cell_type": "code",
   "execution_count": 1,
   "id": "af4c7793",
   "metadata": {},
   "outputs": [
    {
     "data": {
      "text/html": [
       "<pre style=\"word-wrap: normal;white-space: pre;background: #fff0;line-height: 1.1;font-family: &quot;Courier New&quot;,Courier,monospace\">     \n",
       "q_0: \n",
       "     \n",
       "q_1: \n",
       "     \n",
       "q_2: \n",
       "     \n",
       "c: 3/\n",
       "     </pre>"
      ],
      "text/plain": [
       "     \n",
       "q_0: \n",
       "     \n",
       "q_1: \n",
       "     \n",
       "q_2: \n",
       "     \n",
       "c: 3/\n",
       "     "
      ]
     },
     "execution_count": 1,
     "metadata": {},
     "output_type": "execute_result"
    }
   ],
   "source": [
    "from qiskit import QuantumCircuit\n",
    "\n",
    "# Create quantum circuit with 3 qubits and 3 classical bits\n",
    "# (we'll explain why we need the classical bits later)\n",
    "qc = QuantumCircuit(3,3)\n",
    "\n",
    "# return a drawing of the circuit\n",
    "qc.draw()  \n",
    "\n",
    "## You don't need to write any new code in this cell, just run it"
   ]
  },
  {
   "cell_type": "markdown",
   "id": "a58e85eb",
   "metadata": {},
   "source": [
    "주피터 노트북에서는 하나의 셀의 마지막 줄 실행결과를 바로 아래 칸에 보여줍니다. `qc.draw()`가 그림을 반환하였기 때문에 그 그림이 코드 아래에 보이는 것입니다. 현재 양자회로를 생성하기만 하고 아무런 게이트(명령)을 가하지 않았기 때문에, 수평선들만 볼 수 있습니다. q는 qubit를 의미하고 c는 classical bit를 의미합니다.\n",
    "\n",
    "양자회로를 생성했다면 마지막에 양자컴퓨터에게 그 결과를 측정해야한다는 것을 알려주어야 합니다. 그래서 \"측정\" 연산을 양자회로에 추가합니다. QuantumCiruit의 `measure()` 매서드를 이용하여 \"측정\" 연산을 양자회로에 추가할 수 있습니다. `measure()` 매서드 안에 두 개의 리스트를 넣어주어 어떠한 qubit의 측정 결과를 어떠한 classical bit에 저장해야 하는지 명시해야 합니다.\n",
    "\n",
    "아래의 코드는 qubit 0, 1, 2의 측정 결과를 각각 classical bit 0, 1, 2에 저장하라는 명령입니다."
   ]
  },
  {
   "cell_type": "code",
   "execution_count": 2,
   "id": "ee1fe6f8",
   "metadata": {},
   "outputs": [
    {
     "data": {
      "text/html": [
       "<pre style=\"word-wrap: normal;white-space: pre;background: #fff0;line-height: 1.1;font-family: &quot;Courier New&quot;,Courier,monospace\">     ┌─┐      \n",
       "q_0: ┤M├──────\n",
       "     └╥┘┌─┐   \n",
       "q_1: ─╫─┤M├───\n",
       "      ║ └╥┘┌─┐\n",
       "q_2: ─╫──╫─┤M├\n",
       "      ║  ║ └╥┘\n",
       "c: 3/═╩══╩══╩═\n",
       "      0  1  2 </pre>"
      ],
      "text/plain": [
       "     ┌─┐      \n",
       "q_0: ┤M├──────\n",
       "     └╥┘┌─┐   \n",
       "q_1: ─╫─┤M├───\n",
       "      ║ └╥┘┌─┐\n",
       "q_2: ─╫──╫─┤M├\n",
       "      ║  ║ └╥┘\n",
       "c: 3/═╩══╩══╩═\n",
       "      0  1  2 "
      ]
     },
     "execution_count": 2,
     "metadata": {},
     "output_type": "execute_result"
    }
   ],
   "source": [
    "from qiskit import QuantumCircuit\n",
    "\n",
    "qc = QuantumCircuit(3, 3)\n",
    "\n",
    "# measure all the qubits\n",
    "qc.measure([0,1,2], [0,1,2])\n",
    "\n",
    "qc.draw()"
   ]
  },
  {
   "cell_type": "markdown",
   "id": "9761a98f",
   "metadata": {},
   "source": [
    "qubit를 측정할 때 0이나 1 같은 classical bit의 데이터를 얻게 됩니다. 그래서 `QuantumCircuit()` 객체를 만들 때 classical bit를 포함하여 만든 것입니다.\n",
    "\n",
    "다음으로 이 회로를 실행하면 어떤 결과가 나오는지 알아보겠습니다. 이를 위해서는 양자시뮬레이터를 이용할 것입니다. 시뮬레이터는 오류가 없는 이상적인 양자컴퓨터가 어떠한 결과를 출력할지 계산하는 고전 컴퓨터입니다.\n",
    "\n",
    "qubit의 개수가 적다면 고전컴퓨터로 시뮬레이션 돌리는 시간이 많이 걸리지 않습니다. 하지만 qubit의 개수가 많아짐에 따라 고전컴퓨터로 시뮬레이션 돌리기 위해서는 연산량이 기하급수적으로 늘어납니다. 보통 약 50 qubits를 현존하는 슈퍼컴퓨터로 시뮬레이션 할 수 있는 한계라고 말합니다. 현실적으로는 최대 30 qubits 정도까지 시뮬레이션을 돌립니다. 그럼에도 불구하고 시뮬레이터는 이상적인 양자컴퓨터의 작동 결과에 대해 계산을 해주기 때문에 작은 양자회로를 설계하는데 굉장히 유용한 도구입니다.\n",
    "\n",
    "Qiskit의 시뮬레이터(Aer 이라고 불립니다)를 가져와 시뮬레이터 객체를 만들겠습니다."
   ]
  },
  {
   "cell_type": "code",
   "execution_count": 3,
   "id": "05569088",
   "metadata": {},
   "outputs": [],
   "source": [
    "from qiskit.providers.aer import AerSimulator\n",
    "\n",
    "# make a new simulator object\n",
    "sim = AerSimulator()  "
   ]
  },
  {
   "cell_type": "markdown",
   "id": "43d3a8ca",
   "metadata": {},
   "source": [
    "시뮬레이터 객체를 sim이라는 변수에 저장했습니다. 이제 시뮬레이션을 돌리기 위해서 시뮬레이터의 `.run()` 매서드를 사용할 것입니다. 이것은 \"job\"이라는 객체를 반환합니다. \"job\" 객체는 execute 단계의 정보들을 포함하고 있습니다. execute 단계가 완료되었는지 여부, 어떠한 백엔드에서 실행을 시켰는지, 그리고 실행의 결과에 대한 정보 등이 담겨 있습니다.\n",
    "\n",
    "이 작업의 결과를 얻기 위해서는 \"job\" 객체의 `.result()` 매서드를 사용하면 됩니다. 그 결과중에서 가장 많이 보는 것은 딕셔너리 자료형으로 결과를 보여주는 \"counts\"라는 것입니다."
   ]
  },
  {
   "cell_type": "code",
   "execution_count": 4,
   "id": "c614f0c9",
   "metadata": {},
   "outputs": [
    {
     "data": {
      "text/plain": [
       "{'000': 1024}"
      ]
     },
     "execution_count": 4,
     "metadata": {},
     "output_type": "execute_result"
    }
   ],
   "source": [
    "job = sim.run(qc)      # run the experiment\n",
    "result = job.result()  # get the results\n",
    "\n",
    "result.get_counts()    # interpret the results as a \"counts\" dictionary"
   ]
  },
  {
   "cell_type": "markdown",
   "id": "1237533c",
   "metadata": {},
   "source": [
    "지난 워크숍에서 배우신 것을 떠올려보면 {'000': 1024}에서 '000'은 Key이고, 1024는 value입니다. Key는 세 개의 큐빗이 무엇으로 측정되었는지 말해주는 것이고, value는 그 결과가 몇 번 측정되었는지 알려주는 것입니다.\n",
    "\n",
    "#### \"왜 매번 - '000' - 이라는 같은 값을 측정하였을까?\"\n",
    "\n",
    "관례적으로 qubits는 항상 $|0 \\rangle$ 상태에서 시작합니다. qubit의 상태를 변화시키려면 회로에 게이트들을 추가해야 합니다. 위의 회로는 각각의 qubit에 게이트를 추가하지 않았기 때문에 결과는 각각 0으로 유지됩니다.\n",
    "\n",
    "#### \"왜 이 회로를 1024번 실행시켰을까?\"\n",
    "qubits는 여러 상태의 중첩 상태를 가질 수 있습니다. 양자컴퓨터는 마지막 측정을 통해 0 또는 1의 결과만 얻을 수 있습니다. 즉 결과에 무작위성이 존재할 수 있습니다. 따라서 보다 정확한 결과를 얻기 위해 회로를 여러번 반복하여 실행시키는 것이 일반적입니다. Qiskit에서는 양자회로 반복 횟수가 디폴트로 1024회 입니다."
   ]
  },
  {
   "cell_type": "markdown",
   "id": "c9503d11",
   "metadata": {},
   "source": [
    "### 문제 1\n",
    "\n",
    "**해야할 일:** 방금 배운 것들을 이용해서 4개의 qubits와 4개의 classical bits를 가지는 양자회로를 만들고 `qc`라는 변수에 저장하세요. 그 후, 각각의 qubit를 측정하여 그 결과를 각각의 classcial bit에  저장하세요. 이 과정을 아래의 코드 셀에서 작성하시면 됩니다.\n",
    "\n",
    "그 다음 셀에서는 여러분의 회로를 시뮬레이터에서 실행시키는 코드를 제공해드립니다. 하지만, 시뮬레이터에서 여러분이 작성한 양자회로를 실행시키고, 결과를 보는 과정을 스스로 작성해보시는 것도 좋을 것 같습니다.\n",
    "\n",
    "힌트: 방금 위에서 배웠던 코드들을 활용하면 됩니다!"
   ]
  },
  {
   "cell_type": "code",
   "execution_count": 5,
   "id": "e658e1f8",
   "metadata": {},
   "outputs": [
    {
     "data": {
      "image/png": "[encoded data removed]",
      "text/plain": [
       "<Figure size 454.719x451.5 with 1 Axes>"
      ]
     },
     "execution_count": 5,
     "metadata": {},
     "output_type": "execute_result"
    }
   ],
   "source": [
    "from qiskit import QuantumCircuit\n",
    "from qiskit.providers.aer import AerSimulator\n",
    "\n",
    "\n",
    "## Write your code below here ##\n",
    "qc = QuantumCircuit(4,4)\n",
    "qc.measure([0,1,2,3],[0,1,2,3])\n",
    "\n",
    "## Do not modify the code under this line ##\n",
    "\n",
    "qc.draw('mpl')"
   ]
  },
  {
   "cell_type": "code",
   "execution_count": 6,
   "id": "02d8ebdb",
   "metadata": {},
   "outputs": [],
   "source": [
    "sim = AerSimulator()   # make a new simulator object\n",
    "job = sim.run(qc)      # run the experiment\n",
    "result = job.result()  # get the results\n",
    "\n",
    "answer1 = result.get_counts()"
   ]
  },
  {
   "cell_type": "markdown",
   "id": "f0314a39",
   "metadata": {},
   "source": [
    "각각의 문제가 끝난 후 여러분이 알맞게 작성하였는지 채점합니다. 채점을 하기 위해서는 단순히 아래의 채점기(grader) 셀을 실행하시면 됩니다. 채점기 셀에는 아무런 코드를 추가하실 필요 없습니다. 아래의 채점기 코드를 실행하시고 나면 그 아래에 여러분이 맞게 회로를 작성하셨는지 여부에 대해 나올 것입니다."
   ]
  },
  {
   "cell_type": "code",
   "execution_count": 8,
   "id": "1c5d0c22",
   "metadata": {
    "scrolled": true
   },
   "outputs": [
    {
     "name": "stdout",
     "output_type": "stream",
     "text": [
      "\n",
      "Congratulations 🎉! Your answer is correct.\n"
     ]
    }
   ],
   "source": [
    "# Grader Cell: Run this to submit your answer\n",
    "\n",
    "from qff_ku_grader.challenges.qff_ku2023 import grade_challenge3a\n",
    "\n",
    "grade_challenge3a(qc)"
   ]
  },
  {
   "cell_type": "markdown",
   "id": "ddc0196b",
   "metadata": {},
   "source": [
    "성공하셨나요? 여러분은 드디어 양자회로를 만드는 여정에 첫 발을 내디뎠습니다. 축하드립니다!! 이제 조금 더 멋진 양자회로를 만들어 가보겠습니다:)"
   ]
  },
  {
   "cell_type": "markdown",
   "id": "cc007153",
   "metadata": {},
   "source": [
    "## Part 2: Gate 사용하기"
   ]
  },
  {
   "cell_type": "markdown",
   "id": "eb862734",
   "metadata": {},
   "source": [
    "양자컴퓨터는 \"gate\"를 사용하여 qubits들에게 명령을 내릴 수 있습니다. 아래에서 가장 많이 사용하는 gate 3개를 살펴봅시다."
   ]
  },
  {
   "cell_type": "markdown",
   "id": "097d3014",
   "metadata": {},
   "source": [
    "첫번째로 저희는 NOT gate 로 알려진 것을 볼 것입니다. 여러분이 현재 사용하고 계신 컴퓨터에도 있는 기본적인 연산입니다. 단순히 bit 값을 뒤집는 것입니다. 0을 1로 바꾸고, 1을 0으로 바꾸는 것입니다. 양자컴퓨터에서는 이를 X gate라고 부릅니다. `.x()`매서드는 괄호 안에 적히는 타켓 qubit에 X gate를 가합니다. 이 gate를 지칭할 때 X gate, NOT gate 둘 다 많이 사용합니다.\n",
    "\n",
    "두번째는 양자컴퓨터에만 있는 연산인 Hadamard gate 입니다 이 gate는 qubit를 중첩 상태로 만들어줍니다. 자세한 수식에 대해서는 워크숍에서 다루었을 것입니다. Hadamard gate를 추가하기 위해서는 `.h()` 매서드를 사용하면 됩니다. 괄호 안에 적히는 타겟 qubit에 hadamard gate를 추가할 수 있습니다.\n",
    "\n",
    "마지막은 CNOT gate 입니다. 이 gate는 2 qubits gate 이고 얽힘을 만들어 낼 수도 있습니다. 이 gate를 추가하는 방법은 `.cx()` 매서드를 사용하면 됩니다. 괄호 안에는 control qubit과 target qubit 두 개의 정보를 넣어주어야 합니다."
   ]
  },
  {
   "cell_type": "code",
   "execution_count": 9,
   "id": "46461c10",
   "metadata": {},
   "outputs": [
    {
     "data": {
      "image/png": "[encoded data removed]",
      "text/plain": [
       "<Figure size 370.906x200.667 with 1 Axes>"
      ]
     },
     "execution_count": 9,
     "metadata": {},
     "output_type": "execute_result"
    }
   ],
   "source": [
    "from qiskit import QuantumCircuit\n",
    "\n",
    "qc = QuantumCircuit(2)\n",
    "\n",
    "# We start by flipping the first qubit, which is qubit 0, using an X gate\n",
    "qc.x(0)\n",
    "\n",
    "# Next we add an H gate on qubit 0, putting this qubit in superposition.\n",
    "qc.h(0)\n",
    "\n",
    "# Finally we add a CX (CNOT) gate on qubit 0 and qubit 1\n",
    "# This entangles the two qubits together\n",
    "qc.cx(0, 1)\n",
    "\n",
    "qc.draw(output=\"mpl\")"
   ]
  },
  {
   "cell_type": "markdown",
   "id": "16628ce7",
   "metadata": {},
   "source": [
    "gate 추가하는 것 생각보다 간단합니다! 위의 셀에서 마음껏 gate들을 추가해보며 양자회로 그림을 보는 것을 추천드립니다!\n",
    "\n",
    "**참고** 위의 셀에서는 `QuantumCircuit()`함수에 두 개의 숫자가 아닌 하나의 숫자만 인자로 주었습니다. 이렇게 하면 classcial bit 없이 qubit만 포함하는 양자 회로를 만들 수 있습니다. classical bit없이는 qubit를 측정할 수 없지만 qubit만 있는 회로에서는 gate들을 추가해가며 양자 회로에 어떠한 영향을 미치는지 테스트해볼 수 있습니다.\n",
    "\n",
    "이제 문제 2로 갑시다!"
   ]
  },
  {
   "cell_type": "markdown",
   "id": "b1fed07c",
   "metadata": {},
   "source": [
    "### 문제 2\n",
    "\n",
    "Bell state라고 불리는 양자 상태를 만드는 양자 회로를 만들어 봅시다.\n",
    "\n",
    "**해야할 일:** 아래의 셀에서 2개의 qubits와 2개의 classical bits를 갖는 새로운 양자회로를 만들어 놓았습니다. 여러분은 `q0`에 Hadamard gate를 가하고, `q0`을 control qubit로 하고 `q1`을 target qubit로 하는 CNOT gate를 가해야합니다."
   ]
  },
  {
   "cell_type": "code",
   "execution_count": 10,
   "id": "94a9825c",
   "metadata": {},
   "outputs": [
    {
     "data": {
      "image/png": "[encoded data removed]",
      "text/plain": [
       "<Figure size 287.294x284.278 with 1 Axes>"
      ]
     },
     "execution_count": 10,
     "metadata": {},
     "output_type": "execute_result"
    }
   ],
   "source": [
    "from qiskit import QuantumCircuit\n",
    "\n",
    "qc = QuantumCircuit(2, 2)\n",
    "\n",
    "## Write your code below here ##\n",
    "\n",
    "qc.h(0)\n",
    "qc.cx(0, 1)\n",
    "\n",
    "## Do not modifiy the code under this line ##\n",
    "\n",
    "answer2 = qc\n",
    "qc.draw('mpl')"
   ]
  },
  {
   "cell_type": "code",
   "execution_count": 13,
   "id": "79b0b2e8",
   "metadata": {
    "scrolled": true
   },
   "outputs": [
    {
     "name": "stdout",
     "output_type": "stream",
     "text": [
      "\n",
      "Congratulations 🎉! Your answer is correct.\n"
     ]
    }
   ],
   "source": [
    "# Grader Cell: Run this to submit your answer\n",
    "\n",
    "from qff_ku_grader.challenges.qff_ku2023 import grade_challenge3b\n",
    "\n",
    "grade_challenge3b(answer2)"
   ]
  },
  {
   "cell_type": "code",
   "execution_count": 12,
   "id": "675111c8",
   "metadata": {},
   "outputs": [
    {
     "data": {
      "text/latex": [
       "$$\\frac{\\sqrt{2}}{2} |00\\rangle+\\frac{\\sqrt{2}}{2} |11\\rangle$$"
      ],
      "text/plain": [
       "<IPython.core.display.Latex object>"
      ]
     },
     "execution_count": 12,
     "metadata": {},
     "output_type": "execute_result"
    }
   ],
   "source": [
    "from qiskit.quantum_info import Statevector\n",
    "\n",
    "Statevector(qc).draw('latex')"
   ]
  },
  {
   "cell_type": "markdown",
   "id": "5f4f3a07",
   "metadata": {},
   "source": [
    "## 축하합니다!\n",
    "\n",
    "여러분은 세번째 challenge를 수행하셨습니다! 여러분이 배운 것을 다시 한 번 살펴보겠습니다.\n",
    "- Qiskit의 가장 기본적인 단위는 양자 회로이다. 양자회로는 양자컴퓨터에게 주는 일련의 명령들을 나타낸 것이다.\n",
    "- `QuantumCircuit(x, y)` 함수는 (x)개의 qubits와 (y)개의 classicial bits를 가진 양자 회로를 생성한다.\n",
    "- qubit을 측정할 때 하나의 qubit은 0 또는 1로만 측정이 된다.\n",
    "- X gate는 $|0\\rangle$과 $|1\\rangle$ 상태를 서로 바꾸어 준다.\n",
    "- H gate는 중첩을 만들어 준다.\n",
    "- CX gate는 2 qubits gate로 얽힘을 만들 수 있다."
   ]
  },
  {
   "cell_type": "markdown",
   "id": "04f20b37",
   "metadata": {},
   "source": [
    "다음 challenge로 넘어가시길 바랍니다!"
   ]
  }
 ],
 "metadata": {
  "kernelspec": {
   "display_name": "Python 3 (ipykernel)",
   "language": "python",
   "name": "python3"
  },
  "language_info": {
   "codemirror_mode": {
    "name": "ipython",
    "version": 3
   },
   "file_extension": ".py",
   "mimetype": "text/x-python",
   "name": "python",
   "nbconvert_exporter": "python",
   "pygments_lexer": "ipython3",
   "version": "3.11.5"
  }
 },
 "nbformat": 4,
 "nbformat_minor": 5
}
