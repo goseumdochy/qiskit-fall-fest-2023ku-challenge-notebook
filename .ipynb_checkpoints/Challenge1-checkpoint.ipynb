{
 "cells": [
  {
   "cell_type": "markdown",
   "id": "786a9114",
   "metadata": {},
   "source": [
    "# Qiskit Fall Fest at Korea University 2023\n",
    "\n",
    "![QFF Logo](images/QFF-logo.png)\n",
    "\n",
    "## Challenge 1: First Steps into Quantum Computing"
   ]
  },
  {
   "cell_type": "markdown",
   "id": "1009a6bc",
   "metadata": {},
   "source": [
    "Qiskit Fall Fest at Korea University 2023에 참여해주신 어러분 모두 환영합니다!\n",
    "\n",
    "여러분은 전 세계에서 수천명의 학생들이 참여하는 Qiskit Fall Fest에 참여하고 계십니다. 그리고 특히 고려대학교에서는 양자컴퓨터를 잘 모르는 학우분들에게 양자컴퓨터를 소개하고, 직접 다루어보는 경험을 제공하기 위해 workshop과 challenge 방식으로 Qiskit Fall Fest at Korea University 2023을 기획하게 되었습니다.\n",
    "\n",
    "그동안 워크숍을 듣느라 수고 많으셨습니다! 드디어 마지막 Qiskit Fall Fest at Korea University 2023의 마지막 행사입니다. 이제 여러분께서 배우신 내용들 및 여기 challenge notebook에 있는 설명을 토대로 문제들을 풀어나가는 Challenge 행사가 시작되었습니다\n",
    "\n",
    "각각의 서로 다른 \"challenge\" 파일들은 서로 다룬 주제를 다루고 있습니다. 각각의 challenge 파일들에는 설명과 함께 문제들이 제시되어 있고, 각 문제들에 대한 자동채점기가 존재합니다.\n",
    "\n",
    "각 문제에서 `## Write your code below here ##` 이라고 쓰여 있는 부분 아래에 코드를 작성하시면 됩니다."
   ]
  },
  {
   "cell_type": "markdown",
   "id": "ef4ab1e1",
   "metadata": {},
   "source": [
    "Challenge 1은 기초 quantum circuit 구성에 관련된 문제들로 준비되어 있습니다! 시작해봅시다!"
   ]
  },
  {
   "cell_type": "markdown",
   "id": "f13e3ff0",
   "metadata": {},
   "source": [
    "먼저 아래의 code block에 여러분의 이름, 전공을 작성해주세요."
   ]
  },
  {
   "cell_type": "code",
   "execution_count": 2,
   "id": "03d9857c",
   "metadata": {},
   "outputs": [],
   "source": [
    "event = \"Qiskit Fall Fest at Korea University 2023\"\n",
    "\n",
    "## Write your code below here. Delete the current information and replace it with your own ##\n",
    "## Make sure to write your information between the quotation marks!\n",
    "\n",
    "name = \"Seonggeun Park\"\n",
    "\n",
    "major = \"Electrical Engineering\"\n",
    "\n",
    "school = \"Korea University\"\n",
    "\n",
    "## Now press the \"Run\" button in the toolbar above, or press Shift + Enter while you're active in this cell\n"
   ]
  },
  {
   "cell_type": "code",
   "execution_count": 3,
   "id": "df56cfbd",
   "metadata": {},
   "outputs": [
    {
     "name": "stdout",
     "output_type": "stream",
     "text": [
      "My name is Seonggeun Park, My major is Electrical Engineering.\n"
     ]
    }
   ],
   "source": [
    "## You do not need to write any code in this cell. Simply run this cell to see your information in a sentence. ##\n",
    "\n",
    "print(f'My name is {name}, My major is {major}.')"
   ]
  },
  {
   "cell_type": "code",
   "execution_count": 4,
   "id": "d1421774",
   "metadata": {},
   "outputs": [
    {
     "name": "stdout",
     "output_type": "stream",
     "text": [
      "env: QC_GRADE_ONLY=true\n",
      "env: QC_GRADING_ENDPOINT=https://qac-grading.quantum-computing.ibm.com\n"
     ]
    }
   ],
   "source": [
    "## Run this cell to make sure your grader is setup correctly\n",
    "\n",
    "%set_env QC_GRADE_ONLY=true\n",
    "%set_env QC_GRADING_ENDPOINT=https://qac-grading.quantum-computing.ibm.com"
   ]
  },
  {
   "cell_type": "markdown",
   "id": "349d0ece",
   "metadata": {},
   "source": [
    "## Part 1: Qiskit 이란 무엇인가?"
   ]
  },
  {
   "cell_type": "markdown",
   "id": "00faa895",
   "metadata": {},
   "source": [
    "**Qiskit**은 클라우드 시스템을 통해 양자 컴퓨터에 접근하고 양자 회로를 설계할 수 있도록 설계된 IBM이 개발한 오픈 소스 양자 컴퓨팅 프레임워크입니다.\n",
    "\n",
    "Qiskit의 가장 기본적인 구성요소는 바로 **양자 회로**입니다. 양자회로는 **qubits**를 기반으로 작동하는 양자컴퓨터에 가하는 명령의 나열을 나타낸 것입니다. 이 qubits는 여러분이 지금 사용하고 계시는 노트북, 핸드폰에 있는 bits와는 다른 특별한 특징들을 가지고 있습니다. 이 특징들에 대해서는 이전에 진행했던 workshop에서 말씀드렸습니다.\n",
    "\n",
    "Qiskit을 통해 양자컴퓨터를 다루는 것은 두 가지 단계로 이루어집니다. 바로 **Bulid**와 **Execute**입니다. Build는 여러분이 구성하고자 하는 양자회로를 만드는 단계이고, Execute는 그 양자회로를 백엔드에서 실행시켜 그 결과를 얻는 것입니다. 백엔드는 시뮬레이터 혹은 실제 양자컴퓨터를 의미합니다.\n",
    "\n",
    "이제 여러분은 간단한 양자회로를 구성해볼 것입니다.그리고 실제 양자컴퓨터가 아닌 시뮬레이터에서 실행을 시켜보겠습니다. 클라우드 서비스를 통해 IBM의 진짜 양자컴퓨터를 사용할 수 있으나, 전세계 사람들이 그 양자컴퓨터를 사용하려고 하기 때문에 여러분이 실제 양자컴퓨터에 작업을 지시하고 나면 꽤 오랜 시간을 기다려야 결과를 얻을 수 있습니다."
   ]
  },
  {
   "cell_type": "markdown",
   "id": "6b602b5a",
   "metadata": {},
   "source": [
    "### 여러분의 첫번째 양자회로"
   ]
  },
  {
   "cell_type": "markdown",
   "id": "07a84927",
   "metadata": {},
   "source": [
    "양자회로를 만들기 위해서는 먼저 build 과정이 필요합니다. 이 과정이 중요하고 어려운 부분입니다. Execute 과정은 단순히 build 과정 거친 양자회로를 백엔드에 넣어주는 것 뿐이기에 코드 형식이 거의 정해져 있습니다.\n",
    "\n",
    "양자회로를 구성하는 과정에 대해서 설명드리겠습니다. 아래는 3개의 qubit와 3개의 classical bit로 이루어진 양자회로를 `QuantumCircuit()`함수를 통해 생성하는 코드입니다. 구성한 양자회로를 `qc.draw()` 매서드를 이용하여 시각적으로 볼 수 있습니다."
   ]
  },
  {
   "cell_type": "code",
   "execution_count": 6,
   "id": "af4c7793",
   "metadata": {},
   "outputs": [
    {
     "data": {
      "image/png": "[encoded data removed]",
      "text/plain": [
       "<Figure size 162.08x367.889 with 1 Axes>"
      ]
     },
     "execution_count": 6,
     "metadata": {},
     "output_type": "execute_result"
    }
   ],
   "source": [
    "from qiskit import QuantumCircuit\n",
    "\n",
    "# Create quantum circuit with 3 qubits and 3 classical bits\n",
    "# (we'll explain why we need the classical bits later)\n",
    "qc = QuantumCircuit(3,3)\n",
    "\n",
    "# return a drawing of the circuit\n",
    "qc.draw()  \n",
    "\n",
    "## You don't need to write any new code in this cell, just run it"
   ]
  },
  {
   "cell_type": "markdown",
   "id": "a58e85eb",
   "metadata": {},
   "source": [
    "주피터 노트북에서는 하나의 셀의 마지막 줄 실행결과를 바로 아래 칸에 보여줍니다. `qc.draw()`가 그림을 반환하였기 때문에 그 그림이 코드 아래에 보이는 것입니다. 현재 양자회로를 생성하기만 하고 아무런 게이트(명령)을 가하지 않았기 때문에, 수평선들만 볼 수 있습니다. q는 qubit를 의미하고 c는 classical bit를 의미합니다.\n",
    "\n",
    "양자회로를 생성했다면 마지막에 양자컴퓨터에게 그 결과를 측정해야한다는 것을 알려주어야 합니다. 그래서 \"측정\" 연산을 양자회로에 추가합니다. QuantumCiruit의 `measure()` 매서드를 이용하여 \"측정\" 연산을 양자회로에 추가할 수 있습니다. `measure()` 매서드 안에 두 개의 리스트를 넣어주어 어떠한 qubit의 측정 결과를 어떠한 classical bit에 저장해야 하는지 명시해야 합니다.\n",
    "\n",
    "아래의 코드는 qubit 0, 1, 2의 측정 결과를 각각 classical bit 0, 1, 2에 저장하라는 명령입니다."
   ]
  },
  {
   "cell_type": "code",
   "execution_count": 8,
   "id": "ee1fe6f8",
   "metadata": {},
   "outputs": [
    {
     "data": {
      "image/png": "[encoded data removed]",
      "text/plain": [
       "<Figure size 371.107x367.889 with 1 Axes>"
      ]
     },
     "execution_count": 8,
     "metadata": {},
     "output_type": "execute_result"
    }
   ],
   "source": [
    "from qiskit import QuantumCircuit\n",
    "\n",
    "qc = QuantumCircuit(3, 3)\n",
    "\n",
    "# measure all the qubits\n",
    "qc.measure([0,1,2], [0,1,2])\n",
    "\n",
    "qc.draw()"
   ]
  },
  {
   "cell_type": "markdown",
   "id": "9761a98f",
   "metadata": {},
   "source": [
    "qubit를 측정할 때 0이나 1 같은 classical bit의 데이터를 얻게 됩니다. 그래서 `QuantumCircuit()` 객체를 만들 때 classical bit를 포함하여 만든 것입니다.\n",
    "\n",
    "다음으로 이 회로를 실행하면 어떤 결과가 나오는지 알아보겠습니다. 이를 위해서는 양자시뮬레이터를 이용할 것입니다. 시뮬레이터는 오류가 없는 이상적인 양자컴퓨터가 어떠한 결과를 출력할지 계산하는 고전 컴퓨터입니다.\n",
    "\n",
    "qubit의 개수가 적다면 고전컴퓨터로 시뮬레이션 돌리는 시간이 많이 걸리지 않습니다. 하지만 qubit의 개수가 많아짐에 따라 고전컴퓨터로 시뮬레이션 돌리기 위해서는 연산량이 기하급수적으로 늘어납니다. 보통 약 50 qubits를 현존하는 슈퍼컴퓨터로 시뮬레이션 할 수 있는 한계라고 말합니다. 현실적으로는 최대 30 qubits 정도까지 시뮬레이션을 돌립니다. 그럼에도 불구하고 시뮬레이터는 이상적인 양자컴퓨터의 작동 결과에 대해 계산을 해주기 때문에 작은 양자회로를 설계하는데 굉장히 유용한 도구입니다.\n",
    "\n",
    "Qiskit의 시뮬레이터(Aer 이라고 불립니다)를 가져와 시뮬레이터 객체를 만들겠습니다."
   ]
  },
  {
   "cell_type": "code",
   "execution_count": 9,
   "id": "05569088",
   "metadata": {},
   "outputs": [],
   "source": [
    "from qiskit.providers.aer import AerSimulator\n",
    "\n",
    "# make a new simulator object\n",
    "sim = AerSimulator()  "
   ]
  },
  {
   "cell_type": "markdown",
   "id": "43d3a8ca",
   "metadata": {},
   "source": [
    "시뮬레이터 객체를 sim이라는 변수에 저장했습니다. 이제 시뮬레이션을 돌리기 위해서 시뮬레이터의 `.run()` 매서드를 사용할 것입니다. 이것은 \"job\"이라는 객체를 반환합니다. \"job\" 객체는 execute 단계의 정보들을 포함하고 있습니다. execute 단계가 완료되었는지 여부, 어떠한 백엔드에서 실행을 시켰는지, 그리고 실행의 결과에 대한 정보 등이 담겨 있습니다.\n",
    "\n",
    "이 작업의 결과를 얻기 위해서는 \"job\" 객체의 `.result()` 매서드를 사용하면 됩니다. 그 결과중에서 가장 많이 보는 것은 딕셔너리 자료형으로 결과를 보여주는 \"counts\"라는 것입니다."
   ]
  },
  {
   "cell_type": "code",
   "execution_count": 10,
   "id": "c614f0c9",
   "metadata": {},
   "outputs": [
    {
     "data": {
      "text/plain": [
       "{'000': 1024}"
      ]
     },
     "execution_count": 10,
     "metadata": {},
     "output_type": "execute_result"
    }
   ],
   "source": [
    "job = sim.run(qc)      # run the experiment\n",
    "result = job.result()  # get the results\n",
    "\n",
    "result.get_counts()    # interpret the results as a \"counts\" dictionary"
   ]
  },
  {
   "cell_type": "code",
   "execution_count": null,
   "id": "f2dca022",
   "metadata": {},
   "outputs": [],
   "source": []
  }
 ],
 "metadata": {
  "kernelspec": {
   "display_name": "Python 3 (ipykernel)",
   "language": "python",
   "name": "python3"
  },
  "language_info": {
   "codemirror_mode": {
    "name": "ipython",
    "version": 3
   },
   "file_extension": ".py",
   "mimetype": "text/x-python",
   "name": "python",
   "nbconvert_exporter": "python",
   "pygments_lexer": "ipython3",
   "version": "3.10.13"
  }
 },
 "nbformat": 4,
 "nbformat_minor": 5
}
