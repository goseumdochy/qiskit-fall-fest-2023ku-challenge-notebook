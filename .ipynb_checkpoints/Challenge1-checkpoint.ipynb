{
 "cells": [
  {
   "cell_type": "markdown",
   "id": "786a9114",
   "metadata": {},
   "source": [
    "# Qiskit Fall Fest at Korea University 2023\n",
    "\n",
    "![QFF Logo](images/QFF-logo.png)\n",
    "\n",
    "## Challenge 1: First Steps into Quantum Computing"
   ]
  },
  {
   "cell_type": "markdown",
   "id": "1009a6bc",
   "metadata": {},
   "source": [
    "Qiskit Fall Fest at Korea University 2023에 참여해주신 어러분 모두 환영합니다!\n",
    "\n",
    "여러분은 전 세계에서 수천명의 학생들이 참여하는 Qiskit Fall Fest에 참여하고 계십니다. 그리고 특히 고려대학교에서는 양자컴퓨터를 잘 모르는 학우분들에게 양자컴퓨터를 소개하고, 직접 다루어보는 경험을 제공하기 위해 workshop과 challenge 방식으로 Qiskit Fall Fest at Korea University 2023을 기획하게 되었습니다.\n",
    "\n",
    "그동안 워크숍을 듣느라 수고 많으셨습니다! 드디어 마지막 Qiskit Fall Fest at Korea University 2023의 마지막 행사입니다. 이제 여러분께서 배우신 내용들 및 여기 challenge notebook에 있는 설명을 토대로 문제들을 풀어나가는 Challenge 행사가 시작되었습니다\n",
    "\n",
    "각각의 서로 다른 \"challenge\" 파일들은 서로 다룬 주제를 다루고 있습니다. 각각의 challenge 파일들에는 설명과 함께 문제들이 제시되어 있고, 각 문제들에 대한 자동채점기가 존재합니다.\n",
    "\n",
    "각 문제에서 `## Write your code below here ##` 이라고 쓰여 있는 부분 아래에 코드를 작성하시면 됩니다."
   ]
  },
  {
   "cell_type": "markdown",
   "id": "ef4ab1e1",
   "metadata": {},
   "source": [
    "Challenge 1은 기초 quantum circuit 구성에 관련된 문제들로 준비되어 있습니다! 시작해봅시다!"
   ]
  },
  {
   "cell_type": "markdown",
   "id": "f13e3ff0",
   "metadata": {},
   "source": [
    "먼저 아래의 code block에 여러분의 이름, 전공을 작성해주세요."
   ]
  },
  {
   "cell_type": "code",
   "execution_count": 1,
   "id": "03d9857c",
   "metadata": {},
   "outputs": [],
   "source": [
    "event = \"Qiskit Fall Fest at Korea University 2023\"\n",
    "\n",
    "## Write your code below here. Delete the current information and replace it with your own ##\n",
    "## Make sure to write your information between the quotation marks!\n",
    "\n",
    "name = \"Seonggeun Park\"\n",
    "\n",
    "major = \"Electrical Engineering\"\n",
    "\n",
    "school = \"Korea University\"\n",
    "\n",
    "## Now press the \"Run\" button in the toolbar above, or press Shift + Enter while you're active in this cell\n"
   ]
  },
  {
   "cell_type": "code",
   "execution_count": null,
   "id": "df56cfbd",
   "metadata": {},
   "outputs": [],
   "source": []
  }
 ],
 "metadata": {
  "kernelspec": {
   "display_name": "Python 3 (ipykernel)",
   "language": "python",
   "name": "python3"
  },
  "language_info": {
   "codemirror_mode": {
    "name": "ipython",
    "version": 3
   },
   "file_extension": ".py",
   "mimetype": "text/x-python",
   "name": "python",
   "nbconvert_exporter": "python",
   "pygments_lexer": "ipython3",
   "version": "3.10.13"
  }
 },
 "nbformat": 4,
 "nbformat_minor": 5
}
