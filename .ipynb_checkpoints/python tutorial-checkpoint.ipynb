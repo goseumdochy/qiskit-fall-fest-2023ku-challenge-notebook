{
 "cells": [
  {
   "cell_type": "markdown",
   "id": "5398fd3d",
   "metadata": {},
   "source": [
    "# Python tutorial"
   ]
  },
  {
   "cell_type": "code",
   "execution_count": 3,
   "id": "f244caad",
   "metadata": {
    "scrolled": true
   },
   "outputs": [
    {
     "name": "stdout",
     "output_type": "stream",
     "text": [
      "Hello World!\n"
     ]
    }
   ],
   "source": [
    "print(\"Hello World!\")"
   ]
  },
  {
   "cell_type": "markdown",
   "id": "dcea9cde",
   "metadata": {},
   "source": [
    "## 사칙연산"
   ]
  },
  {
   "cell_type": "code",
   "execution_count": 21,
   "id": "3d6881f9",
   "metadata": {},
   "outputs": [
    {
     "name": "stdout",
     "output_type": "stream",
     "text": [
      "덧셈: 54\n",
      "뺄셈: 4\n",
      "곱셈: 12\n",
      "나눗셈: 1666.6666666666667\n",
      "몫: 1666\n",
      "나머지: 2\n",
      "제곱: 9\n"
     ]
    }
   ],
   "source": [
    "# 덧셈\n",
    "print(\"덧셈:\", 50+4)\n",
    "\n",
    "# 뺄셈\n",
    "print(\"뺄셈:\", 7-3)\n",
    "\n",
    "# 곱셈\n",
    "print(\"곱셈:\", 3*4)\n",
    "\n",
    "# 나눗셈\n",
    "print(\"나눗셈:\", 5000 / 3)\n",
    "\n",
    "# 몫\n",
    "print(\"몫:\", 5000 // 3)\n",
    "\n",
    "# 나머지\n",
    "print(\"나머지:\", 50 % 8)\n",
    "\n",
    "# 제곱\n",
    "print(\"제곱:\", 3 ** 2)"
   ]
  },
  {
   "cell_type": "markdown",
   "id": "e99603ff",
   "metadata": {},
   "source": [
    "## 상수와 변수\n",
    "프로그래밍의 기본은 **상수**와 **변수**입니다. 아래의 코드를 실행해봅시다."
   ]
  },
  {
   "cell_type": "code",
   "execution_count": 14,
   "id": "96e9dafd",
   "metadata": {},
   "outputs": [
    {
     "name": "stdout",
     "output_type": "stream",
     "text": [
      "10\n"
     ]
    }
   ],
   "source": [
    "var = 10\n",
    "print(var)"
   ]
  },
  {
   "cell_type": "markdown",
   "id": "31e78325",
   "metadata": {},
   "source": [
    "10 이라는 숫자 혹은 문자와 같은 값 자체를 상수(constant)라고 합니다. 반면 이러한 상수가 저장된 공간임 var은 변수(variable)이라고 합니다. `var = 10`은 var이라는 변수에 10을 할당하라는 의미입니다. `print()`는 결과물을 출력하는 함수로써, var의 내용을 출력합니다."
   ]
  },
  {
   "cell_type": "code",
   "execution_count": 15,
   "id": "56d7c978",
   "metadata": {},
   "outputs": [
    {
     "name": "stdout",
     "output_type": "stream",
     "text": [
      "Hello World\n"
     ]
    }
   ],
   "source": [
    "var = 'Hello World'\n",
    "print(var)"
   ]
  },
  {
   "cell_type": "markdown",
   "id": "ef82a1d2",
   "metadata": {},
   "source": [
    "var라는 변수에 새롭게 'Hello World'라는 상수(문자)를 입력하였더니 그 값이 바뀌었습니다."
   ]
  },
  {
   "cell_type": "code",
   "execution_count": 16,
   "id": "ee9aea7b",
   "metadata": {},
   "outputs": [
    {
     "name": "stdout",
     "output_type": "stream",
     "text": [
      "3\n"
     ]
    }
   ],
   "source": [
    "var1 = 1\n",
    "var2 = 2\n",
    "\n",
    "print(var1 + var2)"
   ]
  },
  {
   "cell_type": "markdown",
   "id": "1c0731a6",
   "metadata": {},
   "source": [
    "var1이라는 변수에는 1이라는 숫자, var2이라는 변수에는 2라는 숫자를 입력하였습니다. `var1 + var2`는 1+2와 같으므로 3이라는 결과가 출력됩니다."
   ]
  },
  {
   "cell_type": "code",
   "execution_count": 17,
   "id": "a44d2975",
   "metadata": {},
   "outputs": [
    {
     "name": "stdout",
     "output_type": "stream",
     "text": [
      "5\n"
     ]
    }
   ],
   "source": [
    "var1 = 3\n",
    "print(var1 + var2)"
   ]
  },
  {
   "cell_type": "markdown",
   "id": "30c1a83a",
   "metadata": {},
   "source": [
    "var1이라는 변수에는 3이라는 숫자를 입력하면, `var1 + var2`는 3+2가 되므로 5라는 결과가 출력됩니다. 이처럼 변수에는 계속해서 다른 상수를 입력할 수 있습니다."
   ]
  },
  {
   "cell_type": "markdown",
   "id": "2e159fe2",
   "metadata": {},
   "source": [
    "## 데이터 타입(자료형)"
   ]
  },
  {
   "cell_type": "markdown",
   "id": "a88dd35b",
   "metadata": {},
   "source": [
    "파이썬에는 다양한 자료형이 존재하며, 이에 대해 하나씩 살펴보도록 하겠습니다."
   ]
  },
  {
   "cell_type": "markdown",
   "id": "e18d7d6f",
   "metadata": {},
   "source": [
    "### 숫자형\n",
    "숫자형(Number)은 정수나 실수와 같이 숫자 형태로 이루어진 자료형입니다. 8진수와 16진수도 있으나 많이 사용하지는 않습니다.\n",
    "\n",
    "먼저 정수형(Integer)이란 -2, -1, 3433, 23 처럼 소수점을 사용하지 않고 숫자를 표현한 것입니다."
   ]
  },
  {
   "cell_type": "code",
   "execution_count": 18,
   "id": "aaa568ab",
   "metadata": {},
   "outputs": [
    {
     "data": {
      "text/plain": [
       "int"
      ]
     },
     "execution_count": 18,
     "metadata": {},
     "output_type": "execute_result"
    }
   ],
   "source": [
    "type(1)"
   ]
  },
  {
   "cell_type": "markdown",
   "id": "297ca8b2",
   "metadata": {},
   "source": [
    "`type()` 함수는 데이터 타입을 확인해주는 역할을 합니다. 1이라는 숫자의 타입을 확인해보면 int(정수)임을 알 수 있습니다.\n",
    "\n",
    "한편 실수를 표현하는 부동소수점 자료형(floating point)는 소수점을 포함한 숫자입니다."
   ]
  },
  {
   "cell_type": "code",
   "execution_count": 19,
   "id": "bdfac102",
   "metadata": {},
   "outputs": [
    {
     "data": {
      "text/plain": [
       "float"
      ]
     },
     "execution_count": 19,
     "metadata": {},
     "output_type": "execute_result"
    }
   ],
   "source": [
    "type(1.0)"
   ]
  },
  {
   "cell_type": "markdown",
   "id": "3cea4b42",
   "metadata": {},
   "source": [
    "1.0이라는 숫자의 타입을 확인해보면 float, 즉 실수임을 알 수 있습니다. 일반적으로 1과 1.0은 동일한 숫자라고 생각할 수 있지만, 프로그래밍에서 정수형과 실수형은 엄밀하게는 다른 타입입니다."
   ]
  },
  {
   "cell_type": "markdown",
   "id": "6f106b0e",
   "metadata": {},
   "source": [
    "### 문자열\n",
    "문자열(String)이란 문자, 단어 등으로 구성된 문자들의 집합을 의미합니다. 파이썬에서 문자열을 만드는 방법은 총 4가지가 있습니다."
   ]
  },
  {
   "cell_type": "code",
   "execution_count": 22,
   "id": "00af383e",
   "metadata": {},
   "outputs": [
    {
     "data": {
      "text/plain": [
       "'Hello World'"
      ]
     },
     "execution_count": 22,
     "metadata": {},
     "output_type": "execute_result"
    }
   ],
   "source": [
    "\"Hello World\""
   ]
  },
  {
   "cell_type": "markdown",
   "id": "6143f793",
   "metadata": {},
   "source": [
    "먼저 큰 따옴표(\")로 양쪽을 둘러싸서 문자열을 만들 수 있습니다."
   ]
  },
  {
   "cell_type": "code",
   "execution_count": 23,
   "id": "0d6694bc",
   "metadata": {},
   "outputs": [
    {
     "data": {
      "text/plain": [
       "'Hello World'"
      ]
     },
     "execution_count": 23,
     "metadata": {},
     "output_type": "execute_result"
    }
   ],
   "source": [
    "'Hello World'"
   ]
  },
  {
   "cell_type": "markdown",
   "id": "8e7d65ca",
   "metadata": {},
   "source": [
    "작은 따옴표(')로 양쪽을 둘러싸서도 문자열을 만들 수 있습니다."
   ]
  },
  {
   "cell_type": "code",
   "execution_count": 25,
   "id": "049f9cda",
   "metadata": {},
   "outputs": [
    {
     "name": "stdout",
     "output_type": "stream",
     "text": [
      "Life is too short\n",
      "You need python\n"
     ]
    }
   ],
   "source": [
    "multiline = \"\"\"Life is too short\n",
    "You need python\"\"\"\n",
    "print(multiline)"
   ]
  },
  {
   "cell_type": "code",
   "execution_count": 26,
   "id": "85a5681c",
   "metadata": {},
   "outputs": [
    {
     "name": "stdout",
     "output_type": "stream",
     "text": [
      "Life is too short\n",
      "You need python\n"
     ]
    }
   ],
   "source": [
    "multiline = '''Life is too short\n",
    "You need python'''\n",
    "print(multiline)"
   ]
  },
  {
   "cell_type": "markdown",
   "id": "e5b7a0b1",
   "metadata": {},
   "source": [
    "큰 따옴표 3개를 연속(\"\"\")으로 양쪽을 둘러싸거나, 작은 따옴표 3개를 연속(''')으로 써서 양쪽을 둘러싸서도 문자열을 만들 수 있습니다. 따옴표를 3개 사용할 경우 줄 바꿈을 통해 여러줄의 문자열을 만들 수 있습니다."
   ]
  },
  {
   "cell_type": "markdown",
   "id": "ed003b85",
   "metadata": {},
   "source": [
    "파이썬에서는 문자열을 더하거나 곱할 수 있습니다."
   ]
  },
  {
   "cell_type": "code",
   "execution_count": 27,
   "id": "47207c2f",
   "metadata": {},
   "outputs": [
    {
     "data": {
      "text/plain": [
       "'Hello World'"
      ]
     },
     "execution_count": 27,
     "metadata": {},
     "output_type": "execute_result"
    }
   ],
   "source": [
    "a = 'Hello'\n",
    "b = ' World'\n",
    "\n",
    "a + b"
   ]
  },
  {
   "cell_type": "markdown",
   "id": "b7f2b9f3",
   "metadata": {},
   "source": [
    "a라는 변수에 'Hello'라는 글자를, b라는 변수에 ' World'라는 글자를 입력한 후 두 변수를 더하면 두 글자가 합쳐집니다."
   ]
  },
  {
   "cell_type": "code",
   "execution_count": 29,
   "id": "59095cbe",
   "metadata": {},
   "outputs": [
    {
     "data": {
      "text/plain": [
       "'Python Python Python '"
      ]
     },
     "execution_count": 29,
     "metadata": {},
     "output_type": "execute_result"
    }
   ],
   "source": [
    "c = 'Python '\n",
    "\n",
    "c * 3"
   ]
  },
  {
   "cell_type": "markdown",
   "id": "ac0ad85d",
   "metadata": {},
   "source": [
    "이번에는 c라는 변수에 'Python '을 입력한 후 3을 곱하면, c가 세 번 반복됩니다."
   ]
  },
  {
   "cell_type": "markdown",
   "id": "3f6dc421",
   "metadata": {},
   "source": [
    "**f-string** 포메팅"
   ]
  },
  {
   "cell_type": "markdown",
   "id": "16388efe",
   "metadata": {},
   "source": [
    "문자열에서 특정 부분만이 바뀌고 나머지 부분은 일정할 경우, 파이썬에서는 f-string 포메팅을 이용하여 쉽게 나타낼 수 있습니다.(파이썬 3.6 버전 이상)"
   ]
  },
  {
   "cell_type": "code",
   "execution_count": 1,
   "id": "bbb25bbd",
   "metadata": {},
   "outputs": [
    {
     "data": {
      "text/plain": [
       "'나의 이름은 홍길동이며, 2001년에 태어났습니다'"
      ]
     },
     "execution_count": 1,
     "metadata": {},
     "output_type": "execute_result"
    }
   ],
   "source": [
    "name = \"홍길동\"\n",
    "birth = \"2001\"\n",
    "\n",
    "f'나의 이름은 {name}이며, {birth}년에 태어났습니다'"
   ]
  },
  {
   "cell_type": "markdown",
   "id": "3e5e2e95",
   "metadata": {},
   "source": [
    "f-string의 형태는 `f'문자열 {변수} 문자열` 입니다. 즉 문자열 맨 앞에 f를 붙이면 f-string 포메팅이 선언되며, 중괄호 안에 변수를 넣으면 해당 부분에 변수의 값이 입력됩니다."
   ]
  },
  {
   "cell_type": "markdown",
   "id": "aae43caa",
   "metadata": {},
   "source": [
    "**문자열 길이**\n",
    "\n",
    "문자열의 길이를 구할 때는 `len()` 함수를 사용합니다."
   ]
  },
  {
   "cell_type": "code",
   "execution_count": 2,
   "id": "030b2882",
   "metadata": {},
   "outputs": [
    {
     "data": {
      "text/plain": [
       "17"
      ]
     },
     "execution_count": 2,
     "metadata": {},
     "output_type": "execute_result"
    }
   ],
   "source": [
    "a = 'Life is too short'\n",
    "len(a)"
   ]
  },
  {
   "cell_type": "markdown",
   "id": "f81e9d19",
   "metadata": {},
   "source": [
    "'Life is too short'이라는 문장은 빈 칸을 포함하여 총 17 글자로 이루어져 있습니다."
   ]
  },
  {
   "cell_type": "markdown",
   "id": "60a58ba1",
   "metadata": {},
   "source": [
    "**문자열 치환하기**\n",
    "\n",
    "특정한 문자를 다른 문자로 바꾸고 싶을 때는 `replace()` 매서드를 사용한다."
   ]
  },
  {
   "cell_type": "code",
   "execution_count": 5,
   "id": "5042dff4",
   "metadata": {},
   "outputs": [
    {
     "data": {
      "text/plain": [
       "'Qiskit_Fall_Fest_at_Korea_University_2023'"
      ]
     },
     "execution_count": 5,
     "metadata": {},
     "output_type": "execute_result"
    }
   ],
   "source": [
    "var = 'Qiskit Fall Fest at Korea University 2023'\n",
    "var.replace(' ', '_')"
   ]
  },
  {
   "cell_type": "markdown",
   "id": "3804fc70",
   "metadata": {},
   "source": [
    "먼저 var 변수에 'Qiskit Fall Fest at Korea University 2023' 라는 문자열을 입력하였습니다. 그 후 `문자열.replace(a, b)` 매서드를 사용하면 문자열에서 a라는 문자를 b라는 문자로 바꿀 수 있습니다."
   ]
  },
  {
   "cell_type": "markdown",
   "id": "5ff5004d",
   "metadata": {},
   "source": [
    "**문자열 나누기**\n",
    "\n",
    "`split()` 매서드를 사용하면 문자열을 나눌 수 있습니다."
   ]
  },
  {
   "cell_type": "code",
   "execution_count": 7,
   "id": "2c70909e",
   "metadata": {},
   "outputs": [
    {
     "data": {
      "text/plain": [
       "['Qiskit', 'Fall', 'Fest', 'at', 'Korea', 'University', '2023']"
      ]
     },
     "execution_count": 7,
     "metadata": {},
     "output_type": "execute_result"
    }
   ],
   "source": [
    "var = 'Qiskit Fall Fest at Korea University 2023'\n",
    "var.split(' ')"
   ]
  },
  {
   "cell_type": "markdown",
   "id": "438ec728",
   "metadata": {},
   "source": [
    "`split()` 매서드 내부에 값을 입력하면, 해당 값을 기준으로 문자열을 나누 줍니다. 위 예제에서는 공백(' ')을 기준으로 문자열을 나누었습니다."
   ]
  },
  {
   "cell_type": "markdown",
   "id": "8b4fffc7",
   "metadata": {},
   "source": [
    "**문자열 인덱싱과 슬라이싱**\n",
    "\n",
    "인덱싱(Indexing)이란 문자열 중 특정 위치의 값을 가져오는 것이며, 슬라이싱(Slicing)이란 특정 위치가 아닌 범위에 해당하는 문자열을 가지고 오는 것입니다."
   ]
  },
  {
   "cell_type": "code",
   "execution_count": 9,
   "id": "7f0ce1d8",
   "metadata": {},
   "outputs": [
    {
     "name": "stdout",
     "output_type": "stream",
     "text": [
      "r\n",
      "K\n"
     ]
    }
   ],
   "source": [
    "var = 'Korea University'\n",
    "\n",
    "print(var[2])\n",
    "print(var[0])"
   ]
  },
  {
   "cell_type": "markdown",
   "id": "1d8214d1",
   "metadata": {},
   "source": [
    "인덱싱과 슬라이싱은 대괄호([ ])를 사용해서 표현합니다. 파이썬은 숫자를 0부터 셉니다. `var[2]`는 두번째 문자를 의마하며, 이에 해당하는 'r'이 출력되었습니다."
   ]
  },
  {
   "cell_type": "code",
   "execution_count": 10,
   "id": "105e5f19",
   "metadata": {},
   "outputs": [
    {
     "data": {
      "text/plain": [
       "'t'"
      ]
     },
     "execution_count": 10,
     "metadata": {},
     "output_type": "execute_result"
    }
   ],
   "source": [
    "var[-2]"
   ]
  },
  {
   "cell_type": "markdown",
   "id": "7802cea0",
   "metadata": {},
   "source": [
    "인덱싱에 - 기호를 붙이면 문자열을 뒤에서부터 세기 시작합니다. 즉 `var[2]`는 뒤에서 두번째 문자를 의미하며 이에 해당하는 't'가 출력되었습니다."
   ]
  },
  {
   "cell_type": "code",
   "execution_count": 12,
   "id": "15aa0de6",
   "metadata": {},
   "outputs": [
    {
     "name": "stdout",
     "output_type": "stream",
     "text": [
      "Korea\n",
      "Kore\n",
      "Korea University\n",
      "ea University\n",
      "KraUiest\n",
      "ytisrevinU aeroK\n"
     ]
    }
   ],
   "source": [
    "print(var[0:5])\n",
    "print(var[:4])\n",
    "print(var[:])\n",
    "print(var[3:])\n",
    "print(var[::2])\n",
    "print(var[::-1])"
   ]
  },
  {
   "cell_type": "markdown",
   "id": "779b8b8d",
   "metadata": {},
   "source": [
    "슬라이싱은 대괄호내부에 콜론 기호를 사용하여 `시작:마지막:간격` 에 해당하는 문자를 출력합니다. 시작 부분의 기본값은 0 이고, 마지막 부분의 기본값은 그 문자열의 길이 입니다. 간격 부분의 기본값은 1 입니다."
   ]
  },
  {
   "cell_type": "markdown",
   "id": "3412c08a",
   "metadata": {},
   "source": [
    "### 리스트\n",
    "파이썬에서는 연속된 데이터를 표현하기 위하여 리스트(List) 자료형을 사용합니다."
   ]
  },
  {
   "cell_type": "code",
   "execution_count": 13,
   "id": "878397f8",
   "metadata": {},
   "outputs": [
    {
     "data": {
      "text/plain": [
       "list"
      ]
     },
     "execution_count": 13,
     "metadata": {},
     "output_type": "execute_result"
    }
   ],
   "source": [
    "a = []\n",
    "type(a)"
   ]
  },
  {
   "cell_type": "markdown",
   "id": "464b3697",
   "metadata": {},
   "source": [
    "리스트는 대괄호([ ])를 이용하여 생성할 수 있으며, 아무 값도 입력하지 않을 경우 빈 리스트가 생성됩니다."
   ]
  },
  {
   "cell_type": "code",
   "execution_count": 14,
   "id": "2af3a957",
   "metadata": {},
   "outputs": [
    {
     "name": "stdout",
     "output_type": "stream",
     "text": [
      "[1, 2, 3]\n"
     ]
    }
   ],
   "source": [
    "list_num = [1, 2, 3]\n",
    "print(list_num)"
   ]
  },
  {
   "cell_type": "code",
   "execution_count": 15,
   "id": "90a0e96d",
   "metadata": {},
   "outputs": [
    {
     "name": "stdout",
     "output_type": "stream",
     "text": [
      "['a', 'b', 'c']\n"
     ]
    }
   ],
   "source": [
    "list_char = ['a', 'b', 'c']\n",
    "print(list_char)"
   ]
  },
  {
   "cell_type": "code",
   "execution_count": 16,
   "id": "e09443a7",
   "metadata": {},
   "outputs": [
    {
     "name": "stdout",
     "output_type": "stream",
     "text": [
      "[1, 'a', 3.14]\n"
     ]
    }
   ],
   "source": [
    "list_complex = [1, 'a', 3.14]\n",
    "print(list_complex)"
   ]
  },
  {
   "cell_type": "markdown",
   "id": "7f1595e9",
   "metadata": {},
   "source": [
    "리스트 내부에 각 요소는 쉼표(,)를 이용하여 구분해줍니다. 요소값은 다양한 자료형을 함께 가질 수도 있습니다."
   ]
  },
  {
   "cell_type": "code",
   "execution_count": 17,
   "id": "66dea156",
   "metadata": {},
   "outputs": [
    {
     "name": "stdout",
     "output_type": "stream",
     "text": [
      "[1, 2, ['a', 'b']]\n"
     ]
    }
   ],
   "source": [
    "list_nest = [1, 2, ['a', 'b']]\n",
    "print(list_nest)"
   ]
  },
  {
   "cell_type": "markdown",
   "id": "43a5ae92",
   "metadata": {},
   "source": [
    "리스트 자체를 하나의 요소로 가질 수도 있습니다."
   ]
  },
  {
   "cell_type": "markdown",
   "id": "e4afb7bd",
   "metadata": {},
   "source": [
    "**리스트 인덱싱과 슬라이싱**\n",
    "\n",
    "리스트도 문자열과 동일한 방법으로 인덱싱과 슬라이싱을 할 수 있습니다."
   ]
  },
  {
   "cell_type": "code",
   "execution_count": 18,
   "id": "0096a4ed",
   "metadata": {},
   "outputs": [
    {
     "data": {
      "text/plain": [
       "1"
      ]
     },
     "execution_count": 18,
     "metadata": {},
     "output_type": "execute_result"
    }
   ],
   "source": [
    "var = [1, 2, ['a', 'b', 'c']]\n",
    "\n",
    "var[0]"
   ]
  },
  {
   "cell_type": "code",
   "execution_count": 19,
   "id": "37b6f6a4",
   "metadata": {},
   "outputs": [
    {
     "data": {
      "text/plain": [
       "['a', 'b', 'c']"
      ]
     },
     "execution_count": 19,
     "metadata": {},
     "output_type": "execute_result"
    }
   ],
   "source": [
    "var[2]"
   ]
  },
  {
   "cell_type": "code",
   "execution_count": 20,
   "id": "05ed9d76",
   "metadata": {},
   "outputs": [
    {
     "data": {
      "text/plain": [
       "'b'"
      ]
     },
     "execution_count": 20,
     "metadata": {},
     "output_type": "execute_result"
    }
   ],
   "source": [
    "var[2][1]"
   ]
  },
  {
   "cell_type": "code",
   "execution_count": 21,
   "id": "54362c6d",
   "metadata": {},
   "outputs": [
    {
     "data": {
      "text/plain": [
       "[1, 2]"
      ]
     },
     "execution_count": 21,
     "metadata": {},
     "output_type": "execute_result"
    }
   ],
   "source": [
    "var[0:2]"
   ]
  },
  {
   "cell_type": "markdown",
   "id": "ba969f21",
   "metadata": {},
   "source": [
    "**리스트 연산하기**\n",
    "\n",
    "리스트도 `+`, `*` 연산을 사용할 수 있습니다."
   ]
  },
  {
   "cell_type": "code",
   "execution_count": 1,
   "id": "d9395bda",
   "metadata": {},
   "outputs": [
    {
     "data": {
      "text/plain": [
       "[1, 2, 3, 4, 5, 6]"
      ]
     },
     "execution_count": 1,
     "metadata": {},
     "output_type": "execute_result"
    }
   ],
   "source": [
    "a = [1, 2, 3]\n",
    "b = [4, 5, 6]\n",
    "\n",
    "a+b"
   ]
  },
  {
   "cell_type": "markdown",
   "id": "d9407317",
   "metadata": {},
   "source": [
    "`+` 기호를 사용하면 두 리스트를 하나로 합칩니다."
   ]
  },
  {
   "cell_type": "code",
   "execution_count": 2,
   "id": "967d888f",
   "metadata": {},
   "outputs": [
    {
     "data": {
      "text/plain": [
       "[1, 2, 3, 1, 2, 3, 1, 2, 3]"
      ]
     },
     "execution_count": 2,
     "metadata": {},
     "output_type": "execute_result"
    }
   ],
   "source": [
    "a = [1, 2, 3]\n",
    "a * 3"
   ]
  },
  {
   "cell_type": "markdown",
   "id": "6d9412bd",
   "metadata": {},
   "source": [
    "`*` 기호를 사용하면 리스트를 해당 횟수만큼 반복합니다.."
   ]
  },
  {
   "cell_type": "markdown",
   "id": "d736b5ce",
   "metadata": {},
   "source": [
    "**리스트에 요소 추가하기**\n",
    "\n",
    "다양한 방법을 통해 기존의 리스트에 새로운 데이터를 추가하거나 삽입할 수 있다."
   ]
  },
  {
   "cell_type": "code",
   "execution_count": 3,
   "id": "d4d066f7",
   "metadata": {},
   "outputs": [
    {
     "name": "stdout",
     "output_type": "stream",
     "text": [
      "[1, 2, 3, 4]\n"
     ]
    }
   ],
   "source": [
    "var = [1, 2, 3]\n",
    "var.append(4)\n",
    "print(var)"
   ]
  },
  {
   "cell_type": "markdown",
   "id": "91433126",
   "metadata": {},
   "source": [
    "`append()` 매서드는 기존의 리스트 맨 마지막에 데이터를 추가합니다."
   ]
  },
  {
   "cell_type": "code",
   "execution_count": 4,
   "id": "b713a491",
   "metadata": {},
   "outputs": [
    {
     "name": "stdout",
     "output_type": "stream",
     "text": [
      "[1, 2, 3, [4, 5]]\n"
     ]
    }
   ],
   "source": [
    "var = [1, 2, 3]\n",
    "var.append([4, 5])\n",
    "print(var)"
   ]
  },
  {
   "cell_type": "markdown",
   "id": "0f73c248",
   "metadata": {},
   "source": [
    "만약 `append()` 매서드 내에 리스트 형태를 입력할 경우 중첩된 형태로 데이터가 추가됩니다. 리스트에 새로운 리스트를 중첩된 형태가 아니라 리스트 형태로 확장하고 싶을 경우에는 `extend()` 매서드를 사용하면 됩니다."
   ]
  },
  {
   "cell_type": "code",
   "execution_count": 5,
   "id": "d5274472",
   "metadata": {},
   "outputs": [
    {
     "name": "stdout",
     "output_type": "stream",
     "text": [
      "[1, 2, 3, 4, 5]\n"
     ]
    }
   ],
   "source": [
    "var = [1, 2, 3]\n",
    "var.extend([4, 5])\n",
    "print(var)"
   ]
  },
  {
   "cell_type": "markdown",
   "id": "7e4bd79e",
   "metadata": {},
   "source": [
    "**리스트의 수정과 삭제**\n",
    "\n",
    "인덱싱과 슬라이싱을 이용하면 리스트의 요소를 수정 혹은 삭제할 수 있습니다."
   ]
  },
  {
   "cell_type": "code",
   "execution_count": 6,
   "id": "798278c8",
   "metadata": {},
   "outputs": [
    {
     "name": "stdout",
     "output_type": "stream",
     "text": [
      "[1, 2, 10, 4, 5]\n"
     ]
    }
   ],
   "source": [
    "var = [1,2,3,4,5]\n",
    "var[2] = 10\n",
    "print(var)"
   ]
  },
  {
   "cell_type": "markdown",
   "id": "50db5b2a",
   "metadata": {},
   "source": [
    "먼저 var라는 변수에 1부터 5까지 숫자로 구성된 리스트를 만들었습니다. 그 후 var의 두번재 요소에 10을 입력하면 해당 값으로 요소가 변경됩니다."
   ]
  },
  {
   "cell_type": "code",
   "execution_count": 7,
   "id": "3dd8250a",
   "metadata": {},
   "outputs": [
    {
     "name": "stdout",
     "output_type": "stream",
     "text": [
      "[1, 2, 10, ['a', 'b', 'c'], 5]\n"
     ]
    }
   ],
   "source": [
    "var[3] = ['a', 'b', 'c']\n",
    "print(var)"
   ]
  },
  {
   "cell_type": "markdown",
   "id": "5be03cee",
   "metadata": {},
   "source": [
    "이번에는 세번째 요소를 ['a', 'b', 'c']라는 요소로 변경하였습니다."
   ]
  },
  {
   "cell_type": "code",
   "execution_count": 8,
   "id": "9ce52164",
   "metadata": {},
   "outputs": [
    {
     "name": "stdout",
     "output_type": "stream",
     "text": [
      "['가', '나', 10, ['a', 'b', 'c'], 5]\n"
     ]
    }
   ],
   "source": [
    "var[0 : 2] = ['가', '나']\n",
    "print(var)"
   ]
  },
  {
   "cell_type": "markdown",
   "id": "5547b913",
   "metadata": {},
   "source": [
    "슬라이싱을 이용해 데이터를 수정할 수도 있습니다. `var[0 : 2]`는 0 부터 1 까지의 데이터를 의미하며, 해당 데이터를 ['가', '나']로 변경하였습니다."
   ]
  },
  {
   "cell_type": "markdown",
   "id": "ad7c8728",
   "metadata": {},
   "source": [
    "이번에는 리스트에서 요소를 삭제하는 방법에 대해 살펴보겠으며, 먼저 `del` 명령어를 사용하는 방법을 보겠습니다."
   ]
  },
  {
   "cell_type": "code",
   "execution_count": 10,
   "id": "522d9478",
   "metadata": {},
   "outputs": [
    {
     "name": "stdout",
     "output_type": "stream",
     "text": [
      "[2, 3]\n"
     ]
    }
   ],
   "source": [
    "var = [1, 2, 3]\n",
    "del var[0]\n",
    "print(var)"
   ]
  },
  {
   "cell_type": "markdown",
   "id": "aabfc8f3",
   "metadata": {},
   "source": [
    "`del` 객체를 이용하여 데이터를 삭제할 수 있습니다. 위의 예제에서 `del var[0]`는 var에서 첫번째 요소를 삭제하라는 의미입니다. 인덱싱 뿐만 아니라 `del var[0:2]`와 같이 슬라이싱을 통해서도 데이터를 삭제할 수 있습니다."
   ]
  },
  {
   "cell_type": "code",
   "execution_count": 11,
   "id": "a1b1ac75",
   "metadata": {},
   "outputs": [
    {
     "name": "stdout",
     "output_type": "stream",
     "text": [
      "[2, 3]\n"
     ]
    }
   ],
   "source": [
    "var = [1, 2, 3]\n",
    "var[0:1] = []\n",
    "print(var)"
   ]
  },
  {
   "cell_type": "markdown",
   "id": "c48f20af",
   "metadata": {},
   "source": [
    "슬라이싱을 통해 범위를 지정한 후 빈 리스트([])를 입력하여 해당 부분의 데이터를 삭제할 수도 있습니다."
   ]
  },
  {
   "cell_type": "code",
   "execution_count": 12,
   "id": "1a015fd1",
   "metadata": {},
   "outputs": [
    {
     "name": "stdout",
     "output_type": "stream",
     "text": [
      "[2, 3, 1, 2, 3]\n"
     ]
    }
   ],
   "source": [
    "var = [1, 2, 3, 1, 2, 3]\n",
    "var.remove(1)\n",
    "print(var)"
   ]
  },
  {
   "cell_type": "markdown",
   "id": "440296de",
   "metadata": {},
   "source": [
    "`remove(x)` 메서드는 리스트에서 첫 번째로 나오는 x를 삭제하는 함수입니다. 위 예제에서는 가장 먼저 나오는 1이 삭제된 것을 확인할 수 있습니다."
   ]
  },
  {
   "cell_type": "code",
   "execution_count": 13,
   "id": "8b9af832",
   "metadata": {},
   "outputs": [
    {
     "data": {
      "text/plain": [
       "3"
      ]
     },
     "execution_count": 13,
     "metadata": {},
     "output_type": "execute_result"
    }
   ],
   "source": [
    "var = [1, 2, 3]\n",
    "var.pop()"
   ]
  },
  {
   "cell_type": "code",
   "execution_count": 14,
   "id": "3a47097d",
   "metadata": {},
   "outputs": [
    {
     "name": "stdout",
     "output_type": "stream",
     "text": [
      "[1, 2]\n"
     ]
    }
   ],
   "source": [
    "print(var)"
   ]
  },
  {
   "cell_type": "markdown",
   "id": "838eb850",
   "metadata": {},
   "source": [
    "`pop()` 메서드는 리스트의 맨 마지막 요소를 반환하고 해당 요소는 삭제합니다. 위 예에서 가장 마지막 요소인 3이 출력되고, var를 확인해보면 최종적으로 [1, 2]만 남아있습니다."
   ]
  },
  {
   "cell_type": "markdown",
   "id": "1fbe1f73",
   "metadata": {},
   "source": [
    "**리스트 정렬하기**\n",
    "\n",
    "리스트 내의 데이터들은 `sort()` 매서드를 통해 정렬할 수 있습니다."
   ]
  },
  {
   "cell_type": "code",
   "execution_count": 16,
   "id": "79ba5083",
   "metadata": {},
   "outputs": [
    {
     "name": "stdout",
     "output_type": "stream",
     "text": [
      "[1, 2, 3, 4]\n"
     ]
    }
   ],
   "source": [
    "var = [2, 4, 1, 3]\n",
    "var.sort()\n",
    "print(var)"
   ]
  },
  {
   "cell_type": "markdown",
   "id": "86c2930f",
   "metadata": {},
   "source": [
    "1부터 4까지의 순서가 무작위로 존재했지만, sort()를 입력하면 오름차순으로 정렬됩니다."
   ]
  },
  {
   "cell_type": "markdown",
   "id": "c693793c",
   "metadata": {},
   "source": [
    "### 튜플\n",
    "튜플(Tuple) 자료형은 리스트와 매우 흡사하며 약간의 차이점이 있습니다. 먼저 리스트는 대괄호([ ])를 이용하여 생성하지만 튜플은 소괄호(())를 이용하여 생성합니다. 또한 튜플은 값을 수정하거나 삭제할 수 없습니다."
   ]
  },
  {
   "cell_type": "code",
   "execution_count": 17,
   "id": "866c30ad",
   "metadata": {},
   "outputs": [
    {
     "data": {
      "text/plain": [
       "tuple"
      ]
     },
     "execution_count": 17,
     "metadata": {},
     "output_type": "execute_result"
    }
   ],
   "source": [
    "var = ()\n",
    "type(var)"
   ]
  },
  {
   "cell_type": "markdown",
   "id": "e2ae77bd",
   "metadata": {},
   "source": [
    "리스트와 마찬가지로 소괄호를 입력하면 빈 튜플이 생성됩니다."
   ]
  },
  {
   "cell_type": "code",
   "execution_count": 18,
   "id": "ec6bbe48",
   "metadata": {},
   "outputs": [
    {
     "name": "stdout",
     "output_type": "stream",
     "text": [
      "(1,)\n"
     ]
    }
   ],
   "source": [
    "var = (1, )\n",
    "print(var)"
   ]
  },
  {
   "cell_type": "markdown",
   "id": "d562d5ae",
   "metadata": {},
   "source": [
    "만일 값이 하나만 있을 경우에는 요소 뒤에 쉼표(,)를 반드시 붙여야 합니다."
   ]
  },
  {
   "cell_type": "code",
   "execution_count": 19,
   "id": "0b5189ee",
   "metadata": {},
   "outputs": [
    {
     "name": "stdout",
     "output_type": "stream",
     "text": [
      "(1, 2, ('a', 'b'))\n"
     ]
    }
   ],
   "source": [
    "var = (1, 2, ('a', 'b'))\n",
    "print(var)"
   ]
  },
  {
   "cell_type": "markdown",
   "id": "c3fc812c",
   "metadata": {},
   "source": [
    "튜플 역시 요소를 중첩하여 사용할 수 있습니다."
   ]
  },
  {
   "cell_type": "code",
   "execution_count": 20,
   "id": "147c82f0",
   "metadata": {},
   "outputs": [
    {
     "ename": "TypeError",
     "evalue": "'tuple' object doesn't support item deletion",
     "output_type": "error",
     "traceback": [
      "\u001b[1;31m---------------------------------------------------------------------------\u001b[0m",
      "\u001b[1;31mTypeError\u001b[0m                                 Traceback (most recent call last)",
      "Cell \u001b[1;32mIn[20], line 2\u001b[0m\n\u001b[0;32m      1\u001b[0m var \u001b[38;5;241m=\u001b[39m (\u001b[38;5;241m1\u001b[39m, \u001b[38;5;241m2\u001b[39m)\n\u001b[1;32m----> 2\u001b[0m \u001b[38;5;28;01mdel\u001b[39;00m var[\u001b[38;5;241m0\u001b[39m]\n",
      "\u001b[1;31mTypeError\u001b[0m: 'tuple' object doesn't support item deletion"
     ]
    }
   ],
   "source": [
    "var = (1, 2)\n",
    "del var[0]"
   ]
  },
  {
   "cell_type": "markdown",
   "id": "395fa363",
   "metadata": {},
   "source": [
    "만약 `del` 을 이용하여 요소값을 삭제하려고 할 경우 위와 같이 오류가 발생합니다. 이처럼 튜플은 수정 혹은 삭제가 불가능합니다."
   ]
  },
  {
   "cell_type": "code",
   "execution_count": 21,
   "id": "e97f9cb7",
   "metadata": {},
   "outputs": [
    {
     "data": {
      "text/plain": [
       "1"
      ]
     },
     "execution_count": 21,
     "metadata": {},
     "output_type": "execute_result"
    }
   ],
   "source": [
    "var = (1, 2, 3, 4, 5)\n",
    "var[0]"
   ]
  },
  {
   "cell_type": "markdown",
   "id": "fcdf482f",
   "metadata": {},
   "source": [
    "인덱싱이나 슬라이싱의 경우 리스트와 동일하게 사용이 가능합니다."
   ]
  },
  {
   "cell_type": "markdown",
   "id": "b8496502",
   "metadata": {},
   "source": [
    "### 딕셔너리\n",
    "딕셔너리(Dictionary)는 대응 관계를 나타내는 자료형으로써, 리스트나 튜플처럼 순서가 존재하지 않으며 대신 Key와 Value가 존재합니다. 딕셔너리는 다음과 같은 형태를 가지고 있습니다."
   ]
  },
  {
   "cell_type": "code",
   "execution_count": null,
   "id": "2dba654d",
   "metadata": {},
   "outputs": [],
   "source": [
    "{Key1:Value1, Key2:Value2, Key3:Value3, ...}"
   ]
  },
  {
   "cell_type": "markdown",
   "id": "e9cb86ef",
   "metadata": {},
   "source": [
    "딕셔너리는 중괄호({ })로 감싸서 표현합니다. 키(Key)-값(Value)의 형태로 데이터가 이루어져 있으며, 각각은 쉼표(,)로 구분합니다. 예시를 살펴보도록 다음과 같습니다."
   ]
  },
  {
   "cell_type": "code",
   "execution_count": 23,
   "id": "f1ff8028",
   "metadata": {},
   "outputs": [
    {
     "name": "stdout",
     "output_type": "stream",
     "text": [
      "{'key1': 1, 'key2': 2}\n"
     ]
    }
   ],
   "source": [
    "var = {'key1' : 1, 'key2' : 2}\n",
    "print(var)"
   ]
  },
  {
   "cell_type": "markdown",
   "id": "14e122ee",
   "metadata": {},
   "source": [
    "키 값이 key1인 곳에는 1이라는 값이, 키 값이 key2인 곳에는 2라는 값이 딕셔너리 형태로 입력되었습니다."
   ]
  },
  {
   "cell_type": "code",
   "execution_count": 24,
   "id": "e448dfe3",
   "metadata": {},
   "outputs": [
    {
     "name": "stdout",
     "output_type": "stream",
     "text": [
      "{'key1': [1, 2, 3], 'key2': ('a', 'b', 'c')}\n"
     ]
    }
   ],
   "source": [
    "var = {'key1': [1, 2, 3], 'key2': ('a', 'b', 'c')}\n",
    "print(var)"
   ]
  },
  {
   "cell_type": "markdown",
   "id": "a2d6e50b",
   "metadata": {},
   "source": [
    "딕셔너리의 값에는 리스트나 튜플 형태도 입력이 가능합니다."
   ]
  },
  {
   "cell_type": "markdown",
   "id": "c6cd7fe5",
   "metadata": {},
   "source": [
    "**Key를 이용하여 Value 구하기**\n",
    "\n",
    "문자열이나 리스트, 튜플의 경우 인덱싱이나 슬라이싱을 통해 요소값을 구할 수 있었지만, 딕셔너리는 순서가 존재하지 않으므로 이러한 방법을 사용할 수 없습니다. 딕셔너리는 Key를 사용해 이에 해당되는 Value를 얻을 수 있습니다."
   ]
  },
  {
   "cell_type": "code",
   "execution_count": 25,
   "id": "55e5580d",
   "metadata": {},
   "outputs": [
    {
     "data": {
      "text/plain": [
       "1"
      ]
     },
     "execution_count": 25,
     "metadata": {},
     "output_type": "execute_result"
    }
   ],
   "source": [
    "var = {'key1': 1, 'key2': 2, 'key3': 3}\n",
    "var['key1']"
   ]
  },
  {
   "cell_type": "markdown",
   "id": "a4863ef9",
   "metadata": {},
   "source": [
    "먼저 var라는 변수에 딕셔너리를 입력한 후, `var['key1']`을 입력하면 딕셔너리 중 Key값이 key1에 해당하는 데이터의 Value를 반환합니다. 즉 딕셔너리 변수에서 [ ] 안의 값은 순서를 뜻하는 것이 아니라 Key 값을 의미합니다."
   ]
  },
  {
   "cell_type": "markdown",
   "id": "076ca9e4",
   "metadata": {},
   "source": [
    "**쌍 추가하기 및 삭제하기**\n",
    "\n",
    "기존 딕셔너리에 쌍을 추가하는 방법과 삭제하는 방법에 대해 살펴봅시다."
   ]
  },
  {
   "cell_type": "code",
   "execution_count": 26,
   "id": "9e21479f",
   "metadata": {},
   "outputs": [
    {
     "name": "stdout",
     "output_type": "stream",
     "text": [
      "{'key1': 1, 'key2': 2, 'key3': 3}\n"
     ]
    }
   ],
   "source": [
    "var = {'key1': 1, 'key2': 2}\n",
    "var['key3'] = 3\n",
    "print(var)"
   ]
  },
  {
   "cell_type": "markdown",
   "id": "36d2916a",
   "metadata": {},
   "source": [
    "먼저 key1과 key2로 이루어진 딕셔너리를 만들었습니다. 그 후 `var['key3'] = 3`을 입력하면 Key는 key3, Value는 3인 딕셔너리 쌍이 추가됩니다."
   ]
  },
  {
   "cell_type": "code",
   "execution_count": 27,
   "id": "f7a9a98c",
   "metadata": {},
   "outputs": [
    {
     "name": "stdout",
     "output_type": "stream",
     "text": [
      "{'key2': 2, 'key3': 3}\n"
     ]
    }
   ],
   "source": [
    "del var['key1']\n",
    "print(var)"
   ]
  },
  {
   "cell_type": "markdown",
   "id": "cddea4de",
   "metadata": {},
   "source": [
    "리스트와 마찬가지로 딕셔너리에서도 `del` 을 사용하면 해당 Key를 가진 딕셔너리 쌍이 삭제됩니다."
   ]
  },
  {
   "cell_type": "markdown",
   "id": "853e861b",
   "metadata": {},
   "source": [
    "**Key와 Value 구하기**\n",
    "\n",
    "이번에는 딕셔너리의 Key와 Value를 한번에 구하는 법에 대해 살펴보겠습니다."
   ]
  },
  {
   "cell_type": "code",
   "execution_count": 28,
   "id": "922d7b8a",
   "metadata": {},
   "outputs": [
    {
     "data": {
      "text/plain": [
       "dict_keys(['key1', 'key2', 'key3'])"
      ]
     },
     "execution_count": 28,
     "metadata": {},
     "output_type": "execute_result"
    }
   ],
   "source": [
    "var = {'key1': 1, 'key2': 2, 'key3': 3}\n",
    "var.keys()"
   ]
  },
  {
   "cell_type": "markdown",
   "id": "9fecb67c",
   "metadata": {},
   "source": [
    "var.keys()를 입력하면 var라는 딕셔너리에서 Key만을 모아 dict_keys 객체로 반환합니다. 만일 이를 리스트 형태로 만들고자할 때는 다음과 같이 하면 됩니다."
   ]
  },
  {
   "cell_type": "code",
   "execution_count": 29,
   "id": "0cdad04e",
   "metadata": {},
   "outputs": [
    {
     "data": {
      "text/plain": [
       "['key1', 'key2', 'key3']"
      ]
     },
     "execution_count": 29,
     "metadata": {},
     "output_type": "execute_result"
    }
   ],
   "source": [
    "list(var.keys())"
   ]
  },
  {
   "cell_type": "markdown",
   "id": "390224a1",
   "metadata": {},
   "source": [
    "결과를 `list()`로 감싸주면 Key값이 리스트 형태로 출력됩니다."
   ]
  },
  {
   "cell_type": "code",
   "execution_count": 31,
   "id": "b1b84644",
   "metadata": {},
   "outputs": [
    {
     "data": {
      "text/plain": [
       "dict_values([1, 2, 3])"
      ]
     },
     "execution_count": 31,
     "metadata": {},
     "output_type": "execute_result"
    }
   ],
   "source": [
    "var.values()"
   ]
  },
  {
   "cell_type": "markdown",
   "id": "743fb022",
   "metadata": {},
   "source": [
    "var.values()는 var라는 딕셔너리에서 Value만을 모아 dict_values 객체로 반환합니다."
   ]
  },
  {
   "cell_type": "markdown",
   "id": "2f1e9175",
   "metadata": {},
   "source": [
    "### 집합\n",
    "집합(Set)은 집합에 관련한 자료형이며, `set()` 키워드를 사용하여 만들 수 있습니다. 집합 자료형의 특징으로는 중복을 허용하지 않는다는 점과, 순서가 없다는 점입니다."
   ]
  },
  {
   "cell_type": "code",
   "execution_count": 32,
   "id": "0b27aac4",
   "metadata": {},
   "outputs": [
    {
     "name": "stdout",
     "output_type": "stream",
     "text": [
      "{1, 2, 3}\n"
     ]
    }
   ],
   "source": [
    "set1 = set([1, 2, 3])\n",
    "print(set1)"
   ]
  },
  {
   "cell_type": "markdown",
   "id": "247ac660",
   "metadata": {},
   "source": [
    "`set()` 내에 리스트를 입력하면 집합이 만들어집니다."
   ]
  },
  {
   "cell_type": "code",
   "execution_count": 33,
   "id": "4b8a295e",
   "metadata": {},
   "outputs": [
    {
     "name": "stdout",
     "output_type": "stream",
     "text": [
      "{'b', 'n', 'a'}\n"
     ]
    }
   ],
   "source": [
    "set2 = set('banana')\n",
    "print(set2)"
   ]
  },
  {
   "cell_type": "markdown",
   "id": "edde0aae",
   "metadata": {},
   "source": [
    "반면 set() 내에 banana라는 단어를 입력했더니 'a', 'b', 'n'만 입력이 되었습니다. 이는 집합이 중복을 허용하지 않기 때문에 고유한 값만이 남았으며, 순서도 입력한 것과 다릅니다."
   ]
  },
  {
   "cell_type": "markdown",
   "id": "b85147bd",
   "metadata": {},
   "source": [
    "**합집합 교집합 차집합**"
   ]
  },
  {
   "cell_type": "code",
   "execution_count": 34,
   "id": "bc3843a9",
   "metadata": {},
   "outputs": [],
   "source": [
    "s1 = set([1, 2, 3, 4])\n",
    "s2 = set([3, 4, 5, 6])"
   ]
  },
  {
   "cell_type": "code",
   "execution_count": 37,
   "id": "164cef98",
   "metadata": {},
   "outputs": [
    {
     "data": {
      "text/plain": [
       "{1, 2, 3, 4, 5, 6}"
      ]
     },
     "execution_count": 37,
     "metadata": {},
     "output_type": "execute_result"
    }
   ],
   "source": [
    "# 합집합\n",
    "s1.union(s2)"
   ]
  },
  {
   "cell_type": "code",
   "execution_count": 38,
   "id": "d2575622",
   "metadata": {},
   "outputs": [
    {
     "data": {
      "text/plain": [
       "{3, 4}"
      ]
     },
     "execution_count": 38,
     "metadata": {},
     "output_type": "execute_result"
    }
   ],
   "source": [
    "# 교집합\n",
    "s1.intersection(s2)"
   ]
  },
  {
   "cell_type": "code",
   "execution_count": 39,
   "id": "4dffd168",
   "metadata": {},
   "outputs": [
    {
     "data": {
      "text/plain": [
       "{1, 2}"
      ]
     },
     "execution_count": 39,
     "metadata": {},
     "output_type": "execute_result"
    }
   ],
   "source": [
    "# 차집합\n",
    "s1.difference(s2)"
   ]
  },
  {
   "cell_type": "markdown",
   "id": "02318844",
   "metadata": {},
   "source": [
    "### 불리언\n",
    "불리언(Boolean) 자료형이란 참(True) 혹은 거짓(False)을 나타내는 자료형으로, 이 두가지 값만을 가질 수 있습니다."
   ]
  },
  {
   "cell_type": "code",
   "execution_count": 40,
   "id": "67952af4",
   "metadata": {},
   "outputs": [
    {
     "data": {
      "text/plain": [
       "bool"
      ]
     },
     "execution_count": 40,
     "metadata": {},
     "output_type": "execute_result"
    }
   ],
   "source": [
    "var = True\n",
    "type(var)"
   ]
  },
  {
   "cell_type": "markdown",
   "id": "bef45fef",
   "metadata": {},
   "source": [
    "var 변수에 True를 입력한 후 타입을 확인해보면 bool, 즉 불리언 자료형임을 알 수 있습니다."
   ]
  },
  {
   "cell_type": "code",
   "execution_count": 41,
   "id": "06b3794f",
   "metadata": {},
   "outputs": [
    {
     "data": {
      "text/plain": [
       "True"
      ]
     },
     "execution_count": 41,
     "metadata": {},
     "output_type": "execute_result"
    }
   ],
   "source": [
    "1 == 1"
   ]
  },
  {
   "cell_type": "markdown",
   "id": "ce1edb6c",
   "metadata": {},
   "source": [
    "## 비교 연산자 & 논리 연산자"
   ]
  },
  {
   "cell_type": "markdown",
   "id": "7da341a8",
   "metadata": {},
   "source": [
    "비교 연산자 | 문법 | 설명\n",
    ":---------: | :--: | :--:\n",
    "==| a==b | 같음\n",
    "!=| a!=b | 같지 않음\n",
    "$>$ | a>b | 초과\n",
    "< | a<b | 미만\n",
    "$>=$ | a>=b | 이상\n",
    "<= | a<=b | 이하\n",
    "is | a is b | 객체가 같음\n",
    "is not | a is not b | 객체가 같지 않음"
   ]
  },
  {
   "cell_type": "code",
   "execution_count": 42,
   "id": "a2eda459",
   "metadata": {},
   "outputs": [
    {
     "data": {
      "text/plain": [
       "True"
      ]
     },
     "execution_count": 42,
     "metadata": {},
     "output_type": "execute_result"
    }
   ],
   "source": [
    "10 == 10"
   ]
  },
  {
   "cell_type": "code",
   "execution_count": 43,
   "id": "7a73f6af",
   "metadata": {},
   "outputs": [
    {
     "data": {
      "text/plain": [
       "False"
      ]
     },
     "execution_count": 43,
     "metadata": {},
     "output_type": "execute_result"
    }
   ],
   "source": [
    "11 != 11"
   ]
  },
  {
   "cell_type": "code",
   "execution_count": 44,
   "id": "34a0ea19",
   "metadata": {},
   "outputs": [
    {
     "data": {
      "text/plain": [
       "True"
      ]
     },
     "execution_count": 44,
     "metadata": {},
     "output_type": "execute_result"
    }
   ],
   "source": [
    "10 == 10.0"
   ]
  },
  {
   "cell_type": "code",
   "execution_count": 45,
   "id": "f6ec35ed",
   "metadata": {},
   "outputs": [
    {
     "name": "stderr",
     "output_type": "stream",
     "text": [
      "<>:1: SyntaxWarning: \"is\" with a literal. Did you mean \"==\"?\n",
      "<>:1: SyntaxWarning: \"is\" with a literal. Did you mean \"==\"?\n",
      "C:\\Users\\ssgg\\AppData\\Local\\Temp\\ipykernel_16500\\484204819.py:1: SyntaxWarning: \"is\" with a literal. Did you mean \"==\"?\n",
      "  10 is 10.0\n"
     ]
    },
    {
     "data": {
      "text/plain": [
       "False"
      ]
     },
     "execution_count": 45,
     "metadata": {},
     "output_type": "execute_result"
    }
   ],
   "source": [
    "10 is 10.0 "
   ]
  },
  {
   "cell_type": "markdown",
   "id": "54b51dba",
   "metadata": {},
   "source": [
    "논리 연산자 | 문법 | 설명\n",
    ":---------: | :--: | :--:\n",
    "and| a and b | AND(논리곱), 양쪽 모두 참일 때 참\n",
    "or| a or b | OR(논리합), 양쪽 중 한쪽만 참이라도 참\n",
    "not | not x | NOT(논리부정), 참과 거짓을 뒤집음"
   ]
  },
  {
   "cell_type": "code",
   "execution_count": 47,
   "id": "e6db9e19",
   "metadata": {},
   "outputs": [
    {
     "data": {
      "text/plain": [
       "False"
      ]
     },
     "execution_count": 47,
     "metadata": {},
     "output_type": "execute_result"
    }
   ],
   "source": [
    "10==10 and \"Qiskit Fall Fest\" == \"at Korea University 2023\""
   ]
  },
  {
   "cell_type": "code",
   "execution_count": 50,
   "id": "9bf74c6c",
   "metadata": {},
   "outputs": [
    {
     "data": {
      "text/plain": [
       "True"
      ]
     },
     "execution_count": 50,
     "metadata": {},
     "output_type": "execute_result"
    }
   ],
   "source": [
    "10==10 and \"Qiskit Fall Fest\" != \"at Korea University 2023\""
   ]
  },
  {
   "cell_type": "code",
   "execution_count": 51,
   "id": "3ef5ee64",
   "metadata": {},
   "outputs": [
    {
     "data": {
      "text/plain": [
       "True"
      ]
     },
     "execution_count": 51,
     "metadata": {},
     "output_type": "execute_result"
    }
   ],
   "source": [
    "10==10 or \"Qiskit Fall Fest\" == \"at Korea University 2023\""
   ]
  },
  {
   "cell_type": "markdown",
   "id": "5e3dfcf6",
   "metadata": {},
   "source": [
    "## 제어문"
   ]
  },
  {
   "cell_type": "markdown",
   "id": "904b3866",
   "metadata": {},
   "source": [
    "### if 문\n",
    "\n",
    "if문, 혹은 조건문이란 입력된 조건을 판단하여 해당 조건에 맞는 상황을 실행하는 것입니다. 가장 기본적인 구조는 다음과 같습니다."
   ]
  },
  {
   "cell_type": "code",
   "execution_count": null,
   "id": "dd7af724",
   "metadata": {},
   "outputs": [],
   "source": [
    "if 조건:\n",
    "    실행"
   ]
  },
  {
   "cell_type": "markdown",
   "id": "15e3e5a5",
   "metadata": {},
   "source": [
    "1. `if`를 통해 if문을 선언하고, 바로 뒤에 조건을 입력한 후 콜론(:)을 붙입니다.\n",
    "2. 줄바꿈을 해준 후 만일 조건이 True일 경우 실행할 코드를 입력합니다. 이 때 조건문 바로 아래부터는 if문에 속하는 문장이므로 들여쓰기를 해주어야 하며, 공백을 4번 입력하거나 탭을 누릅니다. 만일 들여쓰기가 제대로 되지 않을 경우 오류가 발생합니다.\n",
    "\n",
    "예시를 보겠습니다."
   ]
  },
  {
   "cell_type": "code",
   "execution_count": 53,
   "id": "ec6ce744",
   "metadata": {},
   "outputs": [
    {
     "name": "stdout",
     "output_type": "stream",
     "text": [
      "값이 0보다 큽니다.\n"
     ]
    }
   ],
   "source": [
    "x = 2\n",
    "\n",
    "if x > 0:\n",
    "    print(\"값이 0보다 큽니다.\")"
   ]
  },
  {
   "cell_type": "code",
   "execution_count": 55,
   "id": "03b3ca3e",
   "metadata": {},
   "outputs": [],
   "source": [
    "x = -1\n",
    "\n",
    "if x > 0:\n",
    "    print(\"값이 0보다 큽니다.\")"
   ]
  },
  {
   "cell_type": "markdown",
   "id": "2dab4f7f",
   "metadata": {},
   "source": [
    "조건문이 False일 때 실행할 명령은 `else` 밑에 적어주면 됩니다."
   ]
  },
  {
   "cell_type": "code",
   "execution_count": 57,
   "id": "2b8b4427",
   "metadata": {},
   "outputs": [
    {
     "name": "stdout",
     "output_type": "stream",
     "text": [
      "값이 음수입니다.\n"
     ]
    }
   ],
   "source": [
    "x = -1\n",
    "\n",
    "if x >= 0:\n",
    "    print(\"값이 0보다 크거나 같습니다.\")\n",
    "else:\n",
    "    print(\"값이 음수입니다.\")"
   ]
  },
  {
   "cell_type": "markdown",
   "id": "ab1ee7d2",
   "metadata": {},
   "source": [
    "만약 조건이 여러개인 다중 조건을 판단하려면 `if`와 `else`사이에 `elif`를 추가하면 됩니다."
   ]
  },
  {
   "cell_type": "code",
   "execution_count": null,
   "id": "d609e253",
   "metadata": {},
   "outputs": [],
   "source": [
    "if 조건 1:\n",
    "    실행 1\n",
    "elif 조건 2:\n",
    "    실행 2\n",
    "elif 조건 3:\n",
    "    실행 3\n",
    "...\n",
    "else:\n",
    "    실행 n"
   ]
  },
  {
   "cell_type": "markdown",
   "id": "a6dd740a",
   "metadata": {},
   "source": [
    "`if`의 [조건 1]이 False일 경우 바로 아래의 `elif`를 통해 [조건 2]를 판단한다. 만일 [조건 2]가 True일 경우에는 [실행 2]에 해당하는 코드가 실행되지만, False일 경우에는 다시 [조건 3]을 판단한다. 만일 모든 `elif`의 조건이 False일 경우 최종적으로 [실행 n]에 해당하는 코드가 실행되며, `elif`는 개수에 제한 없이 사용할 수 있다."
   ]
  },
  {
   "cell_type": "code",
   "execution_count": 59,
   "id": "02d77786",
   "metadata": {},
   "outputs": [
    {
     "name": "stdout",
     "output_type": "stream",
     "text": [
      "값이 0 이상 10 미만입니다.\n"
     ]
    }
   ],
   "source": [
    "x = 3\n",
    "\n",
    "if x >= 10:\n",
    "    print('값이 10보다 큽니다.')\n",
    "elif x >= 0:\n",
    "    print('값이 0 이상 10 미만입니다.')\n",
    "else:\n",
    "    print('값이 음수입니다.')"
   ]
  },
  {
   "cell_type": "markdown",
   "id": "6c6d7337",
   "metadata": {},
   "source": [
    "조건문이 `if`와 `else`로만 구성될 경우 다음과 같이 간단하게 작성할 수도 있습니다."
   ]
  },
  {
   "cell_type": "code",
   "execution_count": null,
   "id": "f6551899",
   "metadata": {},
   "outputs": [],
   "source": [
    "[조건문이 True인 경우] if 조건문 else [조건문이 False 경우]"
   ]
  },
  {
   "cell_type": "markdown",
   "id": "737ed97e",
   "metadata": {},
   "source": [
    "예제는 다음과 같습니다."
   ]
  },
  {
   "cell_type": "code",
   "execution_count": 60,
   "id": "f4c52257",
   "metadata": {},
   "outputs": [
    {
     "data": {
      "text/plain": [
       "'0 이상'"
      ]
     },
     "execution_count": 60,
     "metadata": {},
     "output_type": "execute_result"
    }
   ],
   "source": [
    "x = 7\n",
    "\n",
    "'0 이상' if x >= 0 else '음수'"
   ]
  },
  {
   "cell_type": "markdown",
   "id": "100867cf",
   "metadata": {},
   "source": [
    "### while문\n",
    "\n",
    "while문, 혹은 반복문은 특정 조건을 만족하는 동안 반복해서 코드를 실행합니다. while문의 기본적인 구조는 다음과 같습니다."
   ]
  },
  {
   "cell_type": "code",
   "execution_count": null,
   "id": "ed86a936",
   "metadata": {},
   "outputs": [],
   "source": [
    "while 조건:\n",
    "    실행"
   ]
  },
  {
   "cell_type": "markdown",
   "id": "1a6f26fc",
   "metadata": {},
   "source": [
    "[조건]에 해당하는 부분이 True인 동안에는 [실행]에 해당하는 코드가 반복해서 수행됩니다. while문도 if문과 마찬가지로 [실행]에 해당하는 부분은 들여쓰기를 해주어야 한다. 예제를 살펴봅시다."
   ]
  },
  {
   "cell_type": "code",
   "execution_count": 61,
   "id": "79aded9f",
   "metadata": {},
   "outputs": [
    {
     "name": "stdout",
     "output_type": "stream",
     "text": [
      "1\n",
      "2\n",
      "3\n",
      "4\n"
     ]
    }
   ],
   "source": [
    "num = 1\n",
    "\n",
    "while num < 5:\n",
    "    print(num)\n",
    "    num = num + 1"
   ]
  },
  {
   "cell_type": "code",
   "execution_count": 62,
   "id": "8c0bba72",
   "metadata": {},
   "outputs": [
    {
     "name": "stdout",
     "output_type": "stream",
     "text": [
      "2은 짝수입니다.\n",
      "4은 짝수입니다.\n",
      "6은 짝수입니다.\n",
      "8은 짝수입니다.\n"
     ]
    }
   ],
   "source": [
    "num = 1\n",
    "\n",
    "while num < 10 :\n",
    "    if num % 2 == 0 :\n",
    "        print(f'{num}은 짝수입니다.')    \n",
    "    num = num + 1"
   ]
  },
  {
   "cell_type": "markdown",
   "id": "e08e4e55",
   "metadata": {},
   "source": [
    "만약 코드가 계속해서 실행되다가 특정 조건을 만족할 경우 멈추게 하고 싶을 경우 if문에 `break`를 사용할 수 있다."
   ]
  },
  {
   "cell_type": "code",
   "execution_count": 63,
   "id": "24dffc21",
   "metadata": {},
   "outputs": [
    {
     "name": "stdout",
     "output_type": "stream",
     "text": [
      "잔액은 900원 입니다.\n",
      "잔액은 800원 입니다.\n",
      "잔액은 700원 입니다.\n",
      "잔액은 600원 입니다.\n",
      "잔액은 500원 입니다.\n",
      "잔액은 400원 입니다.\n",
      "잔액은 300원 입니다.\n",
      "잔액은 200원 입니다.\n",
      "잔액은 100원 입니다.\n",
      "잔액은 0원 입니다.\n"
     ]
    }
   ],
   "source": [
    "money = 1000\n",
    "\n",
    "while True:        \n",
    "    money = money - 100\n",
    "    print(f'잔액은 {money}원 입니다.')\n",
    "    \n",
    "    if money <= 0 : \n",
    "        break"
   ]
  },
  {
   "cell_type": "markdown",
   "id": "7202fa8d",
   "metadata": {},
   "source": [
    "### for문"
   ]
  },
  {
   "cell_type": "markdown",
   "id": "636d8c48",
   "metadata": {},
   "source": [
    "for문은 while문과 동일한 반복문이지만, 조건에 따라 반복되는 것이 아닌 특정 횟수만큼 반복되는 특징이 있습니다. for 문의 기본적인 구조는 다음과 같습니다."
   ]
  },
  {
   "cell_type": "code",
   "execution_count": null,
   "id": "1e0cb80a",
   "metadata": {},
   "outputs": [],
   "source": [
    "for 변수 in 리스트(또는 튜플, 문자열):\n",
    "    실행"
   ]
  },
  {
   "cell_type": "markdown",
   "id": "4510ca05",
   "metadata": {},
   "source": [
    "리스트 또는 튜플, 문자열의 첫 번째 요소부터 마지막 요소까지 차례로 변수에 대입된 후 [실행]에 해당하는 코드가 실행되며, 역시나 들여쓰기를 해야합니다. 예제를 살펴봅시다."
   ]
  },
  {
   "cell_type": "code",
   "execution_count": 64,
   "id": "ed6e5493",
   "metadata": {},
   "outputs": [
    {
     "name": "stdout",
     "output_type": "stream",
     "text": [
      "1\n",
      "2\n",
      "3\n"
     ]
    }
   ],
   "source": [
    "var = [1, 2, 3]\n",
    "\n",
    "for i in var:\n",
    "    print(i)"
   ]
  },
  {
   "cell_type": "code",
   "execution_count": 65,
   "id": "28d9a2d2",
   "metadata": {},
   "outputs": [
    {
     "name": "stdout",
     "output_type": "stream",
     "text": [
      "10는 짝수입니다.\n",
      "15는 홀수입니다.\n",
      "17는 홀수입니다.\n",
      "20는 짝수입니다.\n"
     ]
    }
   ],
   "source": [
    "var = [10, 15, 17, 20]\n",
    "\n",
    "for i in var:\n",
    "    if i % 2 == 0:\n",
    "        print(f'{i}는 짝수입니다.')\n",
    "    else:\n",
    "        print(f'{i}는 홀수입니다.')"
   ]
  },
  {
   "cell_type": "markdown",
   "id": "250e80bb",
   "metadata": {},
   "source": [
    "for문은 `range()` 함수와 함께 사용되는 경우가 많습니다. `range()`함수는 숫자(정수) 리스트를 자동으로 만들어줍니다."
   ]
  },
  {
   "cell_type": "code",
   "execution_count": 66,
   "id": "9bacf4b3",
   "metadata": {},
   "outputs": [
    {
     "data": {
      "text/plain": [
       "range(0, 10)"
      ]
     },
     "execution_count": 66,
     "metadata": {},
     "output_type": "execute_result"
    }
   ],
   "source": [
    "range(10)"
   ]
  },
  {
   "cell_type": "markdown",
   "id": "20acba45",
   "metadata": {},
   "source": [
    "`range()` 함수 내에 10을 입력할 경우 0부터 10 미만의 숫자에 해당하는 range 객체를 만들어 줍니다."
   ]
  },
  {
   "cell_type": "code",
   "execution_count": 67,
   "id": "444b1cdf",
   "metadata": {},
   "outputs": [
    {
     "data": {
      "text/plain": [
       "range(5, 10)"
      ]
     },
     "execution_count": 67,
     "metadata": {},
     "output_type": "execute_result"
    }
   ],
   "source": [
    "range(5, 10)"
   ]
  },
  {
   "cell_type": "markdown",
   "id": "f59dbfa2",
   "metadata": {},
   "source": [
    "시작과 끝 숫자를 지정할 수도 있습니다. `range(5, 10)`을 입력하면 5부터 10 미만의 숫자에 해당하는 range 객체를 만들어 줍니다. `range()` 함수의 예시를 살펴봅시다."
   ]
  },
  {
   "cell_type": "code",
   "execution_count": 68,
   "id": "5481c974",
   "metadata": {},
   "outputs": [
    {
     "name": "stdout",
     "output_type": "stream",
     "text": [
      "0\n",
      "1\n",
      "2\n",
      "3\n",
      "4\n"
     ]
    }
   ],
   "source": [
    "for i in range(5):\n",
    "    print(i)"
   ]
  },
  {
   "cell_type": "code",
   "execution_count": 69,
   "id": "57125f76",
   "metadata": {},
   "outputs": [
    {
     "name": "stdout",
     "output_type": "stream",
     "text": [
      "5\n",
      "6\n",
      "7\n",
      "8\n",
      "9\n"
     ]
    }
   ],
   "source": [
    "for i in range(5, 10):\n",
    "    print(i)"
   ]
  },
  {
   "cell_type": "markdown",
   "id": "093c0e7f",
   "metadata": {},
   "source": [
    "## 함수"
   ]
  },
  {
   "cell_type": "markdown",
   "id": "b5bfa4e6",
   "metadata": {},
   "source": [
    "수학시간에 함수라는 개념을 배웁니다. $y = f(x)$라는 수식이 있을 때 $x$라는 값을 함수 $f$에 입력하면 $y$라는 결과값이 나오는 것입니다.\n",
    "\n",
    "프로그래밍에서의 함수도 이와 비슷합니다. 어떠한 입력값을 함수에 넣으면 이를 토대로 코드가 실행되고, 그 결과를 반환합니다. 함수를 사용하는 이유는 중복된 코드를 계속해서 작성하지 않기 위해서입니다. 만약 반복적으로 사용하는 코드가 있다면 이를 매번 적기 보다는 함수로 만들어두고, 필요할 때마다 함수를 사용하는 것이 효과적입니다.\n",
    "\n",
    "이미 `print()` 와 같은 함수들을 사용해보았습니다. 이처럼 누군가 작성한 패키지 혹은 함수를 찾아 이용할 수 도 있지만, 나만의 함수를 만들어 사용할 수도 있어야 합니다. 파이썬에서 함수를 만드는 방법은 다음과 같습니다."
   ]
  },
  {
   "cell_type": "code",
   "execution_count": null,
   "id": "b51f203c",
   "metadata": {},
   "outputs": [],
   "source": [
    "def f(x):\n",
    "    statement\n",
    "    return y"
   ]
  },
  {
   "cell_type": "markdown",
   "id": "4fa7a20d",
   "metadata": {},
   "source": [
    "1. def 키워드를 통해 함수임을 선언합니다.\n",
    "2. f는 함수명을 뜻합니다.\n",
    "3. x는 함수에 들어가는 매개변수(Parameter)를 뜻합니다.\n",
    "4. 줄을 바꾼 후 들여쓰기를 합니다.\n",
    "5. statement에 해당하는 코드가 실행됩니다.\n",
    "6. return 뒤에 적은 y가 반환되며, 함수가 종료됩니다.\n",
    "\n",
    "예시로 제곱근을 계산하는 함수를 만들어보겠습니다."
   ]
  },
  {
   "cell_type": "code",
   "execution_count": 70,
   "id": "6d5edb9b",
   "metadata": {},
   "outputs": [],
   "source": [
    "def sqrt(x):\n",
    "    result = x ** (1/2)\n",
    "    return result"
   ]
  },
  {
   "cell_type": "code",
   "execution_count": 71,
   "id": "cf92ae0f",
   "metadata": {},
   "outputs": [
    {
     "data": {
      "text/plain": [
       "2.0"
      ]
     },
     "execution_count": 71,
     "metadata": {},
     "output_type": "execute_result"
    }
   ],
   "source": [
    "sqrt(4)"
   ]
  },
  {
   "cell_type": "code",
   "execution_count": 72,
   "id": "e3b0ccfe",
   "metadata": {},
   "outputs": [
    {
     "data": {
      "text/plain": [
       "3.0"
      ]
     },
     "execution_count": 72,
     "metadata": {},
     "output_type": "execute_result"
    }
   ],
   "source": [
    "sqrt(9)"
   ]
  },
  {
   "cell_type": "markdown",
   "id": "21235c7e",
   "metadata": {},
   "source": [
    "이번에는 매개변수가 여러개인 함수를 만들어봅시다."
   ]
  },
  {
   "cell_type": "code",
   "execution_count": 75,
   "id": "4ec40629",
   "metadata": {},
   "outputs": [],
   "source": [
    "def power(x, y):\n",
    "    result = x ** y\n",
    "    return result"
   ]
  },
  {
   "cell_type": "code",
   "execution_count": 77,
   "id": "cc67f604",
   "metadata": {},
   "outputs": [
    {
     "data": {
      "text/plain": [
       "25"
      ]
     },
     "execution_count": 77,
     "metadata": {},
     "output_type": "execute_result"
    }
   ],
   "source": [
    "power(5, 2)"
   ]
  },
  {
   "cell_type": "code",
   "execution_count": 78,
   "id": "11ce764d",
   "metadata": {},
   "outputs": [
    {
     "data": {
      "text/plain": [
       "9"
      ]
     },
     "execution_count": 78,
     "metadata": {},
     "output_type": "execute_result"
    }
   ],
   "source": [
    "power(y=2, x=3)"
   ]
  },
  {
   "cell_type": "markdown",
   "id": "1898e392",
   "metadata": {},
   "source": [
    "매개변수에 디폴트 값을 설정할 수 있습니다. 디폴트 값이 설정된 부분에 값을 입력하지 않을 경우 해당 디폴트 값이 자동으로 입력됩니다. 아래에서 그 예시를 확인할 수 있습니다."
   ]
  },
  {
   "cell_type": "code",
   "execution_count": 79,
   "id": "9281518c",
   "metadata": {},
   "outputs": [],
   "source": [
    "def divide(x, n=2):\n",
    "    result = x / n\n",
    "    return (result)"
   ]
  },
  {
   "cell_type": "code",
   "execution_count": 80,
   "id": "cae815b1",
   "metadata": {},
   "outputs": [
    {
     "data": {
      "text/plain": [
       "1.5"
      ]
     },
     "execution_count": 80,
     "metadata": {},
     "output_type": "execute_result"
    }
   ],
   "source": [
    "divide(3) # 3 / 2"
   ]
  },
  {
   "cell_type": "code",
   "execution_count": 81,
   "id": "1149038e",
   "metadata": {},
   "outputs": [
    {
     "data": {
      "text/plain": [
       "2.0"
      ]
     },
     "execution_count": 81,
     "metadata": {},
     "output_type": "execute_result"
    }
   ],
   "source": [
    "divide(6, 3) # 6 / 3"
   ]
  },
  {
   "cell_type": "markdown",
   "id": "11b4640e",
   "metadata": {},
   "source": [
    "**람다 함수**\n",
    "\n",
    "람다(lambda)를 이용하면 간단하게 함수를 만들 수 있습니다. 람다의 사용법은 다음과 같습니다."
   ]
  },
  {
   "cell_type": "code",
   "execution_count": null,
   "id": "a6538e21",
   "metadata": {},
   "outputs": [],
   "source": [
    "함수명 = lambda 매개변수1, 매개변수2, ...: statement"
   ]
  },
  {
   "cell_type": "markdown",
   "id": "a9398706",
   "metadata": {},
   "source": [
    "나눗셈을 하는 함수를 람드를 통해 만들어보겠습니다."
   ]
  },
  {
   "cell_type": "code",
   "execution_count": 83,
   "id": "e2a85197",
   "metadata": {},
   "outputs": [
    {
     "data": {
      "text/plain": [
       "2.0"
      ]
     },
     "execution_count": 83,
     "metadata": {},
     "output_type": "execute_result"
    }
   ],
   "source": [
    "divide_lam = lambda x, n: x / n\n",
    "\n",
    "divide_lam(6, 3)"
   ]
  },
  {
   "cell_type": "markdown",
   "id": "b65ec3c6",
   "metadata": {},
   "source": [
    "## 패키지 사용하기"
   ]
  },
  {
   "cell_type": "code",
   "execution_count": 84,
   "id": "84ed2ecf",
   "metadata": {},
   "outputs": [],
   "source": [
    "import math"
   ]
  },
  {
   "cell_type": "code",
   "execution_count": 85,
   "id": "8b0e2a49",
   "metadata": {},
   "outputs": [
    {
     "data": {
      "text/plain": [
       "3.141592653589793"
      ]
     },
     "execution_count": 85,
     "metadata": {},
     "output_type": "execute_result"
    }
   ],
   "source": [
    "math.pi"
   ]
  },
  {
   "cell_type": "code",
   "execution_count": 86,
   "id": "b0144ab4",
   "metadata": {},
   "outputs": [
    {
     "data": {
      "text/plain": [
       "3.141592653589793"
      ]
     },
     "execution_count": 86,
     "metadata": {},
     "output_type": "execute_result"
    }
   ],
   "source": [
    "from math import pi\n",
    "pi"
   ]
  },
  {
   "cell_type": "code",
   "execution_count": 87,
   "id": "a472f20e",
   "metadata": {},
   "outputs": [
    {
     "data": {
      "text/plain": [
       "3.141592653589793"
      ]
     },
     "execution_count": 87,
     "metadata": {},
     "output_type": "execute_result"
    }
   ],
   "source": [
    "import math as mt\n",
    "mt.pi"
   ]
  },
  {
   "cell_type": "code",
   "execution_count": 88,
   "id": "a642eba2",
   "metadata": {},
   "outputs": [
    {
     "data": {
      "text/plain": [
       "3.141592653589793"
      ]
     },
     "execution_count": 88,
     "metadata": {},
     "output_type": "execute_result"
    }
   ],
   "source": [
    "import numpy as np\n",
    "np.pi"
   ]
  },
  {
   "cell_type": "markdown",
   "id": "9a92f2b2",
   "metadata": {},
   "source": [
    "## 클래스와 매서드"
   ]
  }
 ],
 "metadata": {
  "kernelspec": {
   "display_name": "Python 3 (ipykernel)",
   "language": "python",
   "name": "python3"
  },
  "language_info": {
   "codemirror_mode": {
    "name": "ipython",
    "version": 3
   },
   "file_extension": ".py",
   "mimetype": "text/x-python",
   "name": "python",
   "nbconvert_exporter": "python",
   "pygments_lexer": "ipython3",
   "version": "3.10.13"
  }
 },
 "nbformat": 4,
 "nbformat_minor": 5
}
