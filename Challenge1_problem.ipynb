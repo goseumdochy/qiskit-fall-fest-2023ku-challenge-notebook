{
 "cells": [
  {
   "cell_type": "markdown",
   "id": "01e0b252",
   "metadata": {},
   "source": [
    "# Qiskit Fall Fest at Korea University 2023\n",
    "\n",
    "![QFF Logo](./images/QFF-logo.png)\n",
    "\n",
    "## Challenge 1: Key concepts of Qiskit"
   ]
  },
  {
   "cell_type": "markdown",
   "id": "41025930",
   "metadata": {},
   "source": [
    "Qiskit Fall Fest at Korea University 2023에 참여해주신 어러분 모두 환영합니다!\n",
    "\n",
    "여러분은 전 세계에서 수천명의 학생들이 참여하는 Qiskit Fall Fest에 참여하고 계십니다. 그리고 특히 고려대학교에서는 양자컴퓨터를 잘 모르는 학우분들에게 양자컴퓨터를 소개하고, 직접 다루어보는 경험을 제공하기 위해 workshop과 challenge 방식으로 Qiskit Fall Fest at Korea University 2023을 기획하게 되었습니다.\n",
    "\n",
    "그동안 워크숍을 듣느라 수고 많으셨습니다! 드디어 마지막 Qiskit Fall Fest at Korea University 2023의 마지막 행사입니다. 이제 여러분께서 배우신 내용들 및 여기 challenge notebook에 있는 설명을 토대로 문제들을 풀어나가는 Challenge 행사가 시작되었습니다\n",
    "\n",
    "각각의 서로 다른 \"challenge\" 파일들은 서로 다룬 주제를 다루고 있습니다. 각각의 challenge 파일들에는 설명과 함께 문제들이 제시되어 있고, 각 문제들에 대한 자동채점기가 존재합니다.\n",
    "\n",
    "각 문제에서 주석에 쓰여 있는 안내대로 답을 적으시면 됩니다. 예를 들어, `## Write your code below here ##` 이라고 쓰여 있는 부분 아래에 코드를 작성하시거나, `# apply an H gate to the circuit` 이라는 주석이 있는 줄에 해당 작업을 수행하시면 됩니다. "
   ]
  },
  {
   "cell_type": "markdown",
   "id": "9a676bdf",
   "metadata": {},
   "source": [
    "Challenge 1은 기초적인 Qiskit의 대표적인 함수들과 클래스들을 살펴보고자 합니다.\n",
    "\n",
    "먼저 아래의 code block에 여러분의 이름, 전공을 작성해주세요."
   ]
  },
  {
   "cell_type": "code",
   "execution_count": null,
   "id": "1d3272f1",
   "metadata": {},
   "outputs": [],
   "source": [
    "event = \"Qiskit Fall Fest at Korea University 2023\"\n",
    "\n",
    "## Write your code below here. Delete the current information and replace it with your own ##\n",
    "## Make sure to write your information between the quotation marks!\n",
    "\n",
    "name = \"Seonggeun Park\"\n",
    "\n",
    "major = \"Electrical Engineering\"\n",
    "\n",
    "school = \"Korea University\"\n",
    "\n",
    "## Now press the \"Run\" button in the toolbar above, or press Shift + Enter while you're active in this cell"
   ]
  },
  {
   "cell_type": "code",
   "execution_count": null,
   "id": "8dce684f",
   "metadata": {},
   "outputs": [],
   "source": [
    "## You do not need to write any code in this cell. Simply run this cell to see your information in a sentence. ##\n",
    "\n",
    "print(f'My name is {name}, My major is {major}.')"
   ]
  },
  {
   "cell_type": "code",
   "execution_count": null,
   "id": "2dadefaf",
   "metadata": {},
   "outputs": [],
   "source": [
    "from qiskit.visualization import array_to_latex\n",
    "from qiskit.quantum_info import Statevector, random_statevector\n",
    "from qiskit.quantum_info.operators import Operator, Pauli\n",
    "from qiskit import QuantumCircuit\n",
    "from qiskit.circuit.library import HGate\n",
    "import numpy as np"
   ]
  },
  {
   "cell_type": "markdown",
   "id": "6f2d3c15",
   "metadata": {},
   "source": [
    "## Part 1: Vectors and Dirac Notation"
   ]
  },
  {
   "cell_type": "markdown",
   "id": "1073592a",
   "metadata": {},
   "source": [
    "워크숍에서 양자 상태와 bra-ket (Dirac) notation에 대하여 다루었습니다.\n",
    "\n",
    "이러한 벡터들을 파이썬에서는 리스트를 이용하여 표현할 수 있습니다.\n",
    "\n",
    "$|0\\rangle$를 파이썬 리스트 자료형을 이용하여 표현하면 다음과 같습니다."
   ]
  },
  {
   "cell_type": "code",
   "execution_count": null,
   "id": "a221bf6f",
   "metadata": {},
   "outputs": [],
   "source": [
    "ket0 = [[1], [0]]"
   ]
  },
  {
   "cell_type": "markdown",
   "id": "c596167f",
   "metadata": {},
   "source": [
    "Qiskit의 visualization 관련 함수를 사용하면 벡터 및 행렬을 보기 좋게 표현할 수 있습니다."
   ]
  },
  {
   "cell_type": "code",
   "execution_count": null,
   "id": "f8e514ea",
   "metadata": {},
   "outputs": [],
   "source": [
    "array_to_latex(ket0)"
   ]
  },
  {
   "cell_type": "markdown",
   "id": "f3930612",
   "metadata": {},
   "source": [
    "이를 bra vector인 $\\langle 0|$에 대해서도 할 수 있습니다."
   ]
  },
  {
   "cell_type": "code",
   "execution_count": null,
   "id": "8320f991",
   "metadata": {},
   "outputs": [],
   "source": [
    "bra0 = [1, 0]\n",
    "array_to_latex(bra0)"
   ]
  },
  {
   "cell_type": "markdown",
   "id": "242e1af6",
   "metadata": {},
   "source": [
    "<div class=\"alert alert-block alert-success\"> Ex 1 - 파이썬 리스트를 이용하여 $|1\\rangle$ and $\\langle1|$ 벡터들을 표현하세요. </div>"
   ]
  },
  {
   "cell_type": "code",
   "execution_count": null,
   "id": "d72e3911",
   "metadata": {},
   "outputs": [],
   "source": [
    "ket1 = # |1⟩ 에 해당하는 답을 입력하세요\n",
    "bra1 = # ⟨1| 에 해당하는 답을 입력하세요"
   ]
  },
  {
   "cell_type": "code",
   "execution_count": null,
   "id": "03ce40f9",
   "metadata": {},
   "outputs": [],
   "source": [
    "# Grader Cell\n",
    "\n",
    "from qff_ku_grader.challenges.qff_ku2023 import grade_challenge1a\n",
    "\n",
    "grade_challenge1a([ket1, bra1])"
   ]
  },
  {
   "cell_type": "markdown",
   "id": "b2690473",
   "metadata": {},
   "source": [
    "## Part 2: Qiskit `Statevector` Class\n",
    "\n",
    "이번에는 `Statevector` 클래스에 대해서 다루어 보겠습니다.\n",
    "\n",
    "Qiskit의 `Statevector` 클래스는 여러 종류의 데이터(예를 들어, 파이썬 리스트 자료형, numpy array 등)가 파라미터로 입력될 수 있습니다.\n",
    "\n",
    "이전에 생성하였던 `bra0`를 `Statevector` 객체로 바꾸어 보겠습니다."
   ]
  },
  {
   "cell_type": "code",
   "execution_count": null,
   "id": "403f9883",
   "metadata": {},
   "outputs": [],
   "source": [
    "sv_ket0 = Statevector(ket0)\n",
    "\n",
    "sv_ket0"
   ]
  },
  {
   "cell_type": "markdown",
   "id": "c72a34d0",
   "metadata": {},
   "source": [
    "`Statevector` 클래스는 `draw()` 매서드를 갖고 있습니다."
   ]
  },
  {
   "cell_type": "code",
   "execution_count": null,
   "id": "37109a0a",
   "metadata": {},
   "outputs": [],
   "source": [
    "sv_ket0.draw('latex')"
   ]
  },
  {
   "cell_type": "markdown",
   "id": "4135cd90",
   "metadata": {},
   "source": [
    "여러 qubits의 복잡한 statevector도 생성할 수 있습니다."
   ]
  },
  {
   "cell_type": "code",
   "execution_count": null,
   "id": "7d996d0f",
   "metadata": {},
   "outputs": [],
   "source": [
    "sv_eq = Statevector([1/2, 3/4, 4/5, 6/8])\n",
    "\n",
    "sv_eq.draw('latex')"
   ]
  },
  {
   "cell_type": "markdown",
   "id": "4a6fe337",
   "metadata": {},
   "source": [
    "Normalized 되어 있지 않은(크기가 1이 아닌) 벡터는 허용되는 양자 상태가 아닙니다. 이것을 `is_valid()` 매서드로 확인할 수 있습니다."
   ]
  },
  {
   "cell_type": "code",
   "execution_count": null,
   "id": "1e76fb34",
   "metadata": {},
   "outputs": [],
   "source": [
    "sv_eq.is_valid()"
   ]
  },
  {
   "cell_type": "markdown",
   "id": "e007b4a3",
   "metadata": {},
   "source": [
    "<div class=\"alert alert-block alert-success\"> `Statevector` 클래스를 이용하여 본인만의 valid statevector를 만들어주세요. </div>"
   ]
  },
  {
   "cell_type": "code",
   "execution_count": null,
   "id": "58952778",
   "metadata": {},
   "outputs": [],
   "source": [
    "sv_valid = # create your statevector here"
   ]
  },
  {
   "cell_type": "code",
   "execution_count": null,
   "id": "849093be",
   "metadata": {},
   "outputs": [],
   "source": [
    "# Grader Cell\n",
    "\n",
    "from qff_ku_grader.challenges.qff_ku2023 import grade_challenge1b\n",
    "\n",
    "grade_challenge1b(sv_valid)"
   ]
  },
  {
   "cell_type": "markdown",
   "id": "c6db7dc3",
   "metadata": {},
   "source": [
    "## Part 3: Qiskit `Operator` Class\n",
    "\n",
    "`Operator` class는 양자 시스템에 가해지는 행렬 연산을 표현합니다. 이러한 연산자들을 생성하는 방법은 다양합니다.\n",
    "\n",
    "그 중 한 방법은 파이썬 리스트를 이용하여 초기화하는 방법입니다."
   ]
  },
  {
   "cell_type": "code",
   "execution_count": null,
   "id": "e8150d04",
   "metadata": {},
   "outputs": [],
   "source": [
    "op_bra0 = Operator(bra0)\n",
    "\n",
    "op_bra0"
   ]
  },
  {
   "cell_type": "markdown",
   "id": "2bbf7f92",
   "metadata": {},
   "source": [
    "`Operator` 클래스는 여러 연산자들 사이의 작업을 손쉽게 할 수 있도록 합니다. 예를 들어 2개의 연산자를 tensor product 해주는 `tensor()` 메서드가 있습니다."
   ]
  },
  {
   "cell_type": "code",
   "execution_count": null,
   "id": "791ec521",
   "metadata": {},
   "outputs": [],
   "source": [
    "op_ket0 = Operator(ket0)\n",
    "op_bra0.tensor(op_ket0)"
   ]
  },
  {
   "cell_type": "markdown",
   "id": "13e7e3fa",
   "metadata": {},
   "source": [
    "밑에서 계속해서 `Operator`와 `Statevector`클래스를 이용할 예정입니다."
   ]
  },
  {
   "cell_type": "markdown",
   "id": "ed0f39fc",
   "metadata": {},
   "source": [
    "## Part 4: Inner & Outer Product\n",
    "\n",
    "워크숍에서 inner product와 outer product에 대해서 다루었습니다. 파이썬에서는 inner product와 outer product를 numpy의 `.dot()` 매서드와 `.outer()`매서드를 이용하여 할 수 있습니다.\n",
    "\n",
    "예를 들어 inner product $\\langle0|0\\rangle$은 다음과 같이 할 수 있습니다."
   ]
  },
  {
   "cell_type": "code",
   "execution_count": null,
   "id": "ef036285",
   "metadata": {},
   "outputs": [],
   "source": [
    "braket = np.dot(bra0, ket0)\n",
    "array_to_latex(braket)"
   ]
  },
  {
   "cell_type": "markdown",
   "id": "7486b023",
   "metadata": {},
   "source": [
    "그리고 outer product $|0\\rangle\\langle0|$는 다음과 같이 구할 수 있습니다."
   ]
  },
  {
   "cell_type": "code",
   "execution_count": null,
   "id": "e086edf3",
   "metadata": {},
   "outputs": [],
   "source": [
    "ketbra = np.outer(ket0, bra0)\n",
    "array_to_latex(ketbra)"
   ]
  },
  {
   "cell_type": "markdown",
   "id": "1a7e5cee",
   "metadata": {},
   "source": [
    "<div class=\"alert alert-block alert-success\"> Ex 3 - numpy를 이용하여 다음의 inner product와 outer product의 결과를 구하세요: $\\langle1|0\\rangle, \\langle0|1\\rangle, \\langle1|1\\rangle, |1\\rangle\\langle0|, |0\\rangle\\langle1|$, $|1\\rangle\\langle1| $ </div>"
   ]
  },
  {
   "cell_type": "code",
   "execution_count": null,
   "id": "73cd04d8",
   "metadata": {},
   "outputs": [],
   "source": [
    "bra1ket0 = # put your answer for ⟨1|0⟩ here\n",
    "\n",
    "bra0ket1 = # put your answer for ⟨0|1⟩ here\n",
    "\n",
    "bra1ket1 = # put your answer for ⟨1|1⟩ here\n",
    "\n",
    "ket1bra0 = # put your answer for |1⟩⟨0| here\n",
    "\n",
    "ket0bra1 = # put your answer for |0⟩⟨1| here\n",
    "\n",
    "ket1bra1 = # put your answer for |1⟩⟨1| here\n",
    "\n",
    "print([bra1ket0, bra0ket1, bra1ket1, ket1bra0, ket0bra1, ket1bra1])"
   ]
  },
  {
   "cell_type": "code",
   "execution_count": null,
   "id": "1f3fe964",
   "metadata": {},
   "outputs": [],
   "source": [
    "# Grader Cell\n",
    "\n",
    "from qff_ku_grader.challenges.qff_ku2023 import grade_challenge1c\n",
    "\n",
    "grade_challenge1c([bra1ket0, bra0ket1, bra1ket1, ket1bra0, ket0bra1, ket1bra1])"
   ]
  },
  {
   "cell_type": "markdown",
   "id": "11d6ed1d",
   "metadata": {},
   "source": [
    "<div class=\"alert alert-block alert-success\"> \n",
    "    <p> Ex 4 - 2개의 양자상태의 inner product가 0일 때, 두 상태는 서로 orthogonal 하다고 말합니다. 다음 중 어떠한 양자 상태들이 orthogonal 한가요? </p>\n",
    "    <p>a) $\\vert 0\\rangle$, $\\vert 1\\rangle$ </p>\n",
    "    <p>b) $\\vert 0\\rangle$, $\\vert 0\\rangle$ </p>\n",
    "    <p>c) $\\vert 1\\rangle$, $\\vert 1\\rangle$ </p>\n",
    "</div>"
   ]
  },
  {
   "cell_type": "code",
   "execution_count": null,
   "id": "9eab55a2",
   "metadata": {},
   "outputs": [],
   "source": [
    "# add or remove your answer from this list\n",
    "answer = ['a', 'b', 'c']"
   ]
  },
  {
   "cell_type": "code",
   "execution_count": null,
   "id": "71745331",
   "metadata": {},
   "outputs": [],
   "source": [
    "# Grader Cell\n",
    "\n",
    "from qff_ku_grader.challenges.qff_ku2023 import grade_challenge1d\n",
    "\n",
    "grade_challenge1d(answer)"
   ]
  },
  {
   "cell_type": "markdown",
   "id": "4f214c38",
   "metadata": {},
   "source": [
    "## Part 5: Deterministic operations\n",
    "\n",
    "결정론적인 단일 qubit 연산자로는 다음의 4가지가 있습니다.\n",
    "\n",
    "f1 = constant-0  \n",
    "f2 = identity  \n",
    "f3 = bit flip / not  \n",
    "f4 = constant-1\n",
    "\n",
    "$$\n",
    "\\begin{array}{c|c}\n",
    "  a & f_1(a)\\\\\n",
    "  \\hline\n",
    "  |0\\rangle & |0\\rangle\\\\\n",
    "  |1\\rangle & |0\\rangle\n",
    "\\end{array}\n",
    "\\qquad\n",
    "\\begin{array}{c|c}\n",
    "  a & f_2(a)\\\\\n",
    "  \\hline\n",
    "  |0\\rangle & |0\\rangle\\\\\n",
    "  |1\\rangle & |1\\rangle\n",
    "\\end{array}\n",
    "\\qquad\n",
    "\\begin{array}{c|c}\n",
    "  a & f_3(a)\\\\\n",
    "  \\hline\n",
    "  |0\\rangle & |1\\rangle\\\\\n",
    "  |1\\rangle & |0\\rangle\n",
    "\\end{array}\n",
    "\\qquad\n",
    "\\begin{array}{c|c}\n",
    "  a & f_4(a)\\\\\n",
    "  \\hline\n",
    "  |0\\rangle & |1\\rangle\\\\\n",
    "  |1\\rangle & |1\\rangle\n",
    "\\end{array}\n",
    "$$\n",
    "\n",
    "위의 각 연산자들은 행렬로 표현할 수 있습니다. 그 행렬을 `Operator` 클래스의 입력으로 넣어주면 Qiskit Operators를 사용하여 위의 4가지 연산을 만들 수 있습니다.\n",
    "\n",
    "E.g. constant-0 은 다음과 같은 행렬을 통해 만들 수 있습니다."
   ]
  },
  {
   "cell_type": "code",
   "execution_count": null,
   "id": "8ab81455",
   "metadata": {},
   "outputs": [],
   "source": [
    "m1 = Operator([[1,1],[0,0]])\n",
    "array_to_latex(m1)"
   ]
  },
  {
   "cell_type": "markdown",
   "id": "85f9d8cf",
   "metadata": {},
   "source": [
    "위와 비슷하게 세번째 연산자는 아래와 같이 만들 수 있습니다."
   ]
  },
  {
   "cell_type": "code",
   "execution_count": null,
   "id": "a899976a",
   "metadata": {},
   "outputs": [],
   "source": [
    "m3 = Operator([[0,1],[1,0]])\n",
    "array_to_latex(m3)"
   ]
  },
  {
   "cell_type": "markdown",
   "id": "e1829e45",
   "metadata": {},
   "source": [
    "아래와 같은 식을 계산하기 위해서 파이썬에 내장되어 있는 연산들을 사용할 수 있습니다.(예를 들어, `@`, `.dot()`, 또는 `.matmul`)\n",
    "$ M|a\\rangle = f|a\\rangle $\n",
    "\n",
    "e.g. $ M_{1}|0\\rangle = f_{1}|0\\rangle = |0\\rangle$"
   ]
  },
  {
   "cell_type": "code",
   "execution_count": null,
   "id": "17d2012d",
   "metadata": {},
   "outputs": [],
   "source": [
    "array_to_latex(m1@ket0)"
   ]
  },
  {
   "cell_type": "markdown",
   "id": "10f93589",
   "metadata": {},
   "source": [
    "위 식은 $M_{1}|0\\rangle = \\begin{bmatrix}1&1\\\\0&0\\\\ \\end{bmatrix} \\begin{bmatrix}1\\\\0\\\\ \\end{bmatrix} = \\begin{bmatrix}1\\\\0\\\\ \\end{bmatrix} = |0\\rangle$를 의미하는 것입니다."
   ]
  },
  {
   "cell_type": "markdown",
   "id": "b6087749",
   "metadata": {},
   "source": [
    "<div class=\"alert alert-block alert-success\"> Ex 5 - m2와 m4에 대한 Qiskit Operators를 만드세요.</div>"
   ]
  },
  {
   "cell_type": "code",
   "execution_count": null,
   "id": "b3884c5a",
   "metadata": {},
   "outputs": [],
   "source": [
    "m2 = # create an operator for m2 here\n",
    "m4 = # create and operator for m4 here"
   ]
  },
  {
   "cell_type": "code",
   "execution_count": null,
   "id": "8ddf6245",
   "metadata": {},
   "outputs": [],
   "source": [
    "# Grader Cell\n",
    "\n",
    "from qff_ku_grader.challenges.qff_ku2023 import grade_challenge1e\n",
    "\n",
    "grade_challenge1e([m2, m4])"
   ]
  },
  {
   "cell_type": "markdown",
   "id": "b9a9fe6f",
   "metadata": {},
   "source": [
    "## Part 6: Unitary Operations\n",
    "\n",
    "어떠한 operator $U$가 다음 조건을 만족할 때 unitary라고 부릅니다 : $ UU^{\\dagger} = \\mathbb{1} = U^{\\dagger} U$\n",
    "\n",
    "어떠한 operator 가 Unitary인지 확인하기 위해서는 `is_unitary()` 매서드를 사용할 수 있습니다."
   ]
  },
  {
   "cell_type": "code",
   "execution_count": null,
   "id": "96d08a8a",
   "metadata": {},
   "outputs": [],
   "source": [
    "m3.is_unitary()"
   ]
  },
  {
   "cell_type": "code",
   "execution_count": null,
   "id": "05b4448d",
   "metadata": {},
   "outputs": [],
   "source": [
    "m1.is_unitary()"
   ]
  },
  {
   "cell_type": "code",
   "execution_count": null,
   "id": "ab2ac893",
   "metadata": {},
   "outputs": [],
   "source": [
    "random = Operator(np.array([[ 0.50778085-0.44607116j, -0.1523741 +0.14128434j,  0.44607116+0.50778085j,\n",
    "  -0.14128434-0.1523741j ],\n",
    " [ 0.16855994+0.12151822j,  0.55868196+0.38038841j, -0.12151822+0.16855994j,\n",
    "  -0.38038841+0.55868196j],\n",
    " [ 0.50778085-0.44607116j, -0.1523741 +0.14128434j, -0.44607116-0.50778085j,\n",
    "   0.14128434+0.1523741j ],\n",
    " [ 0.16855994+0.12151822j,  0.55868196+0.38038841j,  0.12151822-0.16855994j,\n",
    "   0.38038841-0.55868196j]]))\n",
    "\n",
    "random.is_unitary()"
   ]
  },
  {
   "cell_type": "markdown",
   "id": "9f0b3869",
   "metadata": {},
   "source": [
    "<div class=\"alert alert-block alert-success\"> Ex 6 - `Operator` 클래스를 이용하여 unitary가 아닌 연산자를 만드세요</div>"
   ]
  },
  {
   "cell_type": "code",
   "execution_count": null,
   "id": "7d497271",
   "metadata": {},
   "outputs": [],
   "source": [
    "non_unitary_op = # create your operator here"
   ]
  },
  {
   "cell_type": "code",
   "execution_count": null,
   "id": "21ddc3aa",
   "metadata": {},
   "outputs": [],
   "source": [
    "# Grader Cell\n",
    "\n",
    "from qff_ku_grader.challenges.qff_ku2023 import grade_challenge1f\n",
    "\n",
    "grade_challenge1f(non_unitary_op)"
   ]
  },
  {
   "cell_type": "markdown",
   "id": "8a7fec4f",
   "metadata": {},
   "source": [
    "### Qubit Unitary Operations - Pauli Operations"
   ]
  },
  {
   "cell_type": "markdown",
   "id": "0a7b0e6b",
   "metadata": {},
   "source": [
    "양자컴퓨터에서 많이 사용하는 unitary 연산 중에 Pauli operation이 있습니다. Qiskit의 `Pauli` 클래스를 이용하여 쉽게 Pauli operator를 만들 수 있습니다."
   ]
  },
  {
   "cell_type": "markdown",
   "id": "371d6b71",
   "metadata": {},
   "source": [
    "E.g. Pauli X ($\\sigma_x$), the bit flip:"
   ]
  },
  {
   "cell_type": "code",
   "execution_count": null,
   "id": "a35f901a",
   "metadata": {},
   "outputs": [],
   "source": [
    "pauli_x = Pauli('X')\n",
    "\n",
    "array_to_latex(pauli_x)"
   ]
  },
  {
   "cell_type": "markdown",
   "id": "ca5aefff",
   "metadata": {},
   "source": [
    "Pauli Y ($\\sigma_y$):"
   ]
  },
  {
   "cell_type": "code",
   "execution_count": null,
   "id": "a8e0d462",
   "metadata": {},
   "outputs": [],
   "source": [
    "pauli_y = Pauli('Y')\n",
    "\n",
    "array_to_latex(pauli_y)"
   ]
  },
  {
   "cell_type": "markdown",
   "id": "9fd41111",
   "metadata": {},
   "source": [
    "Pauli Z ($\\sigma_z$), the phase flip:"
   ]
  },
  {
   "cell_type": "code",
   "execution_count": null,
   "id": "59a9d705",
   "metadata": {},
   "outputs": [],
   "source": [
    "pauli_z = Pauli('Z')\n",
    "\n",
    "array_to_latex(pauli_z)"
   ]
  },
  {
   "cell_type": "markdown",
   "id": "90341d23",
   "metadata": {},
   "source": [
    "`Operator` 클래스와 `Pauli` 클래스를 같이 사용할 수 있습니다."
   ]
  },
  {
   "cell_type": "code",
   "execution_count": null,
   "id": "5a1be46c",
   "metadata": {},
   "outputs": [],
   "source": [
    "op_x = Operator(pauli_x)\n",
    "\n",
    "op_x"
   ]
  },
  {
   "cell_type": "markdown",
   "id": "5256c6dd",
   "metadata": {},
   "source": [
    "$\\sigma_x|0\\rangle$ 의 결과를 보기 위해 `Operator` 클래스와 numpy를 이용해봅시다."
   ]
  },
  {
   "cell_type": "code",
   "execution_count": null,
   "id": "98568bc2",
   "metadata": {},
   "outputs": [],
   "source": [
    "op_new = np.dot(op_x,ket0)\n",
    "\n",
    "array_to_latex(op_new)"
   ]
  },
  {
   "cell_type": "markdown",
   "id": "407f860d",
   "metadata": {},
   "source": [
    "<div class=\"alert alert-block alert-success\"> Ex 7 - numpy를 이용하여 $|1\\rangle$ 상태에 Pauli-Z 연산을 가해봅시다. </div>"
   ]
  },
  {
   "cell_type": "code",
   "execution_count": null,
   "id": "40540ff9",
   "metadata": {},
   "outputs": [],
   "source": [
    "result = # do your operations here\n",
    "array_to_latex(result)"
   ]
  },
  {
   "cell_type": "code",
   "execution_count": null,
   "id": "c47fcd03",
   "metadata": {},
   "outputs": [],
   "source": [
    "# Grader Cell\n",
    "\n",
    "from qff_ku_grader.challenges.qff_ku2023 import grade_challenge1g\n",
    "\n",
    "grade_challenge1g(result)"
   ]
  },
  {
   "cell_type": "markdown",
   "id": "78c00c47",
   "metadata": {},
   "source": [
    "### Qubit Unitary Operations - Hadamard"
   ]
  },
  {
   "cell_type": "markdown",
   "id": "d2a3d73a",
   "metadata": {},
   "source": [
    "Hadamard gate는 양자 컴퓨팅에서 가장 중요한 unitary 연산자 중에 하나입니다. Qiskit's circuit library를 이용하여 Hadamard gate를 살펴봅시다. "
   ]
  },
  {
   "cell_type": "code",
   "execution_count": null,
   "id": "e347eeb5",
   "metadata": {},
   "outputs": [],
   "source": [
    "hadamard = HGate()\n",
    "\n",
    "array_to_latex(hadamard)"
   ]
  },
  {
   "cell_type": "markdown",
   "id": "6b8042bb",
   "metadata": {},
   "source": [
    "`Operator`연산자를 이용하여 Qiskit의 많은 클래스의 연산자들을 Operator 클래스로 바꿀 수 있습니다."
   ]
  },
  {
   "cell_type": "code",
   "execution_count": null,
   "id": "fe1cec9f",
   "metadata": {},
   "outputs": [],
   "source": [
    "hop = Operator(hadamard)\n",
    "hop.is_unitary()"
   ]
  }
 ],
 "metadata": {
  "kernelspec": {
   "display_name": "Python 3 (ipykernel)",
   "language": "python",
   "name": "python3"
  },
  "language_info": {
   "codemirror_mode": {
    "name": "ipython",
    "version": 3
   },
   "file_extension": ".py",
   "mimetype": "text/x-python",
   "name": "python",
   "nbconvert_exporter": "python",
   "pygments_lexer": "ipython3",
   "version": "3.11.5"
  }
 },
 "nbformat": 4,
 "nbformat_minor": 5
}
