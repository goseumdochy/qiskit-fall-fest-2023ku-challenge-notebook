{
 "cells": [
  {
   "cell_type": "markdown",
   "id": "c44da939",
   "metadata": {},
   "source": [
    "# Qiskit Fall Fest at Korea University 2023\n",
    "\n",
    "![QFF Logo](images/QFF-logo.png)\n",
    "\n",
    "## Challenge 2: The Quantum Enigmas"
   ]
  },
  {
   "cell_type": "markdown",
   "id": "978089a9",
   "metadata": {},
   "source": [
    "<center>\n",
    "<img src=\"images/qe-logo.png\" width=\"50%\">\n",
    "</center>"
   ]
  },
  {
   "cell_type": "markdown",
   "id": "c968e838",
   "metadata": {},
   "source": [
    "이번 챌린지는 Institut Quantique at Sherbrooke University에서 만든 Quantum Enigmas YouTube series를 기반으로 구성되었습니다. **Quantum Enigmas series의 영상인 [001 video](https://www.youtube.com/watch?v=c1beJIg8lRs)을 보시길 바랍니다.** 이번 챌린지는 이 영상을 보지 않으면 내용을 이해하는데 혼돈이 생길 수 있습니다.\n",
    "\n",
    "**Click here to watch ---> [Quantum Enigmas Episode 001](https://www.youtube.com/watch?v=c1beJIg8lRs)**\n",
    "\n",
    "영상을 보신 이후에 Part1을 시작하시길 바랍니다!"
   ]
  },
  {
   "cell_type": "code",
   "execution_count": 2,
   "id": "7c18089b",
   "metadata": {},
   "outputs": [
    {
     "name": "stdout",
     "output_type": "stream",
     "text": [
      "env: QC_GRADE_ONLY=true\n",
      "env: QC_GRADING_ENDPOINT=https://qac-grading.quantum-computing.ibm.com\n"
     ]
    }
   ],
   "source": [
    "## Run this cell to make sure your grader is setup correctly\n",
    "\n",
    "%set_env QC_GRADE_ONLY=true\n",
    "%set_env QC_GRADING_ENDPOINT=https://qac-grading.quantum-computing.ibm.com"
   ]
  },
  {
   "cell_type": "code",
   "execution_count": null,
   "id": "5f417b86",
   "metadata": {},
   "outputs": [],
   "source": []
  }
 ],
 "metadata": {
  "kernelspec": {
   "display_name": "Python 3 (ipykernel)",
   "language": "python",
   "name": "python3"
  },
  "language_info": {
   "codemirror_mode": {
    "name": "ipython",
    "version": 3
   },
   "file_extension": ".py",
   "mimetype": "text/x-python",
   "name": "python",
   "nbconvert_exporter": "python",
   "pygments_lexer": "ipython3",
   "version": "3.10.13"
  }
 },
 "nbformat": 4,
 "nbformat_minor": 5
}
