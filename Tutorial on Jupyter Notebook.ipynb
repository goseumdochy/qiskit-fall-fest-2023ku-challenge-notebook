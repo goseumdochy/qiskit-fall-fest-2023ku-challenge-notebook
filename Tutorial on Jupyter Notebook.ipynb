{
 "cells": [
  {
   "cell_type": "markdown",
   "id": "6edb5938",
   "metadata": {},
   "source": [
    "# Jupyter Notebook 튜토리얼"
   ]
  },
  {
   "cell_type": "markdown",
   "id": "a2f4eb0d",
   "metadata": {},
   "source": [
    "## For the summary keyboard shortcuts, use `Help` $\\rightarrow$ `Keyboard shorcuts`"
   ]
  },
  {
   "cell_type": "markdown",
   "id": "d0ddd86f",
   "metadata": {},
   "source": [
    "* * *"
   ]
  },
  {
   "cell_type": "markdown",
   "id": "53855ebf",
   "metadata": {},
   "source": [
    "## 모드"
   ]
  },
  {
   "cell_type": "markdown",
   "id": "7f7c474d",
   "metadata": {},
   "source": [
    "#### 커맨드 모드, Command Mode (`Esc` 키를 눌러 커맨드 모드로 전환합니다)\n",
    "- 새로운 셀 추가하기\n",
    "    - 위에 추가: `a` 누르기\n",
    "    - 아래에 추가: `b` 누르기\n",
    "- 선택된 셀 삭제하기\n",
    "    - `d` `d` 누르기 (`d`키 연속해서 두 번 누르기)"
   ]
  },
  {
   "cell_type": "markdown",
   "id": "c7107db8",
   "metadata": {},
   "source": [
    "#### 수정 모드, Edit Mode (`Enter` 키를 눌러 수정모드로 전환합니다)"
   ]
  },
  {
   "cell_type": "markdown",
   "id": "320d535b",
   "metadata": {},
   "source": [
    "* * *"
   ]
  },
  {
   "cell_type": "markdown",
   "id": "e8a66944",
   "metadata": {},
   "source": [
    "## `Shift+Enter`를 눌러 해당 셀을 실행시킵니다."
   ]
  },
  {
   "cell_type": "markdown",
   "id": "b894fe68",
   "metadata": {},
   "source": [
    "* * *"
   ]
  },
  {
   "cell_type": "markdown",
   "id": "b03032cc",
   "metadata": {},
   "source": [
    "## 셀 종류"
   ]
  },
  {
   "cell_type": "markdown",
   "id": "497d58bb",
   "metadata": {},
   "source": [
    "#### 코드 셀 (`Y` 키를 눌러 코드 셀로 변경합니다)\n",
    "- 실행시킬 수 있는 코드를 담는 셀입니다."
   ]
  },
  {
   "cell_type": "markdown",
   "id": "007dabf2",
   "metadata": {},
   "source": [
    "#### 마크다운 셀 (`M` 키를 눌러 마크다운 셀로 변경합니다)\n",
    "- HTML 과 비슷합니다.\n",
    "- latex equation을 넣기 위해서는 `$`로 식을 둘러싸야 합니다.\n",
    "- 예시, $\\frac{1}{2}$, $|\\psi \\rangle$"
   ]
  },
  {
   "cell_type": "markdown",
   "id": "63b39c41",
   "metadata": {},
   "source": [
    "* * *"
   ]
  }
 ],
 "metadata": {
  "kernelspec": {
   "display_name": "Python 3 (ipykernel)",
   "language": "python",
   "name": "python3"
  },
  "language_info": {
   "codemirror_mode": {
    "name": "ipython",
    "version": 3
   },
   "file_extension": ".py",
   "mimetype": "text/x-python",
   "name": "python",
   "nbconvert_exporter": "python",
   "pygments_lexer": "ipython3",
   "version": "3.10.13"
  }
 },
 "nbformat": 4,
 "nbformat_minor": 5
}
